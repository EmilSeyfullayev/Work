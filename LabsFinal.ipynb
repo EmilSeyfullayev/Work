{
  "nbformat": 4,
  "nbformat_minor": 0,
  "metadata": {
    "colab": {
      "name": "LabsFinal.ipynb",
      "provenance": [],
      "collapsed_sections": [],
      "mount_file_id": "1A5rSbeRH7A9cy6QQKIwAryx3yPPJBMgv",
      "authorship_tag": "ABX9TyOdgiQMkPwNmVs1aPi9upCi",
      "include_colab_link": true
    },
    "kernelspec": {
      "name": "python3",
      "display_name": "Python 3"
    },
    "language_info": {
      "name": "python"
    }
  },
  "cells": [
    {
      "cell_type": "markdown",
      "metadata": {
        "id": "view-in-github",
        "colab_type": "text"
      },
      "source": [
        "<a href=\"https://colab.research.google.com/github/EmilSeyfullayev/Work/blob/main/LabsFinal.ipynb\" target=\"_parent\"><img src=\"https://colab.research.google.com/assets/colab-badge.svg\" alt=\"Open In Colab\"/></a>"
      ]
    },
    {
      "cell_type": "code",
      "metadata": {
        "id": "zV_f9KrojRZY"
      },
      "source": [
        "!pip install -U -q PyDrive\n",
        "\n",
        "import httplib2\n",
        "import json\n",
        "\n",
        "from google.colab import auth\n",
        "from oauth2client import GOOGLE_REVOKE_URI, GOOGLE_TOKEN_URI, client\n",
        "from oauth2client.client import GoogleCredentials\n",
        "from pydrive.auth import GoogleAuth\n",
        "from pydrive.drive import GoogleDrive\n",
        "\n",
        "auth_key = {\n",
        "  \"client_id\": \"32555940559.apps.googleusercontent.com\",\n",
        "  \"client_secret\": \"ZmssLNjJy2998hD4CTg2ejr2\",\n",
        "  \"refresh_token\": \"1//06hedqxOIGekeCgYIARAAGAYSNwF-L9IrAxxREv_1g19WnH3FpOxWPWzVHz65LKSKK1NxM-laV2hCWJWTu5a27YwI2M2F4VH6AlQ\"\n",
        "}\n",
        "\n",
        "credentials = client.OAuth2Credentials(\n",
        "    access_token=None,\n",
        "    client_id=auth_key['client_id'],\n",
        "    client_secret=auth_key['client_secret'],\n",
        "    refresh_token=auth_key['refresh_token'],\n",
        "    token_expiry=None,\n",
        "    token_uri=GOOGLE_TOKEN_URI,\n",
        "    user_agent=None,\n",
        "    revoke_uri=GOOGLE_REVOKE_URI)\n",
        "\n",
        "credentials.refresh(httplib2.Http())\n",
        "credentials.authorize(httplib2.Http())\n",
        "cred = json.loads(credentials.to_json())\n",
        "cred['type'] = 'authorized_user'\n",
        "\n",
        "with open('adc.json', 'w') as outfile:\n",
        "  json.dump(cred, outfile)\n",
        "\n",
        "from google.colab import auth\n",
        "auth.authenticate_user()\n",
        "\n"
      ],
      "execution_count": null,
      "outputs": []
    },
    {
      "cell_type": "code",
      "metadata": {
        "id": "6DR3tDKrOPCW"
      },
      "source": [
        "import pandas as pd"
      ],
      "execution_count": null,
      "outputs": []
    },
    {
      "cell_type": "code",
      "metadata": {
        "id": "oIrmYw_qOvwA"
      },
      "source": [
        "df1 = pd.read_excel(\"/content/drive/MyDrive/Laboratoriya analitika/1_lab.xlsx\")\n",
        "df2 = pd.read_excel(\"/content/drive/MyDrive/Laboratoriya analitika/2_lab.xlsx\")"
      ],
      "execution_count": null,
      "outputs": []
    },
    {
      "cell_type": "code",
      "source": [
        "df1.shape"
      ],
      "metadata": {
        "colab": {
          "base_uri": "https://localhost:8080/"
        },
        "id": "n9YKqwE-rwqh",
        "outputId": "4726f843-c054-4f75-b656-a5aac794aa67"
      },
      "execution_count": null,
      "outputs": [
        {
          "output_type": "execute_result",
          "data": {
            "text/plain": [
              "(217717, 22)"
            ]
          },
          "metadata": {},
          "execution_count": 4
        }
      ]
    },
    {
      "cell_type": "code",
      "source": [
        "df2.shape"
      ],
      "metadata": {
        "colab": {
          "base_uri": "https://localhost:8080/"
        },
        "id": "xtsq2VtkrwQU",
        "outputId": "18a1a69e-4894-49fe-d8b3-34b6b77858e1"
      },
      "execution_count": null,
      "outputs": [
        {
          "output_type": "execute_result",
          "data": {
            "text/plain": [
              "(240950, 22)"
            ]
          },
          "metadata": {},
          "execution_count": 5
        }
      ]
    },
    {
      "cell_type": "code",
      "source": [
        "df2"
      ],
      "metadata": {
        "colab": {
          "base_uri": "https://localhost:8080/",
          "height": 1000
        },
        "id": "DLihyNuKsV1U",
        "outputId": "62f288bb-6434-4843-f5d7-bdaeb16ca48e"
      },
      "execution_count": null,
      "outputs": [
        {
          "output_type": "execute_result",
          "data": {
            "text/html": [
              "\n",
              "  <div id=\"df-f693ab83-6435-4dfe-9f76-faaba4279ce0\">\n",
              "    <div class=\"colab-df-container\">\n",
              "      <div>\n",
              "<style scoped>\n",
              "    .dataframe tbody tr th:only-of-type {\n",
              "        vertical-align: middle;\n",
              "    }\n",
              "\n",
              "    .dataframe tbody tr th {\n",
              "        vertical-align: top;\n",
              "    }\n",
              "\n",
              "    .dataframe thead th {\n",
              "        text-align: right;\n",
              "    }\n",
              "</style>\n",
              "<table border=\"1\" class=\"dataframe\">\n",
              "  <thead>\n",
              "    <tr style=\"text-align: right;\">\n",
              "      <th></th>\n",
              "      <th>Akt nömrəsi</th>\n",
              "      <th>Subyektin ID kodu</th>\n",
              "      <th>Subyekt</th>\n",
              "      <th>İstinad sənəd nömrəsi</th>\n",
              "      <th>Nümunənin təyinatı</th>\n",
              "      <th>Ölkə</th>\n",
              "      <th>Məhsul</th>\n",
              "      <th>Laboratoriya</th>\n",
              "      <th>Region</th>\n",
              "      <th>Analizin adı</th>\n",
              "      <th>Analiz qrupu</th>\n",
              "      <th>Analizin tipi</th>\n",
              "      <th>Analiz parametri</th>\n",
              "      <th>Tətbiq edilən sınaq metodu</th>\n",
              "      <th>Texniki normativ hüquqi sənəd</th>\n",
              "      <th>Analiz nəticəsi</th>\n",
              "      <th>NGA tarixi</th>\n",
              "      <th>NQA tarixi</th>\n",
              "      <th>Analizin başlama tarixi</th>\n",
              "      <th>Analizin bitmə tarixi</th>\n",
              "      <th>Laboratoriya göndərilmə tarixi</th>\n",
              "      <th>Regional bölməyə göndərilmə tarixi</th>\n",
              "    </tr>\n",
              "  </thead>\n",
              "  <tbody>\n",
              "    <tr>\n",
              "      <th>0</th>\n",
              "      <td>AZ-21010733/LAB07-22045</td>\n",
              "      <td>1202768321</td>\n",
              "      <td>\"AGR GROUP\" Məhdud Məsuliyyətli Cəmiyyəti</td>\n",
              "      <td>ID0121123673</td>\n",
              "      <td>İdxal prosesi</td>\n",
              "      <td>İran İslam Respublikası</td>\n",
              "      <td>Ərzaqlıq kartof</td>\n",
              "      <td>MFL Meyvəli Karantin - ekspertiza bölməsi</td>\n",
              "      <td>Bakı regional bölməsi</td>\n",
              "      <td>NaN</td>\n",
              "      <td>NaN</td>\n",
              "      <td>NaN</td>\n",
              "      <td>NaN</td>\n",
              "      <td>NaN</td>\n",
              "      <td>NaN</td>\n",
              "      <td>NaN</td>\n",
              "      <td>2022-01-04 18:22:46</td>\n",
              "      <td>NaT</td>\n",
              "      <td>NaT</td>\n",
              "      <td>NaT</td>\n",
              "      <td>NaT</td>\n",
              "      <td>NaT</td>\n",
              "    </tr>\n",
              "    <tr>\n",
              "      <th>1</th>\n",
              "      <td>AZ-21010733/LAB07-22044</td>\n",
              "      <td>1202768321</td>\n",
              "      <td>\"AGR GROUP\" Məhdud Məsuliyyətli Cəmiyyəti</td>\n",
              "      <td>ID0121123672</td>\n",
              "      <td>İdxal prosesi</td>\n",
              "      <td>İran İslam Respublikası</td>\n",
              "      <td>Ərzaqlıq kartof</td>\n",
              "      <td>MFL Meyvəli Karantin - ekspertiza bölməsi</td>\n",
              "      <td>Bakı regional bölməsi</td>\n",
              "      <td>NaN</td>\n",
              "      <td>NaN</td>\n",
              "      <td>NaN</td>\n",
              "      <td>NaN</td>\n",
              "      <td>NaN</td>\n",
              "      <td>NaN</td>\n",
              "      <td>NaN</td>\n",
              "      <td>2022-01-04 18:21:29</td>\n",
              "      <td>NaT</td>\n",
              "      <td>NaT</td>\n",
              "      <td>NaT</td>\n",
              "      <td>NaT</td>\n",
              "      <td>NaT</td>\n",
              "    </tr>\n",
              "    <tr>\n",
              "      <th>2</th>\n",
              "      <td>AZ-21010733/LAB07-22043</td>\n",
              "      <td>1202768321</td>\n",
              "      <td>\"AGR GROUP\" Məhdud Məsuliyyətli Cəmiyyəti</td>\n",
              "      <td>ID0121123663</td>\n",
              "      <td>İdxal prosesi</td>\n",
              "      <td>İran İslam Respublikası</td>\n",
              "      <td>Ərzaqlıq kartof</td>\n",
              "      <td>MFL Meyvəli Karantin - ekspertiza bölməsi</td>\n",
              "      <td>Bakı regional bölməsi</td>\n",
              "      <td>NaN</td>\n",
              "      <td>NaN</td>\n",
              "      <td>NaN</td>\n",
              "      <td>NaN</td>\n",
              "      <td>NaN</td>\n",
              "      <td>NaN</td>\n",
              "      <td>NaN</td>\n",
              "      <td>2022-01-04 18:20:00</td>\n",
              "      <td>NaT</td>\n",
              "      <td>NaT</td>\n",
              "      <td>NaT</td>\n",
              "      <td>NaT</td>\n",
              "      <td>NaT</td>\n",
              "    </tr>\n",
              "    <tr>\n",
              "      <th>3</th>\n",
              "      <td>AZ-21010733/LAB07-22042</td>\n",
              "      <td>1202768321</td>\n",
              "      <td>\"AGR GROUP\" Məhdud Məsuliyyətli Cəmiyyəti</td>\n",
              "      <td>ID0121123579</td>\n",
              "      <td>İdxal prosesi</td>\n",
              "      <td>İran İslam Respublikası</td>\n",
              "      <td>Ərzaqlıq kartof</td>\n",
              "      <td>MFL Meyvəli Karantin - ekspertiza bölməsi</td>\n",
              "      <td>Bakı regional bölməsi</td>\n",
              "      <td>NaN</td>\n",
              "      <td>NaN</td>\n",
              "      <td>NaN</td>\n",
              "      <td>NaN</td>\n",
              "      <td>NaN</td>\n",
              "      <td>NaN</td>\n",
              "      <td>NaN</td>\n",
              "      <td>2022-01-04 18:17:11</td>\n",
              "      <td>NaT</td>\n",
              "      <td>NaT</td>\n",
              "      <td>NaT</td>\n",
              "      <td>NaT</td>\n",
              "      <td>NaT</td>\n",
              "    </tr>\n",
              "    <tr>\n",
              "      <th>4</th>\n",
              "      <td>AZ-21010733/LAB07-22041</td>\n",
              "      <td>1202768321</td>\n",
              "      <td>\"AGR GROUP\" Məhdud Məsuliyyətli Cəmiyyəti</td>\n",
              "      <td>ID0121123666</td>\n",
              "      <td>İdxal prosesi</td>\n",
              "      <td>İran İslam Respublikası</td>\n",
              "      <td>Ərzaqlıq kartof</td>\n",
              "      <td>MFL Meyvəli Karantin - ekspertiza bölməsi</td>\n",
              "      <td>Bakı regional bölməsi</td>\n",
              "      <td>NaN</td>\n",
              "      <td>NaN</td>\n",
              "      <td>NaN</td>\n",
              "      <td>NaN</td>\n",
              "      <td>NaN</td>\n",
              "      <td>NaN</td>\n",
              "      <td>NaN</td>\n",
              "      <td>2022-01-04 18:14:57</td>\n",
              "      <td>NaT</td>\n",
              "      <td>NaT</td>\n",
              "      <td>NaT</td>\n",
              "      <td>NaT</td>\n",
              "      <td>NaT</td>\n",
              "    </tr>\n",
              "    <tr>\n",
              "      <th>...</th>\n",
              "      <td>...</td>\n",
              "      <td>...</td>\n",
              "      <td>...</td>\n",
              "      <td>...</td>\n",
              "      <td>...</td>\n",
              "      <td>...</td>\n",
              "      <td>...</td>\n",
              "      <td>...</td>\n",
              "      <td>...</td>\n",
              "      <td>...</td>\n",
              "      <td>...</td>\n",
              "      <td>...</td>\n",
              "      <td>...</td>\n",
              "      <td>...</td>\n",
              "      <td>...</td>\n",
              "      <td>...</td>\n",
              "      <td>...</td>\n",
              "      <td>...</td>\n",
              "      <td>...</td>\n",
              "      <td>...</td>\n",
              "      <td>...</td>\n",
              "      <td>...</td>\n",
              "    </tr>\n",
              "    <tr>\n",
              "      <th>240945</th>\n",
              "      <td>AZ-20010776/LAB04-21020</td>\n",
              "      <td>1902092381</td>\n",
              "      <td>AZƏRBAYCAN RESPUBLİKASI PREZİDENTİNİN İŞLƏR  İ...</td>\n",
              "      <td>NaN</td>\n",
              "      <td>Dövlət qurumu</td>\n",
              "      <td>NaN</td>\n",
              "      <td>Ördək əti</td>\n",
              "      <td>Mərkəzi Baytarlıq Laboratoriyası</td>\n",
              "      <td>Azərbaycan Qida Təhlükəsizliyi İnstitutu</td>\n",
              "      <td>Müxtəlif növ heyvanların ümumi xəstəliklərinin...</td>\n",
              "      <td>Yoluxucu xəstəliklərin siyahısına daxil edilmi...</td>\n",
              "      <td>NaN</td>\n",
              "      <td>İnfeksiya törədicisi</td>\n",
              "      <td>Bakterioloji</td>\n",
              "      <td>ЛИВ</td>\n",
              "      <td>Müsbət</td>\n",
              "      <td>2021-08-02 09:39:08</td>\n",
              "      <td>2021-08-02 09:42:00</td>\n",
              "      <td>2021-08-03 10:00:31</td>\n",
              "      <td>2021-08-05 11:28:17</td>\n",
              "      <td>2021-08-02 09:40:33</td>\n",
              "      <td>NaT</td>\n",
              "    </tr>\n",
              "    <tr>\n",
              "      <th>240946</th>\n",
              "      <td>AZ-20010776/LAB04-21020</td>\n",
              "      <td>1902092381</td>\n",
              "      <td>AZƏRBAYCAN RESPUBLİKASI PREZİDENTİNİN İŞLƏR  İ...</td>\n",
              "      <td>NaN</td>\n",
              "      <td>Dövlət qurumu</td>\n",
              "      <td>NaN</td>\n",
              "      <td>Ördək əti</td>\n",
              "      <td>Mərkəzi Baytarlıq Laboratoriyası</td>\n",
              "      <td>Azərbaycan Qida Təhlükəsizliyi İnstitutu</td>\n",
              "      <td>Müxtəlif növ heyvanların ümumi xəstəliklərinin...</td>\n",
              "      <td>Yoluxucu xəstəliklərin siyahısına daxil edilmi...</td>\n",
              "      <td>NaN</td>\n",
              "      <td>Helmintozların (qurd xəstəliklərinin) törədici...</td>\n",
              "      <td>Helmintoskopiya, helmintoovoskopiya,  mikrosko...</td>\n",
              "      <td>ЛИВ</td>\n",
              "      <td>Mənfi</td>\n",
              "      <td>2021-08-02 09:39:08</td>\n",
              "      <td>2021-08-02 09:42:00</td>\n",
              "      <td>2021-08-02 17:42:44</td>\n",
              "      <td>2021-08-04 15:46:23</td>\n",
              "      <td>2021-08-02 09:40:33</td>\n",
              "      <td>NaT</td>\n",
              "    </tr>\n",
              "    <tr>\n",
              "      <th>240947</th>\n",
              "      <td>AZ-20010776/LAB04-21020</td>\n",
              "      <td>1902092381</td>\n",
              "      <td>AZƏRBAYCAN RESPUBLİKASI PREZİDENTİNİN İŞLƏR  İ...</td>\n",
              "      <td>NaN</td>\n",
              "      <td>Dövlət qurumu</td>\n",
              "      <td>NaN</td>\n",
              "      <td>Ördək əti</td>\n",
              "      <td>Mərkəzi Baytarlıq Laboratoriyası</td>\n",
              "      <td>Azərbaycan Qida Təhlükəsizliyi İnstitutu</td>\n",
              "      <td>Koronovirus müayinəsi</td>\n",
              "      <td>Digər</td>\n",
              "      <td>Veterinary</td>\n",
              "      <td>2019-nCoV xəstəliyinin virusunun  Molekulyar G...</td>\n",
              "      <td>Polimeraz Zəncirvari Reaksiya</td>\n",
              "      <td>MУ 1.3.2569-09</td>\n",
              "      <td>Mənfi</td>\n",
              "      <td>2021-08-02 09:39:08</td>\n",
              "      <td>2021-08-02 09:42:00</td>\n",
              "      <td>2021-08-06 15:26:30</td>\n",
              "      <td>2021-08-06 15:30:08</td>\n",
              "      <td>2021-08-02 09:40:33</td>\n",
              "      <td>NaT</td>\n",
              "    </tr>\n",
              "    <tr>\n",
              "      <th>240948</th>\n",
              "      <td>AZ-20010776/LAB04-21020</td>\n",
              "      <td>1902092381</td>\n",
              "      <td>AZƏRBAYCAN RESPUBLİKASI PREZİDENTİNİN İŞLƏR  İ...</td>\n",
              "      <td>NaN</td>\n",
              "      <td>Dövlət qurumu</td>\n",
              "      <td>NaN</td>\n",
              "      <td>Ördək əti</td>\n",
              "      <td>Mərkəzi Baytarlıq Laboratoriyası</td>\n",
              "      <td>Azərbaycan Qida Təhlükəsizliyi İnstitutu</td>\n",
              "      <td>molekulyar-genetik üsulla (Polimeraz Zəncirvar...</td>\n",
              "      <td>Yoluxucu xəstəliklərin siyahısına daxil edilmi...</td>\n",
              "      <td>Veterinary</td>\n",
              "      <td>*Quş qripi xəstəliyinin virusunun(H5,N1) Molek...</td>\n",
              "      <td>Polimeraz Zəncirvari Reaksiya</td>\n",
              "      <td>Manual of Standarts for Terrestrial Animals OI...</td>\n",
              "      <td>Mənfi</td>\n",
              "      <td>2021-08-02 09:39:08</td>\n",
              "      <td>2021-08-02 09:42:00</td>\n",
              "      <td>2021-08-06 15:26:49</td>\n",
              "      <td>2021-08-06 15:30:15</td>\n",
              "      <td>2021-08-02 09:40:33</td>\n",
              "      <td>NaT</td>\n",
              "    </tr>\n",
              "    <tr>\n",
              "      <th>240949</th>\n",
              "      <td>Sayı :240949</td>\n",
              "      <td>NaN</td>\n",
              "      <td>NaN</td>\n",
              "      <td>NaN</td>\n",
              "      <td>NaN</td>\n",
              "      <td>NaN</td>\n",
              "      <td>NaN</td>\n",
              "      <td>NaN</td>\n",
              "      <td>NaN</td>\n",
              "      <td>NaN</td>\n",
              "      <td>NaN</td>\n",
              "      <td>NaN</td>\n",
              "      <td>NaN</td>\n",
              "      <td>NaN</td>\n",
              "      <td>NaN</td>\n",
              "      <td>NaN</td>\n",
              "      <td>NaT</td>\n",
              "      <td>NaT</td>\n",
              "      <td>NaT</td>\n",
              "      <td>NaT</td>\n",
              "      <td>NaT</td>\n",
              "      <td>NaT</td>\n",
              "    </tr>\n",
              "  </tbody>\n",
              "</table>\n",
              "<p>240950 rows × 22 columns</p>\n",
              "</div>\n",
              "      <button class=\"colab-df-convert\" onclick=\"convertToInteractive('df-f693ab83-6435-4dfe-9f76-faaba4279ce0')\"\n",
              "              title=\"Convert this dataframe to an interactive table.\"\n",
              "              style=\"display:none;\">\n",
              "        \n",
              "  <svg xmlns=\"http://www.w3.org/2000/svg\" height=\"24px\"viewBox=\"0 0 24 24\"\n",
              "       width=\"24px\">\n",
              "    <path d=\"M0 0h24v24H0V0z\" fill=\"none\"/>\n",
              "    <path d=\"M18.56 5.44l.94 2.06.94-2.06 2.06-.94-2.06-.94-.94-2.06-.94 2.06-2.06.94zm-11 1L8.5 8.5l.94-2.06 2.06-.94-2.06-.94L8.5 2.5l-.94 2.06-2.06.94zm10 10l.94 2.06.94-2.06 2.06-.94-2.06-.94-.94-2.06-.94 2.06-2.06.94z\"/><path d=\"M17.41 7.96l-1.37-1.37c-.4-.4-.92-.59-1.43-.59-.52 0-1.04.2-1.43.59L10.3 9.45l-7.72 7.72c-.78.78-.78 2.05 0 2.83L4 21.41c.39.39.9.59 1.41.59.51 0 1.02-.2 1.41-.59l7.78-7.78 2.81-2.81c.8-.78.8-2.07 0-2.86zM5.41 20L4 18.59l7.72-7.72 1.47 1.35L5.41 20z\"/>\n",
              "  </svg>\n",
              "      </button>\n",
              "      \n",
              "  <style>\n",
              "    .colab-df-container {\n",
              "      display:flex;\n",
              "      flex-wrap:wrap;\n",
              "      gap: 12px;\n",
              "    }\n",
              "\n",
              "    .colab-df-convert {\n",
              "      background-color: #E8F0FE;\n",
              "      border: none;\n",
              "      border-radius: 50%;\n",
              "      cursor: pointer;\n",
              "      display: none;\n",
              "      fill: #1967D2;\n",
              "      height: 32px;\n",
              "      padding: 0 0 0 0;\n",
              "      width: 32px;\n",
              "    }\n",
              "\n",
              "    .colab-df-convert:hover {\n",
              "      background-color: #E2EBFA;\n",
              "      box-shadow: 0px 1px 2px rgba(60, 64, 67, 0.3), 0px 1px 3px 1px rgba(60, 64, 67, 0.15);\n",
              "      fill: #174EA6;\n",
              "    }\n",
              "\n",
              "    [theme=dark] .colab-df-convert {\n",
              "      background-color: #3B4455;\n",
              "      fill: #D2E3FC;\n",
              "    }\n",
              "\n",
              "    [theme=dark] .colab-df-convert:hover {\n",
              "      background-color: #434B5C;\n",
              "      box-shadow: 0px 1px 3px 1px rgba(0, 0, 0, 0.15);\n",
              "      filter: drop-shadow(0px 1px 2px rgba(0, 0, 0, 0.3));\n",
              "      fill: #FFFFFF;\n",
              "    }\n",
              "  </style>\n",
              "\n",
              "      <script>\n",
              "        const buttonEl =\n",
              "          document.querySelector('#df-f693ab83-6435-4dfe-9f76-faaba4279ce0 button.colab-df-convert');\n",
              "        buttonEl.style.display =\n",
              "          google.colab.kernel.accessAllowed ? 'block' : 'none';\n",
              "\n",
              "        async function convertToInteractive(key) {\n",
              "          const element = document.querySelector('#df-f693ab83-6435-4dfe-9f76-faaba4279ce0');\n",
              "          const dataTable =\n",
              "            await google.colab.kernel.invokeFunction('convertToInteractive',\n",
              "                                                     [key], {});\n",
              "          if (!dataTable) return;\n",
              "\n",
              "          const docLinkHtml = 'Like what you see? Visit the ' +\n",
              "            '<a target=\"_blank\" href=https://colab.research.google.com/notebooks/data_table.ipynb>data table notebook</a>'\n",
              "            + ' to learn more about interactive tables.';\n",
              "          element.innerHTML = '';\n",
              "          dataTable['output_type'] = 'display_data';\n",
              "          await google.colab.output.renderOutput(dataTable, element);\n",
              "          const docLink = document.createElement('div');\n",
              "          docLink.innerHTML = docLinkHtml;\n",
              "          element.appendChild(docLink);\n",
              "        }\n",
              "      </script>\n",
              "    </div>\n",
              "  </div>\n",
              "  "
            ],
            "text/plain": [
              "                    Akt nömrəsi  ... Regional bölməyə göndərilmə tarixi\n",
              "0       AZ-21010733/LAB07-22045  ...                                NaT\n",
              "1       AZ-21010733/LAB07-22044  ...                                NaT\n",
              "2       AZ-21010733/LAB07-22043  ...                                NaT\n",
              "3       AZ-21010733/LAB07-22042  ...                                NaT\n",
              "4       AZ-21010733/LAB07-22041  ...                                NaT\n",
              "...                         ...  ...                                ...\n",
              "240945  AZ-20010776/LAB04-21020  ...                                NaT\n",
              "240946  AZ-20010776/LAB04-21020  ...                                NaT\n",
              "240947  AZ-20010776/LAB04-21020  ...                                NaT\n",
              "240948  AZ-20010776/LAB04-21020  ...                                NaT\n",
              "240949             Sayı :240949  ...                                NaT\n",
              "\n",
              "[240950 rows x 22 columns]"
            ]
          },
          "metadata": {},
          "execution_count": 6
        }
      ]
    },
    {
      "cell_type": "code",
      "metadata": {
        "id": "EVOIouUakMCh"
      },
      "source": [
        "# # setup\n",
        "# # reads from drive if file is small\n",
        "# import gspread\n",
        "# import pandas as pd\n",
        "\n",
        "# gc = gspread.authorize(GoogleCredentials.get_application_default())\n",
        "# #Save file to google drive then save it as google sheet and then get link paste it\n",
        "# Lab_R002_link = \"https://docs.google.com/spreadsheets/d/1Gsad6tqK6M51-bgKsaTQcukJmI_hB-i7fgHPBeNo560/edit#gid=1280671703\"\n",
        "# gsheets = gc.open_by_url(Lab_R002_link)\n",
        "# sheets = gsheets.worksheet('Sheet').get_all_values()\n",
        "# df = pd.DataFrame(sheets[1:], columns=sheets[0])"
      ],
      "execution_count": null,
      "outputs": []
    },
    {
      "cell_type": "code",
      "metadata": {
        "id": "92uBBSUZPfyZ"
      },
      "source": [
        "#len(df)"
      ],
      "execution_count": null,
      "outputs": []
    },
    {
      "cell_type": "code",
      "metadata": {
        "id": "78PlIXtYkvdo"
      },
      "source": [
        "df1 = df1.iloc[:-1, :]\n",
        "df2 = df2.iloc[:-1, :]"
      ],
      "execution_count": null,
      "outputs": []
    },
    {
      "cell_type": "code",
      "metadata": {
        "id": "cSaNvMtlI7co"
      },
      "source": [
        "df = pd.concat([df1, df2])\n",
        "df = df.reset_index(drop=True)"
      ],
      "execution_count": null,
      "outputs": []
    },
    {
      "cell_type": "code",
      "source": [
        "df.shape"
      ],
      "metadata": {
        "colab": {
          "base_uri": "https://localhost:8080/"
        },
        "id": "94YKeUShsm0M",
        "outputId": "4c8f1a43-48a1-4778-eb15-37b6b408bbbe"
      },
      "execution_count": null,
      "outputs": [
        {
          "output_type": "execute_result",
          "data": {
            "text/plain": [
              "(458665, 22)"
            ]
          },
          "metadata": {},
          "execution_count": 10
        }
      ]
    },
    {
      "cell_type": "code",
      "metadata": {
        "colab": {
          "base_uri": "https://localhost:8080/"
        },
        "id": "uj0iDM_VmLx4",
        "outputId": "ed7c0e63-3305-4222-a939-e79611f48286"
      },
      "source": [
        "len(df['Akt nömrəsi'].unique())"
      ],
      "execution_count": null,
      "outputs": [
        {
          "output_type": "execute_result",
          "data": {
            "text/plain": [
              "86912"
            ]
          },
          "metadata": {},
          "execution_count": 11
        }
      ]
    },
    {
      "cell_type": "code",
      "source": [
        "df['Analizin adı'].value_counts()"
      ],
      "metadata": {
        "colab": {
          "base_uri": "https://localhost:8080/"
        },
        "id": "fmT8rKSnLU6l",
        "outputId": "db14176a-92f3-4eff-bbcc-238fa1601659"
      },
      "execution_count": null,
      "outputs": [
        {
          "output_type": "execute_result",
          "data": {
            "text/plain": [
              "Ərzaq təyinatlı bitkiçilik məhsulları (dənli və dənli-paxlalı bitkilər, meyvə-tərəvəz və giləmeyvələr, çay, qəhvə, kakao, meyvə quruları, ədviyyatlar və s.) (1 nümunə)         151636\n",
              "Bruselyoz xəstəliyi  (İBH, XBH,at və s. heyvanlar) -klassik seroloji metod-Roz-Benqal sınağı,KBR,AR                                                                              56965\n",
              "Salmonella                                                                                                                                                                       26551\n",
              "Texniki xammal və materiallar (kəsilmiş güllər, dərman bitkiləri, meşə materialı, taxta, tütün, pambıq, biyan kökü, digər texniki məhsullar, torpaq, üzvi gübrə, torf və s.)     17511\n",
              "Pestisid qalıqlarının miqdarı (1 nümunə)                                                                                                                                         17394\n",
              "                                                                                                                                                                                 ...  \n",
              "Zibil qatışığına  və  zərərli qatışıqlara  görə  yemin və ya xammalın müayinəsi                                                                                                      1\n",
              "Salmonella VİDAS Express metodla təyini                                                                                                                                              1\n",
              "Qida ilə təmasda olan maddə və qablaşdırma materiallarda miqrasiya edən elementlərin təyini (Cd)                                                                                     1\n",
              "İri və xırdabuynuzlu heyvanların bruselyoz xəstəliyi  (atılmış bala) - PZR metod                                                                                                     1\n",
              "Kükürd anhidridinin təyini                                                                                                                                                           1\n",
              "Name: Analizin adı, Length: 340, dtype: int64"
            ]
          },
          "metadata": {},
          "execution_count": 12
        }
      ]
    },
    {
      "cell_type": "code",
      "source": [
        "df.groupby(['Laboratoriya', 'Texniki normativ hüquqi sənəd']).count().sort_values(by='Akt nömrəsi', ascending=False)['Akt nömrəsi'] #['Texniki normativ hüquqi sənəd'].value_counts()"
      ],
      "metadata": {
        "colab": {
          "base_uri": "https://localhost:8080/"
        },
        "id": "kWFlHbqlL8tf",
        "outputId": "4f044d24-9da4-46c9-c929-4627d873a854"
      },
      "execution_count": null,
      "outputs": [
        {
          "output_type": "execute_result",
          "data": {
            "text/plain": [
              "Laboratoriya                            Texniki normativ hüquqi sənəd                      \n",
              "Mərkəzi Fitosanitar Laboratoriyası      AR NK 29.12.2006-cı il tarixli 280 №-li Qərarı         54617\n",
              "Xaçmaz Regional Sınaq Laboratoriyası    AR NK 29.12.2006-cı il tarixli 280 №-li Qərarı         40795\n",
              "                                        AR NK 29.12.2006-cı il tarixli 280 № -li Qərarı        17099\n",
              "Lənkəran Regional Sınaq Laboratoriyası  AR NK 29.12.2006-cı il tarixli 280 №-li Qərar          14304\n",
              "Meyvəli Sınaq Laboratoriyası            AR NK 29.12.2006-cı il tarixli 280 №-li Qərarı         13404\n",
              "                                                                                               ...  \n",
              "Kompleks Tədqiqatlar Laboratoriyası     AQTA-nın  18.12.2020-ci il 20 saylı qərarı B.3.2.15        1\n",
              "                                        AQTA-nın  18.12.2020-ci il 20 saylı qərarı B.3.2.7         1\n",
              "                                        AQTA-nın  18.12.2020-ci il 20 saylı qərarı B.3.5.5         1\n",
              "                                        AQTA-nın  18.12.2020-ci il 20 saylı qərarı B.3.5.5.        1\n",
              "                                        AQTA 18.12.2020 tarixli 20 saylı qərar B.3.1.30            1\n",
              "Name: Akt nömrəsi, Length: 6374, dtype: int64"
            ]
          },
          "metadata": {},
          "execution_count": 21
        }
      ]
    },
    {
      "cell_type": "code",
      "source": [
        "df.groupby(['Laboratoriya', 'Analiz parametri']).count().sort_values(by='Akt nömrəsi', ascending=False)['Akt nömrəsi']"
      ],
      "metadata": {
        "colab": {
          "base_uri": "https://localhost:8080/"
        },
        "id": "C0KXoXHcLUyh",
        "outputId": "9ec31431-6eec-43a2-b3f9-183b8a69245d"
      },
      "execution_count": null,
      "outputs": [
        {
          "output_type": "execute_result",
          "data": {
            "text/plain": [
              "Laboratoriya                           Analiz parametri                                                     \n",
              "Mərkəzi Fitosanitar Laboratoriyası     Bitkilər üçün zərərli həşərat və gənələr                                 29032\n",
              "Xaçmaz Regional Sınaq Laboratoriyası   Fitopatogen göbələklər                                                   26914\n",
              "                                       Bitkilər üçün zərərli həşərat və gənələr                                 21556\n",
              "Mərkəzi Fitosanitar Laboratoriyası     Bitkilər  üçün zərərli həşərat və gənələr                                10163\n",
              "Abşeron Regional Sınaq Laboratoriyası  Salmonella                                                                9479\n",
              "                                                                                                                ...  \n",
              "Kompleks Tədqiqatlar Laboratoriyası    Təsiredici maddə (Metalaxyl-M)                                               1\n",
              "                                       Təsiredici maddə (Metaflumizone)                                             1\n",
              "                                       Təsiredici maddə (Mesotrione)                                                1\n",
              "                                       Təsiredici maddə (Maqnezium Hipofosfit heksahidrat, maqneziuma görə))        1\n",
              "Xaçmaz Regional Sınaq Laboratoriyası   bitkilər üçün zərərli həşərat və gənələr                                     1\n",
              "Name: Akt nömrəsi, Length: 4083, dtype: int64"
            ]
          },
          "metadata": {},
          "execution_count": 22
        }
      ]
    },
    {
      "cell_type": "code",
      "source": [
        "df.groupby( 'Analizin adı').count().sort_values(by=['Akt nömrəsi'], ascending=False)['Akt nömrəsi'].to_excel(\"analiz.xlsx\")"
      ],
      "metadata": {
        "id": "TFxLjgq5LUoc"
      },
      "execution_count": null,
      "outputs": []
    },
    {
      "cell_type": "code",
      "source": [
        "#df[df['Analiz qrupu'].str.contains(\"GMO\")]"
      ],
      "metadata": {
        "id": "h_s4SshhLUbW"
      },
      "execution_count": null,
      "outputs": []
    },
    {
      "cell_type": "code",
      "source": [
        "df[df['Analiz nəticəsi'].str.contains('Aşkar edildi', na=False)]['Analiz qrupu'].value_counts()\n",
        "\n",
        "# df[df['Analiz nəticəsi'].str.contains('Aşkar edildi', na=False)]#['Analiz parametri'].value_counts()"
      ],
      "metadata": {
        "id": "vb5LMSP2mv5H",
        "colab": {
          "base_uri": "https://localhost:8080/"
        },
        "outputId": "a1b6df50-36bf-417f-d625-85b6a4b36b2a"
      },
      "execution_count": null,
      "outputs": [
        {
          "output_type": "execute_result",
          "data": {
            "text/plain": [
              "Yoluxucu xəstəliklərin siyahısına daxil edilmiş xüsusi təhlükəli heyvan xəstəlikləri istisna olmaqla, digər xəstəliklərin diaqnostikası (müayinəsi)    1684\n",
              "Heyvan xəstəliklərinin diaqnostikası                                                                                                                   1466\n",
              "Digər                                                                                                                                                     5\n",
              "Name: Analiz qrupu, dtype: int64"
            ]
          },
          "metadata": {},
          "execution_count": 27
        }
      ]
    },
    {
      "cell_type": "code",
      "source": [
        "df[df['Analiz nəticəsi'].str.contains('Müsbət', na=False)]['Analiz qrupu'].value_counts()\n",
        "\n",
        "# df[df['Analiz nəticəsi'].str.contains('Aşkar edildi', na=False)]#['Analiz parametri'].value_counts()"
      ],
      "metadata": {
        "id": "x3SlhD9Bmv2m",
        "colab": {
          "base_uri": "https://localhost:8080/"
        },
        "outputId": "0aa710fc-ff91-4575-967c-7ee1ed52a77b"
      },
      "execution_count": null,
      "outputs": [
        {
          "output_type": "execute_result",
          "data": {
            "text/plain": [
              "Heyvan xəstəliklərinin diaqnostikası                                                                                                                                              868\n",
              "Yoluxucu xəstəliklərin siyahısına daxil edilmiş xüsusi təhlükəli heyvan xəstəlikləri istisna olmaqla, digər xəstəliklərin diaqnostikası (müayinəsi)                               857\n",
              "Torpağın məhsuldarlıq göstəricilərinin təyini                                                                                                                                      10\n",
              "Xüsusi təhlükəli heyvan xəstəlikləri istisna olmaqla, digər xəstəliklər nəticəsində ölmüş heyvanların cəsədlərinin zərərsizləşdirilməsi zamanı baytarlıq-sanitariya tədbirləri      4\n",
              "Baytarlıq preparatlarının, yem və yem əlavələrinin sınağı, ekspertizası, qeydə alınması                                                                                             1\n",
              "Qida mikrobiologiyası                                                                                                                                                               1\n",
              "Mikrobioloji göstəricilər                                                                                                                                                           1\n",
              "Bitki və bitkiçilik məhsullarında toksikoloji analizlər                                                                                                                             1\n",
              "Name: Analiz qrupu, dtype: int64"
            ]
          },
          "metadata": {},
          "execution_count": 29
        }
      ]
    },
    {
      "cell_type": "code",
      "source": [
        ""
      ],
      "metadata": {
        "id": "hNY6NMB4mv0w"
      },
      "execution_count": null,
      "outputs": []
    },
    {
      "cell_type": "code",
      "source": [
        ""
      ],
      "metadata": {
        "id": "arLsLmWqmvx9"
      },
      "execution_count": null,
      "outputs": []
    },
    {
      "cell_type": "code",
      "source": [
        ""
      ],
      "metadata": {
        "id": "ZO7mafqUmvtd"
      },
      "execution_count": null,
      "outputs": []
    },
    {
      "cell_type": "code",
      "source": [
        ""
      ],
      "metadata": {
        "id": "IAMPdB5gmvni"
      },
      "execution_count": null,
      "outputs": []
    },
    {
      "cell_type": "code",
      "source": [
        ""
      ],
      "metadata": {
        "id": "6b3XNVkYLUPm"
      },
      "execution_count": null,
      "outputs": []
    },
    {
      "cell_type": "code",
      "metadata": {
        "id": "OrYKJ1sOlONI"
      },
      "source": [
        "#Format dates to timestamp\n",
        "date = pd.to_datetime(\n",
        "    df['NGA tarixi'],\n",
        "    format='%d/%m/%Y %H:%M'\n",
        ")\n",
        "df['nga_tarixi'] = date\n",
        "ay_sirasi = pd.DatetimeIndex(date).month\n",
        "df['ay_sirasi'] = ay_sirasi"
      ],
      "execution_count": null,
      "outputs": []
    },
    {
      "cell_type": "code",
      "metadata": {
        "id": "oQANKsQZo0oq"
      },
      "source": [
        "fitosanitar = [\n",
        "               \"Aqrokimyəvi maddələrin dövlət sınağı, təkrar qeydiyyatı və ekspertizası\",\n",
        "               \"Bitki mühafizə vasitələrində toksikoloji analizlər\",\n",
        "               \"Bitki və bitkiçilik məhsullarında toksikoloji analizlər\",\n",
        "               \"Fiziki və hüquqi şəxslərin müraciətləri əsasında fitosanitar müayinəsinin və ekspertizasının aparılması\",\n",
        "               \"Gübrələr\",\n",
        "               \"Pestisidlərin və bioloji preparatların dövlət sınağı, təkrar qeydiyyatı və ekspertizası\"\n",
        "  ]\n",
        "\n",
        "baytarliq = [\n",
        "                 \"Heyvan xəstəliklərinin diaqnostikası\",\n",
        "                 \"Yem və yem əlavələri\",\n",
        "                 \"Yoluxucu xəstəliklərin siyahısına daxil edilmiş xüsusi təhlükəli heyvan xəstəlikləri istisna olmaqla, digər xəstəliklərin diaqnostikası (müayinəsi)\",\n",
        "                 \"Baytarlıq preparatlarının, yem və yem əlavələrinin istifadə üçün təqdim edilən seriyalarının (partiyalarının) keyfiyyətinin müəyyən edilməsi\",\n",
        "                 \"Nəzarət analizləri metodikalarının öyrənilməsi üzrə məsləhətlər\",\n",
        "                 \"Baytarlıq preparatlarının, yem və yem əlavələrinin sınağı, ekspertizası, qeydə alınması\",\n",
        "                 \"Yoluxucu xəstəliklərin siyahısına daxil edilmiş xüsusi təhlükəli heyvan xəstəlikləri istisna olmaqla, digər xəstəliklərin diaqnostikası (müayinəsi)\",\n",
        "                 \"Mikrobioloji göstəricilər\",\n",
        "                 \"Heyvanların identikləşdirilməsi (kodlaşdırılması)\",\n",
        "                 \"Xüsusi təhlükəli heyvan xəstəlikləri istisna olmaqla, digər xəstəliklər nəticəsində ölmüş heyvanların cəsədlərinin zərərsizləşdirilməsi zamanı baytarlıq-sanitariya tədbirləri\",\n",
        "                 \"Baytarlıq preparatlarının, yem və yem əlavələrinin aprobasiyası\"\n",
        "\n",
        "  ]\n",
        "\n",
        "qida = [\n",
        "                 \"Bioloji Fəallığa malik Qida Əlavələri və Qida Əlavələri\",\n",
        "                 \"Qida mikrobiologiyası\",\n",
        "                 \"Qida məhsullarının fiziki-kimyəvi göstəriciləri\",\n",
        "                 \"Qablaşdırma materialları\",\n",
        "                 \"Qida məhsullarının toksikologiyası\",\n",
        "                 \"Radiologiya\",\n",
        "                 \"Molekulyar-biologiya (Polimeraz Zəncirvari Reaksiya)\",\n",
        "                 \"Torpaqda toksikoloji analizlər\"\n",
        "  ]"
      ],
      "execution_count": null,
      "outputs": []
    },
    {
      "cell_type": "code",
      "metadata": {
        "colab": {
          "base_uri": "https://localhost:8080/"
        },
        "id": "zsDlSoS5ZEeA",
        "outputId": "9530ff04-d182-4380-ecb1-9a11c159dbdb"
      },
      "source": [
        "len(df['Analiz qrupu'].unique())"
      ],
      "execution_count": null,
      "outputs": [
        {
          "output_type": "execute_result",
          "data": {
            "text/plain": [
              "27"
            ]
          },
          "metadata": {},
          "execution_count": 16
        }
      ]
    },
    {
      "cell_type": "code",
      "metadata": {
        "colab": {
          "base_uri": "https://localhost:8080/"
        },
        "id": "M1lRSlH8Zbye",
        "outputId": "989a7381-1642-4d8a-adb7-902386636ef0"
      },
      "source": [
        "for i in df['Analiz qrupu'].unique():\n",
        "  print(i)"
      ],
      "execution_count": null,
      "outputs": [
        {
          "output_type": "stream",
          "name": "stdout",
          "text": [
            "Qida mikrobiologiyası\n",
            "Baytarlıq preparatlarının, yem və yem əlavələrinin istifadə üçün təqdim edilən seriyalarının (partiyalarının) keyfiyyətinin müəyyən edilməsi\n",
            "Aqrokimyəvi maddələrin dövlət sınağı, təkrar qeydiyyatı və ekspertizası\n",
            "Molekulyar-biologiya (Polimeraz Zəncirvari Reaksiya)\n",
            "nan\n",
            "Yoluxucu xəstəliklərin siyahısına daxil edilmiş xüsusi təhlükəli heyvan xəstəlikləri istisna olmaqla, digər xəstəliklərin diaqnostikası (müayinəsi)\n",
            "Qida məhsullarının toksikologiyası\n",
            "Qida məhsullarının fiziki-kimyəvi göstəriciləri\n",
            "Digər\n",
            "Fiziki və hüquqi şəxslərin müraciətləri əsasında fitosanitar müayinəsinin və ekspertizasının aparılması\n",
            "Baytarlıq preparatlarının, yem və yem əlavələrinin sınağı, ekspertizası, qeydə alınması\n",
            "Pestisidlərin və bioloji preparatların dövlət sınağı, təkrar qeydiyyatı və ekspertizası\n",
            "Bitki və bitkiçilik məhsullarında toksikoloji analizlər\n",
            "Mikrobioloji göstəricilər\n",
            "Qablaşdırma materialları\n",
            "Radiologiya\n",
            "Nəzarət analizləri metodikalarının öyrənilməsi üzrə məsləhətlər\n",
            "Heyvan xəstəliklərinin diaqnostikası\n",
            "Yem və yem əlavələri\n",
            "Bioloji Fəallığa malik Qida Əlavələri və Qida Əlavələri\n",
            "Bitki mühafizə vasitələrində toksikoloji analizlər\n",
            "Gübrələr\n",
            "Torpağın məhsuldarlıq göstəricilərinin təyini\n",
            "Xüsusi təhlükəli heyvan xəstəlikləri istisna olmaqla, digər xəstəliklər nəticəsində ölmüş heyvanların cəsədlərinin zərərsizləşdirilməsi zamanı baytarlıq-sanitariya tədbirləri\n",
            "Baytarlıq preparatlarının, yem və yem əlavələrinin aprobasiyası\n",
            "Heyvanların identikləşdirilməsi (kodlaşdırılması)\n",
            "Torpaqda toksikoloji analizlər\n"
          ]
        }
      ]
    },
    {
      "cell_type": "code",
      "metadata": {
        "colab": {
          "base_uri": "https://localhost:8080/"
        },
        "id": "Dio6wNeLb6vW",
        "outputId": "a2856677-300f-4484-e840-283172a3815f"
      },
      "source": [
        "for i in df['Analiz qrupu'].unique():\n",
        "  print(i)"
      ],
      "execution_count": null,
      "outputs": [
        {
          "output_type": "stream",
          "name": "stdout",
          "text": [
            "Qida mikrobiologiyası\n",
            "Baytarlıq preparatlarının, yem və yem əlavələrinin istifadə üçün təqdim edilən seriyalarının (partiyalarının) keyfiyyətinin müəyyən edilməsi\n",
            "Aqrokimyəvi maddələrin dövlət sınağı, təkrar qeydiyyatı və ekspertizası\n",
            "Molekulyar-biologiya (Polimeraz Zəncirvari Reaksiya)\n",
            "nan\n",
            "Yoluxucu xəstəliklərin siyahısına daxil edilmiş xüsusi təhlükəli heyvan xəstəlikləri istisna olmaqla, digər xəstəliklərin diaqnostikası (müayinəsi)\n",
            "Qida məhsullarının toksikologiyası\n",
            "Qida məhsullarının fiziki-kimyəvi göstəriciləri\n",
            "Digər\n",
            "Fiziki və hüquqi şəxslərin müraciətləri əsasında fitosanitar müayinəsinin və ekspertizasının aparılması\n",
            "Baytarlıq preparatlarının, yem və yem əlavələrinin sınağı, ekspertizası, qeydə alınması\n",
            "Pestisidlərin və bioloji preparatların dövlət sınağı, təkrar qeydiyyatı və ekspertizası\n",
            "Bitki və bitkiçilik məhsullarında toksikoloji analizlər\n",
            "Mikrobioloji göstəricilər\n",
            "Qablaşdırma materialları\n",
            "Radiologiya\n",
            "Nəzarət analizləri metodikalarının öyrənilməsi üzrə məsləhətlər\n",
            "Heyvan xəstəliklərinin diaqnostikası\n",
            "Yem və yem əlavələri\n",
            "Bioloji Fəallığa malik Qida Əlavələri və Qida Əlavələri\n",
            "Bitki mühafizə vasitələrində toksikoloji analizlər\n",
            "Gübrələr\n",
            "Torpağın məhsuldarlıq göstəricilərinin təyini\n",
            "Xüsusi təhlükəli heyvan xəstəlikləri istisna olmaqla, digər xəstəliklər nəticəsində ölmüş heyvanların cəsədlərinin zərərsizləşdirilməsi zamanı baytarlıq-sanitariya tədbirləri\n",
            "Baytarlıq preparatlarının, yem və yem əlavələrinin aprobasiyası\n",
            "Heyvanların identikləşdirilməsi (kodlaşdırılması)\n",
            "Torpaqda toksikoloji analizlər\n"
          ]
        }
      ]
    },
    {
      "cell_type": "code",
      "metadata": {
        "id": "LXWJdBH2pFiK"
      },
      "source": [
        "#Based on \"Analiz qrupu\" column we create Three groups\n",
        "\n",
        "groups_advanced = []\n",
        "\n",
        "for index, i in enumerate(df['Analiz qrupu']):\n",
        "\n",
        "  if i in fitosanitar:\n",
        "    groups_advanced.append(\"Fitosanitar nəzarət\")\n",
        "\n",
        "  elif i in baytarliq:\n",
        "    groups_advanced.append(\"Baytarlıq nəzarəti\")\n",
        "\n",
        "  elif i in qida:\n",
        "    groups_advanced.append(\"Qida təhlükəsizliyi nəzarəti\")\n",
        "##################################################################################################################\n",
        "  elif i == \"Digər\":\n",
        "    ############ Here we use \"Laboratoriya\" column in addition to \"Analiz qrupu\"\n",
        "    ############ These labs work only with Baytarliq sphere\n",
        "    ############ This info about sphere of these labs should be checked\n",
        "    if df.iloc[index].loc['Laboratoriya'] in [\n",
        "                                              'Mərkəzi Baytarlıq Laboratoriyası',\n",
        "                                              'Bərdə Regional Sınaq Laboratoriyası',\n",
        "                                              'Göygöl Regional Sınaq Laboratoriyası',\n",
        "                                              'Qax Regionl Sınaq Laboratoriyası',\n",
        "                                              'Quba Reqional Sınaq Laboratoriyası',\n",
        "                                              'Sabirabad Regional Sınaq Laboratoriyası',\n",
        "\n",
        "\n",
        "    ]:\n",
        "      groups_advanced.append(\"Baytarlıq nəzarəti\")\n",
        "      ############ These labs work only with Fitosanitar sphere\n",
        "    elif df.iloc[index].loc['Laboratoriya'] in [\n",
        "                                                'Meyvəli Sınaq Laboratoriyası',\n",
        "                                                'Mərkəzi Fitosanitar Laboratoriyası',\n",
        "                                                'Xaçmaz Regional Sınaq Laboratoriyası'\n",
        "\n",
        "    ]:\n",
        "      groups_advanced.append(\"Fitosanitar nəzarət\")\n",
        "\n",
        "    else:\n",
        "      groups_advanced.append(i)\n",
        "    \n",
        "############################################################################################################\n",
        "  elif i == \"\":\n",
        "    ############ Here we check not only for \"Diger\", but also \"\"\n",
        "    if df.iloc[index].loc['Laboratoriya'] in [\n",
        "                                              'Mərkəzi Baytarlıq Laboratoriyası',\n",
        "                                              'Bərdə Regional Sınaq Laboratoriyası',\n",
        "                                              'Göygöl Regional Sınaq Laboratoriyası',\n",
        "                                              'Qax Regionl Sınaq Laboratoriyası',\n",
        "                                              'Quba Reqional Sınaq Laboratoriyası',\n",
        "                                              'Sabirabad Regional Sınaq Laboratoriyası',\n",
        "                                              'GöyGöl Regional SIınaq Laboratoriyası'\n",
        "\n",
        "\n",
        "    ]:\n",
        "      groups_advanced.append(\"Baytarlıq nəzarəti\")\n",
        "    elif df.iloc[index].loc['Laboratoriya'] in [\n",
        "                                                'Meyvəli Sınaq Laboratoriyası',\n",
        "                                                'Mərkəzi Fitosanitar Laboratoriyası',\n",
        "                                                'Xaçmaz Regional Sınaq Laboratoriyası'\n",
        "\n",
        "    ]:\n",
        "      groups_advanced.append(\"Fitosanitar nəzarət\")\n",
        "\n",
        "    else:\n",
        "      groups_advanced.append(i)\n",
        "  else:\n",
        "    groups_advanced.append(i)"
      ],
      "execution_count": null,
      "outputs": []
    },
    {
      "cell_type": "code",
      "metadata": {
        "id": "UTg4HCA1pVXY"
      },
      "source": [
        "# Here, instead of nesting we simply use previous grouping\n",
        "# Also we use another column \"Analizin tipi\"\n",
        "groups_advanced_analiz_tipi = []\n",
        "\n",
        "for index, value in enumerate(groups_advanced):\n",
        "\n",
        "  if value not in ['', \"Digər\"]:\n",
        "    groups_advanced_analiz_tipi.append(value)\n",
        "\n",
        "  elif value in ['', \"Digər\"]:\n",
        "\n",
        "    if df.iloc[index].loc['Analizin tipi'] == 'Phytosanitary':\n",
        "      groups_advanced_analiz_tipi.append(\"Fitosanitar nəzarət\")\n",
        "    elif df.iloc[index].loc['Analizin tipi'] == 'Food':\n",
        "      groups_advanced_analiz_tipi.append(\"Qida təhlükəsizliyi nəzarəti\")\n",
        "    elif df.iloc[index].loc['Analizin tipi'] == 'Veterinary':\n",
        "      groups_advanced_analiz_tipi.append(\"Baytarlıq nəzarəti\")\n",
        "    else:\n",
        "     groups_advanced_analiz_tipi.append(value) \n",
        "    \n",
        "# So we did use Analiz qrupu, Laboratoriya, Analiz tipi  "
      ],
      "execution_count": null,
      "outputs": []
    },
    {
      "cell_type": "code",
      "metadata": {
        "colab": {
          "base_uri": "https://localhost:8080/"
        },
        "id": "1VWzDfW1cWXv",
        "outputId": "a42e9252-e8c7-4222-c96c-b0c1d13c8830"
      },
      "source": [
        "df['groups_advanced_analiz_tipi'] = groups_advanced_analiz_tipi\n",
        "df['groups_advanced_analiz_tipi'].value_counts()"
      ],
      "execution_count": null,
      "outputs": [
        {
          "output_type": "execute_result",
          "data": {
            "text/plain": [
              "Fitosanitar nəzarət                              207094\n",
              "Baytarlıq nəzarəti                                94602\n",
              "Qida təhlükəsizliyi nəzarəti                      93273\n",
              "Torpağın məhsuldarlıq göstəricilərinin təyini        19\n",
              "Name: groups_advanced_analiz_tipi, dtype: int64"
            ]
          },
          "metadata": {},
          "execution_count": 21
        }
      ]
    },
    {
      "cell_type": "code",
      "source": [
        "len(df)-len(df[df['groups_advanced_analiz_tipi'] == \"Torpağın məhsuldarlıq göstəricilərinin təyini\"])"
      ],
      "metadata": {
        "colab": {
          "base_uri": "https://localhost:8080/"
        },
        "id": "mYeJRB3ZtCIL",
        "outputId": "065337a0-c415-4525-df41-cf85af1da9d5"
      },
      "execution_count": null,
      "outputs": [
        {
          "output_type": "execute_result",
          "data": {
            "text/plain": [
              "458646"
            ]
          },
          "metadata": {},
          "execution_count": 22
        }
      ]
    },
    {
      "cell_type": "code",
      "source": [
        "len(df[~(df['groups_advanced_analiz_tipi'] == \"Torpağın məhsuldarlıq göstəricilərinin təyini\")])"
      ],
      "metadata": {
        "colab": {
          "base_uri": "https://localhost:8080/"
        },
        "id": "hde0AsjXtot0",
        "outputId": "75e44e9d-6498-423e-e90f-7ece3b83c5f2"
      },
      "execution_count": null,
      "outputs": [
        {
          "output_type": "execute_result",
          "data": {
            "text/plain": [
              "458646"
            ]
          },
          "metadata": {},
          "execution_count": 23
        }
      ]
    },
    {
      "cell_type": "code",
      "source": [
        "df = df[~(df['groups_advanced_analiz_tipi'] == \"Torpağın məhsuldarlıq göstəricilərinin təyini\")]"
      ],
      "metadata": {
        "id": "Z0Hed4Gk7BgN"
      },
      "execution_count": null,
      "outputs": []
    },
    {
      "cell_type": "code",
      "metadata": {
        "colab": {
          "base_uri": "https://localhost:8080/"
        },
        "id": "ghqfxxGKpYf5",
        "outputId": "9ccc46a8-a5c4-4c61-9e26-5148e9905f98"
      },
      "source": [
        "#df['groups_advanced_analiz_tipi'] = groups_advanced_analiz_tipi\n",
        "df['groups_advanced_analiz_tipi'].value_counts()"
      ],
      "execution_count": null,
      "outputs": [
        {
          "output_type": "execute_result",
          "data": {
            "text/plain": [
              "Fitosanitar nəzarət             207094\n",
              "Baytarlıq nəzarəti               94602\n",
              "Qida təhlükəsizliyi nəzarəti     93273\n",
              "Name: groups_advanced_analiz_tipi, dtype: int64"
            ]
          },
          "metadata": {},
          "execution_count": 25
        }
      ]
    },
    {
      "cell_type": "code",
      "metadata": {
        "id": "ZX-NJ57Tpf1I"
      },
      "source": [
        "import numpy as np\n",
        "df = df.replace(r'^\\s*$', np.nan, regex=True)"
      ],
      "execution_count": null,
      "outputs": []
    },
    {
      "cell_type": "code",
      "metadata": {
        "colab": {
          "base_uri": "https://localhost:8080/"
        },
        "id": "O6g86daLFR8r",
        "outputId": "69b20ff4-ccce-4ad5-f053-770769ae673b"
      },
      "source": [
        "df['groups_advanced_analiz_tipi'].value_counts()"
      ],
      "execution_count": null,
      "outputs": [
        {
          "output_type": "execute_result",
          "data": {
            "text/plain": [
              "Fitosanitar nəzarət             207094\n",
              "Baytarlıq nəzarəti               94602\n",
              "Qida təhlükəsizliyi nəzarəti     93273\n",
              "Name: groups_advanced_analiz_tipi, dtype: int64"
            ]
          },
          "metadata": {},
          "execution_count": 27
        }
      ]
    },
    {
      "cell_type": "code",
      "metadata": {
        "id": "VXGZopNgGNVN"
      },
      "source": [
        "# Baytarlıq\n",
        "# df[df['groups_advanced_analiz_tipi']==\"Yoluxucu xəstəliklərin siyahısına daxil edilmiş xüsusi təhlükəli heyvan xəstəlikləri istisna olmaqla, digər xəstəliklərin diaqnostikası (müayinəsi)\"][\"Məhsul\"].value_counts()"
      ],
      "execution_count": null,
      "outputs": []
    },
    {
      "cell_type": "code",
      "metadata": {
        "id": "WVs3P9q6IfX5"
      },
      "source": [
        "#Kompleks tədqiqatlar Laboratoriyası\n",
        "#Baytarlıq\n",
        "# df[\n",
        "#    df['groups_advanced_analiz_tipi']==\"Baytarlıq preparatlarının, yem və yem əlavələrinin istifadə üçün təqdim edilən seriyalarının (partiyalarının) keyfiyyətinin müəyyən edilməsi\"\n",
        "# ][\"Məhsul\"].value_counts()"
      ],
      "execution_count": null,
      "outputs": []
    },
    {
      "cell_type": "code",
      "metadata": {
        "id": "u0gF13AxItSc"
      },
      "source": [
        "#Kompleks tədqiqatlar Laboratoriyası\n",
        "# Yem əlavələri\n",
        "# Baytarlıq\n",
        "# df[\n",
        "#    df['groups_advanced_analiz_tipi']==\"Nəzarət analizləri metodikalarının öyrənilməsi üzrə məsləhətlər\"\n",
        "# ][\"Məhsul\"].value_counts()"
      ],
      "execution_count": null,
      "outputs": []
    },
    {
      "cell_type": "code",
      "metadata": {
        "id": "ovwzNwjtp7dw"
      },
      "source": [
        "#df['groups_advanced_analiz_tipi'].value_counts()"
      ],
      "execution_count": null,
      "outputs": []
    },
    {
      "cell_type": "code",
      "metadata": {
        "colab": {
          "base_uri": "https://localhost:8080/"
        },
        "id": "usUDHNJEqAn3",
        "outputId": "0f5a1ffb-4df9-40b4-8487-d633f7eb3da2"
      },
      "source": [
        "df_na = df[df['groups_advanced_analiz_tipi'].isna()]\n",
        "len(df_na)"
      ],
      "execution_count": null,
      "outputs": [
        {
          "output_type": "execute_result",
          "data": {
            "text/plain": [
              "63677"
            ]
          },
          "metadata": {},
          "execution_count": 72
        }
      ]
    },
    {
      "cell_type": "code",
      "metadata": {
        "colab": {
          "base_uri": "https://localhost:8080/"
        },
        "id": "gOi7XlPXqSa6",
        "outputId": "7a385136-2614-4f1f-ea7e-74047846c5f8"
      },
      "source": [
        "analiz_neticesi = []\n",
        "\n",
        "for i in df['Analiz nəticəsi']:\n",
        "\n",
        "  if i is not np.nan:\n",
        "    analiz_neticesi.append(i)\n",
        "\n",
        "  elif i is np.nan:\n",
        "    analiz_neticesi.append(\"Qeyd olunmayıb\")\n",
        "\n",
        "df['analiz_neticesi'] = analiz_neticesi\n",
        "df['analiz_neticesi'].value_counts()"
      ],
      "execution_count": null,
      "outputs": [
        {
          "output_type": "execute_result",
          "data": {
            "text/plain": [
              "Uyğundur                     295075\n",
              "Qeyd olunmayıb                89251\n",
              "Aşkar edilmədi                30569\n",
              "Mənfi                         23498\n",
              "Faktiki                        8204\n",
              "Karantin Tətbiq edilməyən      3487\n",
              "Aşkar edildi                   3155\n",
              "Karantin Tətbiq edilən         1847\n",
              "Uyğun deyil                    1827\n",
              "Müsbət                         1733\n",
              "Name: analiz_neticesi, dtype: int64"
            ]
          },
          "metadata": {},
          "execution_count": 73
        }
      ]
    },
    {
      "cell_type": "code",
      "source": [
        "df[df['analiz_neticesi'].str.contains(\"Qeyd olunmayıb\")]['groups_advanced_analiz_tipi'].value_counts()"
      ],
      "metadata": {
        "colab": {
          "base_uri": "https://localhost:8080/"
        },
        "id": "6M9CTk2T8AdL",
        "outputId": "6db39410-20d3-4105-aeb3-06570cce5520"
      },
      "execution_count": null,
      "outputs": [
        {
          "output_type": "execute_result",
          "data": {
            "text/plain": [
              "Baytarlıq nəzarəti              24573\n",
              "Qida təhlükəsizliyi nəzarəti      596\n",
              "Fitosanitar nəzarət               322\n",
              "Name: groups_advanced_analiz_tipi, dtype: int64"
            ]
          },
          "metadata": {},
          "execution_count": 89
        }
      ]
    },
    {
      "cell_type": "code",
      "metadata": {
        "id": "RsWIsaVrqSQq"
      },
      "source": [
        "# df = df[~df['analiz_neticesi'].str.contains(\"Qeyd olunmayıb\")]"
      ],
      "execution_count": null,
      "outputs": []
    },
    {
      "cell_type": "code",
      "metadata": {
        "colab": {
          "base_uri": "https://localhost:8080/"
        },
        "id": "npGEj3YZqRys",
        "outputId": "cf851de7-fb37-4692-b58b-75014fcfd74c"
      },
      "source": [
        "df['groups_advanced_analiz_tipi'].value_counts()"
      ],
      "execution_count": null,
      "outputs": [
        {
          "output_type": "execute_result",
          "data": {
            "text/plain": [
              "Fitosanitar nəzarət             207052\n",
              "Baytarlıq nəzarəti               94602\n",
              "Qida təhlükəsizliyi nəzarəti     93208\n",
              "Name: groups_advanced_analiz_tipi, dtype: int64"
            ]
          },
          "metadata": {},
          "execution_count": 91
        }
      ]
    },
    {
      "cell_type": "code",
      "metadata": {
        "colab": {
          "base_uri": "https://localhost:8080/",
          "height": 284
        },
        "id": "5f974I9edVV5",
        "outputId": "18bd006c-7fac-43d0-9554-4153b7ee5850"
      },
      "source": [
        "df[df['Analiz qrupu'] == \"Torpaqda toksikoloji analizlər\"] #Torpaqda toksikoloji analizlər Qida"
      ],
      "execution_count": null,
      "outputs": [
        {
          "output_type": "execute_result",
          "data": {
            "text/html": [
              "\n",
              "  <div id=\"df-6f5613df-2e27-441f-a14d-61a21b808ecf\">\n",
              "    <div class=\"colab-df-container\">\n",
              "      <div>\n",
              "<style scoped>\n",
              "    .dataframe tbody tr th:only-of-type {\n",
              "        vertical-align: middle;\n",
              "    }\n",
              "\n",
              "    .dataframe tbody tr th {\n",
              "        vertical-align: top;\n",
              "    }\n",
              "\n",
              "    .dataframe thead th {\n",
              "        text-align: right;\n",
              "    }\n",
              "</style>\n",
              "<table border=\"1\" class=\"dataframe\">\n",
              "  <thead>\n",
              "    <tr style=\"text-align: right;\">\n",
              "      <th></th>\n",
              "      <th>Akt nömrəsi</th>\n",
              "      <th>Subyektin ID kodu</th>\n",
              "      <th>Subyekt</th>\n",
              "      <th>İstinad sənəd nömrəsi</th>\n",
              "      <th>Nümunənin təyinatı</th>\n",
              "      <th>Ölkə</th>\n",
              "      <th>Məhsul</th>\n",
              "      <th>Laboratoriya</th>\n",
              "      <th>Region</th>\n",
              "      <th>Analizin adı</th>\n",
              "      <th>Analiz qrupu</th>\n",
              "      <th>Analizin tipi</th>\n",
              "      <th>Analiz parametri</th>\n",
              "      <th>Tətbiq edilən sınaq metodu</th>\n",
              "      <th>Texniki normativ hüquqi sənəd</th>\n",
              "      <th>Analiz nəticəsi</th>\n",
              "      <th>NGA tarixi</th>\n",
              "      <th>NQA tarixi</th>\n",
              "      <th>Analizin başlama tarixi</th>\n",
              "      <th>Analizin bitmə tarixi</th>\n",
              "      <th>Laboratoriya göndərilmə tarixi</th>\n",
              "      <th>Regional bölməyə göndərilmə tarixi</th>\n",
              "      <th>nga_tarixi</th>\n",
              "      <th>ay_sirasi</th>\n",
              "      <th>groups_advanced_analiz_tipi</th>\n",
              "      <th>analiz_neticesi</th>\n",
              "      <th>groups_advanced_analiz_tipi_nas</th>\n",
              "      <th>tarix</th>\n",
              "    </tr>\n",
              "  </thead>\n",
              "  <tbody>\n",
              "    <tr>\n",
              "      <th>378253</th>\n",
              "      <td>AZ-20100065/LAB01-21001</td>\n",
              "      <td>3600025711</td>\n",
              "      <td>MOŞU AÇIQ SƏHMDAR CƏMİYYƏTİ</td>\n",
              "      <td>NaN</td>\n",
              "      <td>Qiymətləndirmə</td>\n",
              "      <td>NaN</td>\n",
              "      <td>VİSKİ</td>\n",
              "      <td>Abşeron Regional Sınaq Laboratoriyası</td>\n",
              "      <td>Tovuz regional bölməsi</td>\n",
              "      <td>Ağır metalların (Pb) miqdarı</td>\n",
              "      <td>Torpaqda toksikoloji analizlər</td>\n",
              "      <td>NaN</td>\n",
              "      <td>Qurğuşun (Pb), ç/o</td>\n",
              "      <td>TL-ARSL-LAB-003-271-2021</td>\n",
              "      <td>AR Səhiyyə Nazirliyinin 25Nºli 30.04.2010-cu i...</td>\n",
              "      <td>Uyğundur</td>\n",
              "      <td>2021-10-14 17:40:06</td>\n",
              "      <td>2021-10-20 12:16:20</td>\n",
              "      <td>2021-10-20 16:41:16</td>\n",
              "      <td>2021-10-21 12:15:29</td>\n",
              "      <td>2021-10-14 17:52:49</td>\n",
              "      <td>2021-10-22 16:07:09</td>\n",
              "      <td>2021-10-14 17:40:06</td>\n",
              "      <td>10</td>\n",
              "      <td>Qida təhlükəsizliyi nəzarəti</td>\n",
              "      <td>Uyğundur</td>\n",
              "      <td>Qida təhlükəsizliyi nəzarəti</td>\n",
              "      <td>2021-10-14</td>\n",
              "    </tr>\n",
              "  </tbody>\n",
              "</table>\n",
              "</div>\n",
              "      <button class=\"colab-df-convert\" onclick=\"convertToInteractive('df-6f5613df-2e27-441f-a14d-61a21b808ecf')\"\n",
              "              title=\"Convert this dataframe to an interactive table.\"\n",
              "              style=\"display:none;\">\n",
              "        \n",
              "  <svg xmlns=\"http://www.w3.org/2000/svg\" height=\"24px\"viewBox=\"0 0 24 24\"\n",
              "       width=\"24px\">\n",
              "    <path d=\"M0 0h24v24H0V0z\" fill=\"none\"/>\n",
              "    <path d=\"M18.56 5.44l.94 2.06.94-2.06 2.06-.94-2.06-.94-.94-2.06-.94 2.06-2.06.94zm-11 1L8.5 8.5l.94-2.06 2.06-.94-2.06-.94L8.5 2.5l-.94 2.06-2.06.94zm10 10l.94 2.06.94-2.06 2.06-.94-2.06-.94-.94-2.06-.94 2.06-2.06.94z\"/><path d=\"M17.41 7.96l-1.37-1.37c-.4-.4-.92-.59-1.43-.59-.52 0-1.04.2-1.43.59L10.3 9.45l-7.72 7.72c-.78.78-.78 2.05 0 2.83L4 21.41c.39.39.9.59 1.41.59.51 0 1.02-.2 1.41-.59l7.78-7.78 2.81-2.81c.8-.78.8-2.07 0-2.86zM5.41 20L4 18.59l7.72-7.72 1.47 1.35L5.41 20z\"/>\n",
              "  </svg>\n",
              "      </button>\n",
              "      \n",
              "  <style>\n",
              "    .colab-df-container {\n",
              "      display:flex;\n",
              "      flex-wrap:wrap;\n",
              "      gap: 12px;\n",
              "    }\n",
              "\n",
              "    .colab-df-convert {\n",
              "      background-color: #E8F0FE;\n",
              "      border: none;\n",
              "      border-radius: 50%;\n",
              "      cursor: pointer;\n",
              "      display: none;\n",
              "      fill: #1967D2;\n",
              "      height: 32px;\n",
              "      padding: 0 0 0 0;\n",
              "      width: 32px;\n",
              "    }\n",
              "\n",
              "    .colab-df-convert:hover {\n",
              "      background-color: #E2EBFA;\n",
              "      box-shadow: 0px 1px 2px rgba(60, 64, 67, 0.3), 0px 1px 3px 1px rgba(60, 64, 67, 0.15);\n",
              "      fill: #174EA6;\n",
              "    }\n",
              "\n",
              "    [theme=dark] .colab-df-convert {\n",
              "      background-color: #3B4455;\n",
              "      fill: #D2E3FC;\n",
              "    }\n",
              "\n",
              "    [theme=dark] .colab-df-convert:hover {\n",
              "      background-color: #434B5C;\n",
              "      box-shadow: 0px 1px 3px 1px rgba(0, 0, 0, 0.15);\n",
              "      filter: drop-shadow(0px 1px 2px rgba(0, 0, 0, 0.3));\n",
              "      fill: #FFFFFF;\n",
              "    }\n",
              "  </style>\n",
              "\n",
              "      <script>\n",
              "        const buttonEl =\n",
              "          document.querySelector('#df-6f5613df-2e27-441f-a14d-61a21b808ecf button.colab-df-convert');\n",
              "        buttonEl.style.display =\n",
              "          google.colab.kernel.accessAllowed ? 'block' : 'none';\n",
              "\n",
              "        async function convertToInteractive(key) {\n",
              "          const element = document.querySelector('#df-6f5613df-2e27-441f-a14d-61a21b808ecf');\n",
              "          const dataTable =\n",
              "            await google.colab.kernel.invokeFunction('convertToInteractive',\n",
              "                                                     [key], {});\n",
              "          if (!dataTable) return;\n",
              "\n",
              "          const docLinkHtml = 'Like what you see? Visit the ' +\n",
              "            '<a target=\"_blank\" href=https://colab.research.google.com/notebooks/data_table.ipynb>data table notebook</a>'\n",
              "            + ' to learn more about interactive tables.';\n",
              "          element.innerHTML = '';\n",
              "          dataTable['output_type'] = 'display_data';\n",
              "          await google.colab.output.renderOutput(dataTable, element);\n",
              "          const docLink = document.createElement('div');\n",
              "          docLink.innerHTML = docLinkHtml;\n",
              "          element.appendChild(docLink);\n",
              "        }\n",
              "      </script>\n",
              "    </div>\n",
              "  </div>\n",
              "  "
            ],
            "text/plain": [
              "                    Akt nömrəsi  ...       tarix\n",
              "378253  AZ-20100065/LAB01-21001  ...  2021-10-14\n",
              "\n",
              "[1 rows x 28 columns]"
            ]
          },
          "metadata": {},
          "execution_count": 92
        }
      ]
    },
    {
      "cell_type": "code",
      "metadata": {
        "id": "EcdIE6ksqGo6"
      },
      "source": [
        "# Here we use one more column which is \"Mehsul\" for categorization\n",
        "\n",
        "groups_advanced_analiz_tipi_nas = []\n",
        "\n",
        "for index, value in enumerate(df['groups_advanced_analiz_tipi']):\n",
        "  if value is not np.nan:\n",
        "    groups_advanced_analiz_tipi_nas.append(value)\n",
        "  elif value is np.nan:\n",
        "    if df.iloc[index].loc['Məhsul'] in [\n",
        "                                        'Pomidor', 'Pendir', 'Biskvit', 'Mal əti', 'ÇIY SÜD',\n",
        "                                        'Balık yağı' , 'Balıq unu','Donuz piyi','Dondurulmuş toyuq',\n",
        "                                        'Şor','Makaron','Hazır yemək','Su','Kolbasa hisə verilmiş',\n",
        "                                        'Kolbasa','Ərzaqlıq kartof', 'Ət', 'Bərk pendir','Yoqurt',\n",
        "                                        'Konfet','Alkoqolsuz içki','Pasterizə edilmiş süd','Hisə verilmiş toyuq hissələri',\n",
        "                                        'Qatıq','Soyudulmuş toyuq əti','Tort','Kərə yağı',\n",
        "                                        'Pomidor bitkisi yarpaqları','Sirop','tort üçün krem tozu','Meyvə Şirəsi',\n",
        "                                        'Günəbaxan jmıxı','Vafli','Pomidor şirəsi','Peçenye'\n",
        "\n",
        "    ]:\n",
        "      groups_advanced_analiz_tipi_nas.append(\"Qida təhlükəsizliyi nəzarəti\")\n",
        "    else:\n",
        "      groups_advanced_analiz_tipi_nas.append(value)\n",
        "    \n"
      ],
      "execution_count": null,
      "outputs": []
    },
    {
      "cell_type": "code",
      "metadata": {
        "id": "Fy-BvR25qx_l",
        "colab": {
          "base_uri": "https://localhost:8080/"
        },
        "outputId": "f0aef897-f0b7-4dd2-b4e6-103a00c2da6c"
      },
      "source": [
        "df['groups_advanced_analiz_tipi_nas'] = groups_advanced_analiz_tipi_nas\n",
        "df['groups_advanced_analiz_tipi_nas'].value_counts()"
      ],
      "execution_count": null,
      "outputs": [
        {
          "output_type": "execute_result",
          "data": {
            "text/plain": [
              "Fitosanitar nəzarət             207052\n",
              "Baytarlıq nəzarəti               94602\n",
              "Qida təhlükəsizliyi nəzarəti     94052\n",
              "Name: groups_advanced_analiz_tipi_nas, dtype: int64"
            ]
          },
          "metadata": {},
          "execution_count": 94
        }
      ]
    },
    {
      "cell_type": "code",
      "source": [
        "import datetime"
      ],
      "metadata": {
        "id": "kb0Km32a-f7d"
      },
      "execution_count": null,
      "outputs": []
    },
    {
      "cell_type": "code",
      "source": [
        "df['NGA tarixi'][0].date()"
      ],
      "metadata": {
        "colab": {
          "base_uri": "https://localhost:8080/"
        },
        "id": "qmTVbaQ4-lS_",
        "outputId": "2713c57a-0a25-4553-835f-8d8f1d53cfd6"
      },
      "execution_count": null,
      "outputs": [
        {
          "output_type": "execute_result",
          "data": {
            "text/plain": [
              "datetime.date(2021, 7, 30)"
            ]
          },
          "metadata": {},
          "execution_count": 80
        }
      ]
    },
    {
      "cell_type": "code",
      "source": [
        "df['NGA tarixi']"
      ],
      "metadata": {
        "colab": {
          "base_uri": "https://localhost:8080/"
        },
        "id": "B92CSvot-2eM",
        "outputId": "17f28db2-8e6f-4898-cf54-94615f078e97"
      },
      "execution_count": null,
      "outputs": [
        {
          "output_type": "execute_result",
          "data": {
            "text/plain": [
              "0        2021-07-30 18:20:00\n",
              "1        2021-07-30 18:20:00\n",
              "2        2021-07-30 18:20:00\n",
              "3        2021-07-30 18:18:06\n",
              "4        2021-07-30 18:18:06\n",
              "                 ...        \n",
              "458660   2021-08-02 09:39:08\n",
              "458661   2021-08-02 09:39:08\n",
              "458662   2021-08-02 09:39:08\n",
              "458663   2021-08-02 09:39:08\n",
              "458664   2021-08-02 09:39:08\n",
              "Name: NGA tarixi, Length: 458646, dtype: datetime64[ns]"
            ]
          },
          "metadata": {},
          "execution_count": 81
        }
      ]
    },
    {
      "cell_type": "code",
      "source": [
        "df['tarix'] = df['NGA tarixi'].apply(lambda x: x.date())"
      ],
      "metadata": {
        "id": "RZXvEaOe_hqO"
      },
      "execution_count": null,
      "outputs": []
    },
    {
      "cell_type": "code",
      "source": [
        "df = df[df['tarix'] <= datetime.date(2021, 12, 31)]\n",
        "df = df.reset_index(drop=True)\n",
        "len(df)"
      ],
      "metadata": {
        "colab": {
          "base_uri": "https://localhost:8080/"
        },
        "id": "jmV3QxLk9wJE",
        "outputId": "311f5c11-2076-4e83-ca24-8cb5acf390cb"
      },
      "execution_count": null,
      "outputs": [
        {
          "output_type": "execute_result",
          "data": {
            "text/plain": [
              "458383"
            ]
          },
          "metadata": {},
          "execution_count": 83
        }
      ]
    },
    {
      "cell_type": "code",
      "metadata": {
        "id": "fE8-vSTOI6bR"
      },
      "source": [
        "#df = df[df['ay_sirasi']<12] #8"
      ],
      "execution_count": null,
      "outputs": []
    },
    {
      "cell_type": "code",
      "metadata": {
        "colab": {
          "base_uri": "https://localhost:8080/"
        },
        "id": "EL-GBhV2JIRz",
        "outputId": "e517d93b-b943-4ed7-b3f0-283046a5d57c"
      },
      "source": [
        "df['groups_advanced_analiz_tipi_nas'].value_counts()"
      ],
      "execution_count": null,
      "outputs": [
        {
          "output_type": "execute_result",
          "data": {
            "text/plain": [
              "Fitosanitar nəzarət             207052\n",
              "Baytarlıq nəzarəti               94602\n",
              "Qida təhlükəsizliyi nəzarəti     94052\n",
              "Name: groups_advanced_analiz_tipi_nas, dtype: int64"
            ]
          },
          "metadata": {},
          "execution_count": 84
        }
      ]
    },
    {
      "cell_type": "code",
      "source": [
        "df['Analiz nəticəsi'].value_counts()"
      ],
      "metadata": {
        "colab": {
          "base_uri": "https://localhost:8080/"
        },
        "id": "_Hh1FEk1mS0-",
        "outputId": "fb1adba1-c0dd-4abe-980c-2fdbbc78fe15"
      },
      "execution_count": null,
      "outputs": [
        {
          "output_type": "execute_result",
          "data": {
            "text/plain": [
              "Uyğundur                     295051\n",
              "Aşkar edilmədi                30569\n",
              "Mənfi                         23498\n",
              "Faktiki                        8204\n",
              "Karantin Tətbiq edilməyən      3487\n",
              "Aşkar edildi                   3155\n",
              "Karantin Tətbiq edilən         1847\n",
              "Uyğun deyil                    1827\n",
              "Müsbət                         1733\n",
              "Name: Analiz nəticəsi, dtype: int64"
            ]
          },
          "metadata": {},
          "execution_count": 88
        }
      ]
    },
    {
      "cell_type": "code",
      "metadata": {
        "id": "mlcW_q4mqx6V"
      },
      "source": [
        "# ['Koronovirus müayinəsi', 'Suyun kütlə payı']\n",
        "df[df['groups_advanced_analiz_tipi_nas'].str.contains(\"Digər\")]['Analizin adı'].unique()"
      ],
      "execution_count": null,
      "outputs": []
    },
    {
      "cell_type": "code",
      "metadata": {
        "id": "LssnVDicqxul"
      },
      "source": [
        "#suyun kutle payi and koranovairu muayinesi we consider as qida sphere\n",
        "\n",
        "final_groups = []\n",
        "\n",
        "for index, value in enumerate(df['groups_advanced_analiz_tipi_nas']):\n",
        "\n",
        "  if value != \"Digər\":\n",
        "    final_groups.append(value)\n",
        "\n",
        "  elif value == \"Digər\":\n",
        "\n",
        "    if df.iloc[index].loc['Analizin adı'] == \"Koronovirus müayinəsi\":\n",
        "      final_groups.append(\"Qida təhlükəsizliyi nəzarəti\")\n",
        "    \n",
        "    elif df.iloc[index].loc['Analizin adı'] == \"Suyun kütlə payı\":\n",
        "      final_groups.append(\"Qida təhlükəsizliyi nəzarəti\")\n",
        "\n",
        "df['final_groups'] = final_groups"
      ],
      "execution_count": null,
      "outputs": []
    },
    {
      "cell_type": "code",
      "metadata": {
        "id": "_6Pn02QjqxiG"
      },
      "source": [
        "# df.iloc[0].loc['Analizin adı'] == \"Koronovirus müayinəsi\""
      ],
      "execution_count": null,
      "outputs": []
    },
    {
      "cell_type": "code",
      "metadata": {
        "id": "kh3BOleNNIX1"
      },
      "source": [
        "df['final_groups'].value_counts()"
      ],
      "execution_count": null,
      "outputs": []
    },
    {
      "cell_type": "code",
      "metadata": {
        "id": "R85ZwyvHqxam"
      },
      "source": [
        "df['final_groups'].value_counts()"
      ],
      "execution_count": null,
      "outputs": []
    },
    {
      "cell_type": "code",
      "metadata": {
        "id": "iPM6dO357mZ7"
      },
      "source": [
        "df['Laboratoriya'].unique()"
      ],
      "execution_count": null,
      "outputs": []
    },
    {
      "cell_type": "code",
      "metadata": {
        "id": "pN_IRcxjb68M"
      },
      "source": [
        "# baytarliq_laboratoriyalari = [\n",
        "#                                               'Mərkəzi Baytarlıq Laboratoriyası',\n",
        "#                                               'Bərdə Regional Sınaq Laboratoriyası',\n",
        "#                                               'Göygöl Regional Sınaq Laboratoriyası',\n",
        "#                                               'Qax Regionl Sınaq Laboratoriyası',\n",
        "#                                               'Quba Reqional Sınaq Laboratoriyası',\n",
        "#                                               'Sabirabad Regional Sınaq Laboratoriyası',\n",
        "#                               'GöyGöl Regional SIınaq Laboratoriyası',\n",
        "                                    \n",
        "\n",
        "\n",
        "#     ]"
      ],
      "execution_count": null,
      "outputs": []
    },
    {
      "cell_type": "code",
      "metadata": {
        "id": "HXjFivTUcNus"
      },
      "source": [
        "#np.array(df['Laboratoriya'])[0] in baytarliq_laboratoriyalari"
      ],
      "execution_count": null,
      "outputs": []
    },
    {
      "cell_type": "code",
      "metadata": {
        "id": "o7N0NaIed6Vp"
      },
      "source": [
        "#len(df)"
      ],
      "execution_count": null,
      "outputs": []
    },
    {
      "cell_type": "code",
      "metadata": {
        "id": "Bc-6iYb07hzC"
      },
      "source": [
        "#len(df[~df['Laboratoriya'].isin(baytarliq_laboratoriyalari)])"
      ],
      "execution_count": null,
      "outputs": []
    },
    {
      "cell_type": "code",
      "metadata": {
        "id": "EQZwvIiueIGp"
      },
      "source": [
        "#df_no_baytarliq = df[~df['Laboratoriya'].isin(baytarliq_laboratoriyalari)]"
      ],
      "execution_count": null,
      "outputs": []
    },
    {
      "cell_type": "code",
      "metadata": {
        "id": "_idJ0jBfeOzY"
      },
      "source": [
        "# sorted(df_no_baytarliq['Laboratoriya'].unique())"
      ],
      "execution_count": null,
      "outputs": []
    },
    {
      "cell_type": "code",
      "metadata": {
        "colab": {
          "base_uri": "https://localhost:8080/"
        },
        "id": "mZPz9dP3eOo4",
        "outputId": "b3005a22-0c7a-432d-97a6-f458b553e4c4"
      },
      "source": [
        "len(df[df['final_groups'] != \"Baytarlıq nəzarəti\"])"
      ],
      "execution_count": null,
      "outputs": [
        {
          "output_type": "execute_result",
          "data": {
            "text/plain": [
              "299342"
            ]
          },
          "metadata": {},
          "execution_count": 86
        }
      ]
    },
    {
      "cell_type": "markdown",
      "metadata": {
        "id": "Zc4X_0QEzWD1"
      },
      "source": [
        "# Activate below cell if you do not need baytarliq\n",
        "\n",
        "---\n",
        "\n"
      ]
    },
    {
      "cell_type": "code",
      "metadata": {
        "id": "VB34yxYveOZ4"
      },
      "source": [
        "checkpoint = df.iloc[:]\n",
        "df = df[df['final_groups'] != \"Baytarlıq nəzarəti\"]"
      ],
      "execution_count": null,
      "outputs": []
    },
    {
      "cell_type": "code",
      "source": [
        "len(df['Akt nömrəsi'].unique())"
      ],
      "metadata": {
        "colab": {
          "base_uri": "https://localhost:8080/"
        },
        "id": "43-sdPlOhY8c",
        "outputId": "7a5842b8-ce2e-4cd5-b6a4-73e647523a68"
      },
      "execution_count": null,
      "outputs": [
        {
          "output_type": "execute_result",
          "data": {
            "text/plain": [
              "76496"
            ]
          },
          "metadata": {},
          "execution_count": 46
        }
      ]
    },
    {
      "cell_type": "code",
      "source": [
        "clear_data = df.copy()"
      ],
      "metadata": {
        "id": "JIsTAtvmhY50"
      },
      "execution_count": null,
      "outputs": []
    },
    {
      "cell_type": "code",
      "source": [
        "len(clear_data.groupby(['Akt nömrəsi', \"Məhsul\"])['Laboratoriya'].count())"
      ],
      "metadata": {
        "colab": {
          "base_uri": "https://localhost:8080/"
        },
        "id": "9rnmZpq_hY3r",
        "outputId": "dcd2952f-0548-48df-ef65-4052c1f214a0"
      },
      "execution_count": null,
      "outputs": [
        {
          "output_type": "execute_result",
          "data": {
            "text/plain": [
              "87750"
            ]
          },
          "metadata": {},
          "execution_count": 97
        }
      ]
    },
    {
      "cell_type": "code",
      "source": [
        ""
      ],
      "metadata": {
        "id": "bTD7IlxqhY0r"
      },
      "execution_count": null,
      "outputs": []
    },
    {
      "cell_type": "code",
      "source": [
        ""
      ],
      "metadata": {
        "id": "KBNcWeEBhYv1"
      },
      "execution_count": null,
      "outputs": []
    },
    {
      "cell_type": "code",
      "source": [
        ""
      ],
      "metadata": {
        "id": "o02bOg6hhYst"
      },
      "execution_count": null,
      "outputs": []
    },
    {
      "cell_type": "code",
      "source": [
        ""
      ],
      "metadata": {
        "id": "j5I8P6hAhYmQ"
      },
      "execution_count": null,
      "outputs": []
    },
    {
      "cell_type": "code",
      "source": [
        ""
      ],
      "metadata": {
        "id": "G4Ch8acMhYXq"
      },
      "execution_count": null,
      "outputs": []
    },
    {
      "cell_type": "code",
      "metadata": {
        "colab": {
          "base_uri": "https://localhost:8080/",
          "height": 175
        },
        "id": "Zh2XbWvtqwqF",
        "outputId": "f4a7e193-0b7a-40e6-fb25-9fb67a669fff"
      },
      "source": [
        "table = pd.pivot_table(df, index = ['final_groups'], \n",
        "                       columns=['ay_sirasi'], values=['Akt nömrəsi'], aggfunc=len)\n",
        "\n",
        "table.to_excel('Table1_dekabr.xlsx')\n",
        "table"
      ],
      "execution_count": null,
      "outputs": [
        {
          "output_type": "execute_result",
          "data": {
            "text/html": [
              "\n",
              "  <div id=\"df-203813ba-ed11-41d2-9af2-b0dd0f3472a4\">\n",
              "    <div class=\"colab-df-container\">\n",
              "      <div>\n",
              "<style scoped>\n",
              "    .dataframe tbody tr th:only-of-type {\n",
              "        vertical-align: middle;\n",
              "    }\n",
              "\n",
              "    .dataframe tbody tr th {\n",
              "        vertical-align: top;\n",
              "    }\n",
              "\n",
              "    .dataframe thead tr th {\n",
              "        text-align: left;\n",
              "    }\n",
              "\n",
              "    .dataframe thead tr:last-of-type th {\n",
              "        text-align: right;\n",
              "    }\n",
              "</style>\n",
              "<table border=\"1\" class=\"dataframe\">\n",
              "  <thead>\n",
              "    <tr>\n",
              "      <th></th>\n",
              "      <th colspan=\"12\" halign=\"left\">Akt nömrəsi</th>\n",
              "    </tr>\n",
              "    <tr>\n",
              "      <th>ay_sirasi</th>\n",
              "      <th>1</th>\n",
              "      <th>2</th>\n",
              "      <th>3</th>\n",
              "      <th>4</th>\n",
              "      <th>5</th>\n",
              "      <th>6</th>\n",
              "      <th>7</th>\n",
              "      <th>8</th>\n",
              "      <th>9</th>\n",
              "      <th>10</th>\n",
              "      <th>11</th>\n",
              "      <th>12</th>\n",
              "    </tr>\n",
              "    <tr>\n",
              "      <th>final_groups</th>\n",
              "      <th></th>\n",
              "      <th></th>\n",
              "      <th></th>\n",
              "      <th></th>\n",
              "      <th></th>\n",
              "      <th></th>\n",
              "      <th></th>\n",
              "      <th></th>\n",
              "      <th></th>\n",
              "      <th></th>\n",
              "      <th></th>\n",
              "      <th></th>\n",
              "    </tr>\n",
              "  </thead>\n",
              "  <tbody>\n",
              "    <tr>\n",
              "      <th>Fitosanitar nəzarət</th>\n",
              "      <td>9566</td>\n",
              "      <td>11776</td>\n",
              "      <td>14645</td>\n",
              "      <td>20306</td>\n",
              "      <td>22484</td>\n",
              "      <td>22130</td>\n",
              "      <td>11394</td>\n",
              "      <td>15964</td>\n",
              "      <td>20516</td>\n",
              "      <td>21440</td>\n",
              "      <td>20483</td>\n",
              "      <td>16026</td>\n",
              "    </tr>\n",
              "    <tr>\n",
              "      <th>Qida təhlükəsizliyi nəzarəti</th>\n",
              "      <td>4799</td>\n",
              "      <td>5454</td>\n",
              "      <td>6131</td>\n",
              "      <td>10714</td>\n",
              "      <td>7030</td>\n",
              "      <td>7928</td>\n",
              "      <td>6862</td>\n",
              "      <td>6741</td>\n",
              "      <td>7368</td>\n",
              "      <td>9963</td>\n",
              "      <td>9104</td>\n",
              "      <td>10518</td>\n",
              "    </tr>\n",
              "  </tbody>\n",
              "</table>\n",
              "</div>\n",
              "      <button class=\"colab-df-convert\" onclick=\"convertToInteractive('df-203813ba-ed11-41d2-9af2-b0dd0f3472a4')\"\n",
              "              title=\"Convert this dataframe to an interactive table.\"\n",
              "              style=\"display:none;\">\n",
              "        \n",
              "  <svg xmlns=\"http://www.w3.org/2000/svg\" height=\"24px\"viewBox=\"0 0 24 24\"\n",
              "       width=\"24px\">\n",
              "    <path d=\"M0 0h24v24H0V0z\" fill=\"none\"/>\n",
              "    <path d=\"M18.56 5.44l.94 2.06.94-2.06 2.06-.94-2.06-.94-.94-2.06-.94 2.06-2.06.94zm-11 1L8.5 8.5l.94-2.06 2.06-.94-2.06-.94L8.5 2.5l-.94 2.06-2.06.94zm10 10l.94 2.06.94-2.06 2.06-.94-2.06-.94-.94-2.06-.94 2.06-2.06.94z\"/><path d=\"M17.41 7.96l-1.37-1.37c-.4-.4-.92-.59-1.43-.59-.52 0-1.04.2-1.43.59L10.3 9.45l-7.72 7.72c-.78.78-.78 2.05 0 2.83L4 21.41c.39.39.9.59 1.41.59.51 0 1.02-.2 1.41-.59l7.78-7.78 2.81-2.81c.8-.78.8-2.07 0-2.86zM5.41 20L4 18.59l7.72-7.72 1.47 1.35L5.41 20z\"/>\n",
              "  </svg>\n",
              "      </button>\n",
              "      \n",
              "  <style>\n",
              "    .colab-df-container {\n",
              "      display:flex;\n",
              "      flex-wrap:wrap;\n",
              "      gap: 12px;\n",
              "    }\n",
              "\n",
              "    .colab-df-convert {\n",
              "      background-color: #E8F0FE;\n",
              "      border: none;\n",
              "      border-radius: 50%;\n",
              "      cursor: pointer;\n",
              "      display: none;\n",
              "      fill: #1967D2;\n",
              "      height: 32px;\n",
              "      padding: 0 0 0 0;\n",
              "      width: 32px;\n",
              "    }\n",
              "\n",
              "    .colab-df-convert:hover {\n",
              "      background-color: #E2EBFA;\n",
              "      box-shadow: 0px 1px 2px rgba(60, 64, 67, 0.3), 0px 1px 3px 1px rgba(60, 64, 67, 0.15);\n",
              "      fill: #174EA6;\n",
              "    }\n",
              "\n",
              "    [theme=dark] .colab-df-convert {\n",
              "      background-color: #3B4455;\n",
              "      fill: #D2E3FC;\n",
              "    }\n",
              "\n",
              "    [theme=dark] .colab-df-convert:hover {\n",
              "      background-color: #434B5C;\n",
              "      box-shadow: 0px 1px 3px 1px rgba(0, 0, 0, 0.15);\n",
              "      filter: drop-shadow(0px 1px 2px rgba(0, 0, 0, 0.3));\n",
              "      fill: #FFFFFF;\n",
              "    }\n",
              "  </style>\n",
              "\n",
              "      <script>\n",
              "        const buttonEl =\n",
              "          document.querySelector('#df-203813ba-ed11-41d2-9af2-b0dd0f3472a4 button.colab-df-convert');\n",
              "        buttonEl.style.display =\n",
              "          google.colab.kernel.accessAllowed ? 'block' : 'none';\n",
              "\n",
              "        async function convertToInteractive(key) {\n",
              "          const element = document.querySelector('#df-203813ba-ed11-41d2-9af2-b0dd0f3472a4');\n",
              "          const dataTable =\n",
              "            await google.colab.kernel.invokeFunction('convertToInteractive',\n",
              "                                                     [key], {});\n",
              "          if (!dataTable) return;\n",
              "\n",
              "          const docLinkHtml = 'Like what you see? Visit the ' +\n",
              "            '<a target=\"_blank\" href=https://colab.research.google.com/notebooks/data_table.ipynb>data table notebook</a>'\n",
              "            + ' to learn more about interactive tables.';\n",
              "          element.innerHTML = '';\n",
              "          dataTable['output_type'] = 'display_data';\n",
              "          await google.colab.output.renderOutput(dataTable, element);\n",
              "          const docLink = document.createElement('div');\n",
              "          docLink.innerHTML = docLinkHtml;\n",
              "          element.appendChild(docLink);\n",
              "        }\n",
              "      </script>\n",
              "    </div>\n",
              "  </div>\n",
              "  "
            ],
            "text/plain": [
              "                             Akt nömrəsi                ...                     \n",
              "ay_sirasi                             1      2      3   ...     10     11     12\n",
              "final_groups                                            ...                     \n",
              "Fitosanitar nəzarət                 9566  11776  14645  ...  21440  20483  16026\n",
              "Qida təhlükəsizliyi nəzarəti        4799   5454   6131  ...   9963   9104  10518\n",
              "\n",
              "[2 rows x 12 columns]"
            ]
          },
          "metadata": {},
          "execution_count": 89
        }
      ]
    },
    {
      "cell_type": "code",
      "metadata": {
        "id": "lOc2WtRD0xQd"
      },
      "source": [
        "numunenin_teyinati = []\n",
        "\n",
        "for i in df['Nümunənin təyinatı']:\n",
        "  if i in [\n",
        "          \"İxrac prosesi\",\n",
        "          \"İxrac (prosessiz)\",\n",
        "          'İxrac (prosessiz) ',\n",
        "          \"Heyvan məhsulları ixrac\"\n",
        "  ]:\n",
        "    numunenin_teyinati.append('İxrac')\n",
        "    #####################################\n",
        "  elif i in [\n",
        "             'İdxal prosesi',\n",
        "             'İdxal (prosessiz)'\n",
        "  ]:\n",
        "    numunenin_teyinati.append('İdxal')\n",
        "    #####################################\n",
        "  elif i in [\n",
        "             'Dövlət sifarişi',\n",
        "             'Regional baytarlıq idarəsi',\n",
        "             'Dövlət qurumu'\n",
        "  ]:\n",
        "    numunenin_teyinati.append('Dövlət qurumu')\n",
        "    #########################################\n",
        "  elif i in [\n",
        "             'Monitoring (prosessiz)',\n",
        "             'Monitoring',\n",
        "             'Monitorinq'\n",
        "  ]:\n",
        "    numunenin_teyinati.append(\"Monitorinq\")\n",
        "    #########################################\n",
        "  elif i in [\n",
        "             'Müqavilə üzrə fərdi müraciət',\n",
        "             'Fərdi müraciət'\n",
        "  ]:\n",
        "    numunenin_teyinati.append(\"Fərdi istək\")\n",
        "    ##########################################\n",
        "  elif i in ['Şikayət']:\n",
        "    numunenin_teyinati.append('Şikayət')\n",
        "    ##########################################\n",
        "  elif i in [\n",
        "             'Yoxlama (planlı)',\n",
        "             'Yoxlama (plandan kənar)'\n",
        "  ]:\n",
        "    numunenin_teyinati.append('Yoxlama')\n",
        "    ##########################################\n",
        "  elif i in [\n",
        "           'Daxili karantin sertifikatı',\n",
        "           'Qiymətləndirmə',\n",
        "           'Baytarlıq ekspertiza aktı',\n",
        "           'Elmi araşdırma',\n",
        "           'Qeydiyyat prosesi',\n",
        "           'Zəhərlənmə'\n",
        "  ]:\n",
        "    numunenin_teyinati.append('Digər')\n",
        "  else:\n",
        "    numunenin_teyinati.append(i)"
      ],
      "execution_count": null,
      "outputs": []
    },
    {
      "cell_type": "code",
      "metadata": {
        "id": "kSRhqbATKD5W"
      },
      "source": [
        "df['numunenin_teyinati'] = numunenin_teyinati"
      ],
      "execution_count": null,
      "outputs": []
    },
    {
      "cell_type": "code",
      "metadata": {
        "id": "r8lreVB9VGIt"
      },
      "source": [
        "# column_order = [\"İdxal\", \"İxrac\", \"Monitorinq\", \"Yoxlama\", \"Fərdi istək\", \"Dövlət qurumu\", \"Şikayət\", \"Digər\", \"Forma 2\"]"
      ],
      "execution_count": null,
      "outputs": []
    },
    {
      "cell_type": "code",
      "metadata": {
        "colab": {
          "base_uri": "https://localhost:8080/"
        },
        "id": "lTZlbK0-4lWL",
        "outputId": "ac23dbb7-e08f-4501-a5c5-2304de87a205"
      },
      "source": [
        "# table.columns"
      ],
      "execution_count": null,
      "outputs": [
        {
          "output_type": "execute_result",
          "data": {
            "text/plain": [
              "MultiIndex([('Akt nömrəsi',              'Digər'),\n",
              "            ('Akt nömrəsi',      'Dövlət qurumu'),\n",
              "            ('Akt nömrəsi',            'Forma 2'),\n",
              "            ('Akt nömrəsi',        'Fərdi istək'),\n",
              "            ('Akt nömrəsi',         'Monitorinq'),\n",
              "            ('Akt nömrəsi', 'Sənəd ekspertizası'),\n",
              "            ('Akt nömrəsi',           'Yarmarka'),\n",
              "            ('Akt nömrəsi',            'Yoxlama'),\n",
              "            ('Akt nömrəsi',              'İdxal'),\n",
              "            ('Akt nömrəsi',              'İxrac'),\n",
              "            ('Akt nömrəsi',            'Şikayət')],\n",
              "           names=[None, 'numunenin_teyinati'])"
            ]
          },
          "metadata": {},
          "execution_count": 47
        }
      ]
    },
    {
      "cell_type": "code",
      "metadata": {
        "id": "ddYKwXPs4xD6"
      },
      "source": [
        "column_order = [\n",
        "      ('Akt nömrəsi',              'İdxal'),\n",
        "      ('Akt nömrəsi',                'İxrac'),\n",
        "      ('Akt nömrəsi',           'Monitorinq'),\n",
        "      ('Akt nömrəsi',              'Yoxlama'),\n",
        "      ('Akt nömrəsi',          \"Fərdi istək\"),\n",
        "      ('Akt nömrəsi',        \"Dövlət qurumu\"),\n",
        "      ('Akt nömrəsi',              'Şikayət'),\n",
        "      ('Akt nömrəsi',                'Digər'),\n",
        "      ('Akt nömrəsi',              \"Forma 2\"),\n",
        "      ('Akt nömrəsi',   'Sənəd ekspertizası'),\n",
        "      ('Akt nömrəsi',             'Yarmarka')\n",
        "]"
      ],
      "execution_count": null,
      "outputs": []
    },
    {
      "cell_type": "code",
      "metadata": {
        "id": "DvjwHNOWKK6r",
        "colab": {
          "base_uri": "https://localhost:8080/",
          "height": 865
        },
        "outputId": "030b2f72-c20f-43fc-8474-37956b9ef77b"
      },
      "source": [
        "table = pd.pivot_table(df, index = ['final_groups', 'ay_sirasi'], \n",
        "                       columns=['numunenin_teyinati'], values=['Akt nömrəsi'], aggfunc=len)\n",
        "\n",
        "# table = table.reindex(column_order, axis=1)\n",
        "table.to_excel('Table2_dekabr.xlsx')\n",
        "table"
      ],
      "execution_count": null,
      "outputs": [
        {
          "output_type": "execute_result",
          "data": {
            "text/html": [
              "\n",
              "  <div id=\"df-835812a3-59b4-4c9b-8346-c995e8873ded\">\n",
              "    <div class=\"colab-df-container\">\n",
              "      <div>\n",
              "<style scoped>\n",
              "    .dataframe tbody tr th:only-of-type {\n",
              "        vertical-align: middle;\n",
              "    }\n",
              "\n",
              "    .dataframe tbody tr th {\n",
              "        vertical-align: top;\n",
              "    }\n",
              "\n",
              "    .dataframe thead tr th {\n",
              "        text-align: left;\n",
              "    }\n",
              "\n",
              "    .dataframe thead tr:last-of-type th {\n",
              "        text-align: right;\n",
              "    }\n",
              "</style>\n",
              "<table border=\"1\" class=\"dataframe\">\n",
              "  <thead>\n",
              "    <tr>\n",
              "      <th></th>\n",
              "      <th></th>\n",
              "      <th colspan=\"12\" halign=\"left\">Akt nömrəsi</th>\n",
              "    </tr>\n",
              "    <tr>\n",
              "      <th></th>\n",
              "      <th>numunenin_teyinati</th>\n",
              "      <th>Digər</th>\n",
              "      <th>Dövlət qurumu</th>\n",
              "      <th>Forma 2</th>\n",
              "      <th>Fərdi istək</th>\n",
              "      <th>HİQS</th>\n",
              "      <th>Monitorinq</th>\n",
              "      <th>Sənəd ekspertizası</th>\n",
              "      <th>Yarmarka</th>\n",
              "      <th>Yoxlama</th>\n",
              "      <th>İdxal</th>\n",
              "      <th>İxrac</th>\n",
              "      <th>Şikayət</th>\n",
              "    </tr>\n",
              "    <tr>\n",
              "      <th>final_groups</th>\n",
              "      <th>ay_sirasi</th>\n",
              "      <th></th>\n",
              "      <th></th>\n",
              "      <th></th>\n",
              "      <th></th>\n",
              "      <th></th>\n",
              "      <th></th>\n",
              "      <th></th>\n",
              "      <th></th>\n",
              "      <th></th>\n",
              "      <th></th>\n",
              "      <th></th>\n",
              "      <th></th>\n",
              "    </tr>\n",
              "  </thead>\n",
              "  <tbody>\n",
              "    <tr>\n",
              "      <th rowspan=\"12\" valign=\"top\">Fitosanitar nəzarət</th>\n",
              "      <th>1</th>\n",
              "      <td>1054.0</td>\n",
              "      <td>NaN</td>\n",
              "      <td>NaN</td>\n",
              "      <td>13.0</td>\n",
              "      <td>NaN</td>\n",
              "      <td>2537.0</td>\n",
              "      <td>NaN</td>\n",
              "      <td>NaN</td>\n",
              "      <td>15.0</td>\n",
              "      <td>1263.0</td>\n",
              "      <td>4680.0</td>\n",
              "      <td>4.0</td>\n",
              "    </tr>\n",
              "    <tr>\n",
              "      <th>2</th>\n",
              "      <td>109.0</td>\n",
              "      <td>NaN</td>\n",
              "      <td>NaN</td>\n",
              "      <td>16.0</td>\n",
              "      <td>NaN</td>\n",
              "      <td>1476.0</td>\n",
              "      <td>NaN</td>\n",
              "      <td>NaN</td>\n",
              "      <td>20.0</td>\n",
              "      <td>2277.0</td>\n",
              "      <td>7876.0</td>\n",
              "      <td>2.0</td>\n",
              "    </tr>\n",
              "    <tr>\n",
              "      <th>3</th>\n",
              "      <td>58.0</td>\n",
              "      <td>30.0</td>\n",
              "      <td>NaN</td>\n",
              "      <td>6.0</td>\n",
              "      <td>NaN</td>\n",
              "      <td>2513.0</td>\n",
              "      <td>NaN</td>\n",
              "      <td>NaN</td>\n",
              "      <td>3.0</td>\n",
              "      <td>2905.0</td>\n",
              "      <td>9130.0</td>\n",
              "      <td>NaN</td>\n",
              "    </tr>\n",
              "    <tr>\n",
              "      <th>4</th>\n",
              "      <td>61.0</td>\n",
              "      <td>117.0</td>\n",
              "      <td>NaN</td>\n",
              "      <td>43.0</td>\n",
              "      <td>NaN</td>\n",
              "      <td>2301.0</td>\n",
              "      <td>NaN</td>\n",
              "      <td>NaN</td>\n",
              "      <td>21.0</td>\n",
              "      <td>3381.0</td>\n",
              "      <td>14381.0</td>\n",
              "      <td>1.0</td>\n",
              "    </tr>\n",
              "    <tr>\n",
              "      <th>5</th>\n",
              "      <td>543.0</td>\n",
              "      <td>3.0</td>\n",
              "      <td>NaN</td>\n",
              "      <td>25.0</td>\n",
              "      <td>NaN</td>\n",
              "      <td>1826.0</td>\n",
              "      <td>NaN</td>\n",
              "      <td>NaN</td>\n",
              "      <td>4.0</td>\n",
              "      <td>1466.0</td>\n",
              "      <td>18617.0</td>\n",
              "      <td>NaN</td>\n",
              "    </tr>\n",
              "    <tr>\n",
              "      <th>6</th>\n",
              "      <td>317.0</td>\n",
              "      <td>62.0</td>\n",
              "      <td>NaN</td>\n",
              "      <td>258.0</td>\n",
              "      <td>NaN</td>\n",
              "      <td>2255.0</td>\n",
              "      <td>NaN</td>\n",
              "      <td>NaN</td>\n",
              "      <td>8.0</td>\n",
              "      <td>1647.0</td>\n",
              "      <td>17518.0</td>\n",
              "      <td>65.0</td>\n",
              "    </tr>\n",
              "    <tr>\n",
              "      <th>7</th>\n",
              "      <td>336.0</td>\n",
              "      <td>39.0</td>\n",
              "      <td>NaN</td>\n",
              "      <td>40.0</td>\n",
              "      <td>NaN</td>\n",
              "      <td>784.0</td>\n",
              "      <td>NaN</td>\n",
              "      <td>NaN</td>\n",
              "      <td>NaN</td>\n",
              "      <td>863.0</td>\n",
              "      <td>9328.0</td>\n",
              "      <td>4.0</td>\n",
              "    </tr>\n",
              "    <tr>\n",
              "      <th>8</th>\n",
              "      <td>263.0</td>\n",
              "      <td>46.0</td>\n",
              "      <td>NaN</td>\n",
              "      <td>81.0</td>\n",
              "      <td>NaN</td>\n",
              "      <td>1321.0</td>\n",
              "      <td>NaN</td>\n",
              "      <td>NaN</td>\n",
              "      <td>22.0</td>\n",
              "      <td>2476.0</td>\n",
              "      <td>11724.0</td>\n",
              "      <td>31.0</td>\n",
              "    </tr>\n",
              "    <tr>\n",
              "      <th>9</th>\n",
              "      <td>1184.0</td>\n",
              "      <td>19.0</td>\n",
              "      <td>NaN</td>\n",
              "      <td>84.0</td>\n",
              "      <td>NaN</td>\n",
              "      <td>1461.0</td>\n",
              "      <td>NaN</td>\n",
              "      <td>NaN</td>\n",
              "      <td>12.0</td>\n",
              "      <td>5545.0</td>\n",
              "      <td>12193.0</td>\n",
              "      <td>18.0</td>\n",
              "    </tr>\n",
              "    <tr>\n",
              "      <th>10</th>\n",
              "      <td>1787.0</td>\n",
              "      <td>17.0</td>\n",
              "      <td>NaN</td>\n",
              "      <td>100.0</td>\n",
              "      <td>NaN</td>\n",
              "      <td>1514.0</td>\n",
              "      <td>NaN</td>\n",
              "      <td>NaN</td>\n",
              "      <td>2.0</td>\n",
              "      <td>6852.0</td>\n",
              "      <td>11164.0</td>\n",
              "      <td>4.0</td>\n",
              "    </tr>\n",
              "    <tr>\n",
              "      <th>11</th>\n",
              "      <td>1390.0</td>\n",
              "      <td>8.0</td>\n",
              "      <td>NaN</td>\n",
              "      <td>16.0</td>\n",
              "      <td>NaN</td>\n",
              "      <td>1536.0</td>\n",
              "      <td>NaN</td>\n",
              "      <td>NaN</td>\n",
              "      <td>52.0</td>\n",
              "      <td>5819.0</td>\n",
              "      <td>11662.0</td>\n",
              "      <td>NaN</td>\n",
              "    </tr>\n",
              "    <tr>\n",
              "      <th>12</th>\n",
              "      <td>754.0</td>\n",
              "      <td>13.0</td>\n",
              "      <td>NaN</td>\n",
              "      <td>22.0</td>\n",
              "      <td>1.0</td>\n",
              "      <td>862.0</td>\n",
              "      <td>NaN</td>\n",
              "      <td>NaN</td>\n",
              "      <td>165.0</td>\n",
              "      <td>6225.0</td>\n",
              "      <td>7984.0</td>\n",
              "      <td>NaN</td>\n",
              "    </tr>\n",
              "    <tr>\n",
              "      <th rowspan=\"12\" valign=\"top\">Qida təhlükəsizliyi nəzarəti</th>\n",
              "      <th>1</th>\n",
              "      <td>84.0</td>\n",
              "      <td>21.0</td>\n",
              "      <td>NaN</td>\n",
              "      <td>888.0</td>\n",
              "      <td>NaN</td>\n",
              "      <td>74.0</td>\n",
              "      <td>NaN</td>\n",
              "      <td>NaN</td>\n",
              "      <td>251.0</td>\n",
              "      <td>3004.0</td>\n",
              "      <td>419.0</td>\n",
              "      <td>58.0</td>\n",
              "    </tr>\n",
              "    <tr>\n",
              "      <th>2</th>\n",
              "      <td>48.0</td>\n",
              "      <td>46.0</td>\n",
              "      <td>NaN</td>\n",
              "      <td>816.0</td>\n",
              "      <td>NaN</td>\n",
              "      <td>72.0</td>\n",
              "      <td>NaN</td>\n",
              "      <td>NaN</td>\n",
              "      <td>209.0</td>\n",
              "      <td>3742.0</td>\n",
              "      <td>474.0</td>\n",
              "      <td>47.0</td>\n",
              "    </tr>\n",
              "    <tr>\n",
              "      <th>3</th>\n",
              "      <td>91.0</td>\n",
              "      <td>27.0</td>\n",
              "      <td>NaN</td>\n",
              "      <td>941.0</td>\n",
              "      <td>NaN</td>\n",
              "      <td>285.0</td>\n",
              "      <td>NaN</td>\n",
              "      <td>NaN</td>\n",
              "      <td>124.0</td>\n",
              "      <td>3696.0</td>\n",
              "      <td>948.0</td>\n",
              "      <td>19.0</td>\n",
              "    </tr>\n",
              "    <tr>\n",
              "      <th>4</th>\n",
              "      <td>137.0</td>\n",
              "      <td>15.0</td>\n",
              "      <td>NaN</td>\n",
              "      <td>994.0</td>\n",
              "      <td>NaN</td>\n",
              "      <td>1057.0</td>\n",
              "      <td>NaN</td>\n",
              "      <td>NaN</td>\n",
              "      <td>225.0</td>\n",
              "      <td>7792.0</td>\n",
              "      <td>468.0</td>\n",
              "      <td>26.0</td>\n",
              "    </tr>\n",
              "    <tr>\n",
              "      <th>5</th>\n",
              "      <td>221.0</td>\n",
              "      <td>160.0</td>\n",
              "      <td>NaN</td>\n",
              "      <td>587.0</td>\n",
              "      <td>NaN</td>\n",
              "      <td>301.0</td>\n",
              "      <td>NaN</td>\n",
              "      <td>NaN</td>\n",
              "      <td>232.0</td>\n",
              "      <td>5208.0</td>\n",
              "      <td>314.0</td>\n",
              "      <td>7.0</td>\n",
              "    </tr>\n",
              "    <tr>\n",
              "      <th>6</th>\n",
              "      <td>132.0</td>\n",
              "      <td>479.0</td>\n",
              "      <td>NaN</td>\n",
              "      <td>1094.0</td>\n",
              "      <td>NaN</td>\n",
              "      <td>508.0</td>\n",
              "      <td>NaN</td>\n",
              "      <td>NaN</td>\n",
              "      <td>206.0</td>\n",
              "      <td>5214.0</td>\n",
              "      <td>248.0</td>\n",
              "      <td>47.0</td>\n",
              "    </tr>\n",
              "    <tr>\n",
              "      <th>7</th>\n",
              "      <td>237.0</td>\n",
              "      <td>107.0</td>\n",
              "      <td>30.0</td>\n",
              "      <td>914.0</td>\n",
              "      <td>NaN</td>\n",
              "      <td>117.0</td>\n",
              "      <td>NaN</td>\n",
              "      <td>NaN</td>\n",
              "      <td>177.0</td>\n",
              "      <td>5029.0</td>\n",
              "      <td>191.0</td>\n",
              "      <td>60.0</td>\n",
              "    </tr>\n",
              "    <tr>\n",
              "      <th>8</th>\n",
              "      <td>73.0</td>\n",
              "      <td>77.0</td>\n",
              "      <td>5.0</td>\n",
              "      <td>746.0</td>\n",
              "      <td>NaN</td>\n",
              "      <td>74.0</td>\n",
              "      <td>NaN</td>\n",
              "      <td>NaN</td>\n",
              "      <td>133.0</td>\n",
              "      <td>5127.0</td>\n",
              "      <td>460.0</td>\n",
              "      <td>46.0</td>\n",
              "    </tr>\n",
              "    <tr>\n",
              "      <th>9</th>\n",
              "      <td>80.0</td>\n",
              "      <td>21.0</td>\n",
              "      <td>34.0</td>\n",
              "      <td>1003.0</td>\n",
              "      <td>NaN</td>\n",
              "      <td>186.0</td>\n",
              "      <td>6.0</td>\n",
              "      <td>NaN</td>\n",
              "      <td>229.0</td>\n",
              "      <td>5281.0</td>\n",
              "      <td>484.0</td>\n",
              "      <td>44.0</td>\n",
              "    </tr>\n",
              "    <tr>\n",
              "      <th>10</th>\n",
              "      <td>65.0</td>\n",
              "      <td>26.0</td>\n",
              "      <td>37.0</td>\n",
              "      <td>1406.0</td>\n",
              "      <td>NaN</td>\n",
              "      <td>892.0</td>\n",
              "      <td>NaN</td>\n",
              "      <td>1093.0</td>\n",
              "      <td>234.0</td>\n",
              "      <td>5489.0</td>\n",
              "      <td>685.0</td>\n",
              "      <td>36.0</td>\n",
              "    </tr>\n",
              "    <tr>\n",
              "      <th>11</th>\n",
              "      <td>88.0</td>\n",
              "      <td>68.0</td>\n",
              "      <td>59.0</td>\n",
              "      <td>1558.0</td>\n",
              "      <td>NaN</td>\n",
              "      <td>567.0</td>\n",
              "      <td>NaN</td>\n",
              "      <td>NaN</td>\n",
              "      <td>218.0</td>\n",
              "      <td>5177.0</td>\n",
              "      <td>1367.0</td>\n",
              "      <td>2.0</td>\n",
              "    </tr>\n",
              "    <tr>\n",
              "      <th>12</th>\n",
              "      <td>189.0</td>\n",
              "      <td>9.0</td>\n",
              "      <td>130.0</td>\n",
              "      <td>1284.0</td>\n",
              "      <td>NaN</td>\n",
              "      <td>1023.0</td>\n",
              "      <td>NaN</td>\n",
              "      <td>NaN</td>\n",
              "      <td>261.0</td>\n",
              "      <td>6792.0</td>\n",
              "      <td>823.0</td>\n",
              "      <td>7.0</td>\n",
              "    </tr>\n",
              "  </tbody>\n",
              "</table>\n",
              "</div>\n",
              "      <button class=\"colab-df-convert\" onclick=\"convertToInteractive('df-835812a3-59b4-4c9b-8346-c995e8873ded')\"\n",
              "              title=\"Convert this dataframe to an interactive table.\"\n",
              "              style=\"display:none;\">\n",
              "        \n",
              "  <svg xmlns=\"http://www.w3.org/2000/svg\" height=\"24px\"viewBox=\"0 0 24 24\"\n",
              "       width=\"24px\">\n",
              "    <path d=\"M0 0h24v24H0V0z\" fill=\"none\"/>\n",
              "    <path d=\"M18.56 5.44l.94 2.06.94-2.06 2.06-.94-2.06-.94-.94-2.06-.94 2.06-2.06.94zm-11 1L8.5 8.5l.94-2.06 2.06-.94-2.06-.94L8.5 2.5l-.94 2.06-2.06.94zm10 10l.94 2.06.94-2.06 2.06-.94-2.06-.94-.94-2.06-.94 2.06-2.06.94z\"/><path d=\"M17.41 7.96l-1.37-1.37c-.4-.4-.92-.59-1.43-.59-.52 0-1.04.2-1.43.59L10.3 9.45l-7.72 7.72c-.78.78-.78 2.05 0 2.83L4 21.41c.39.39.9.59 1.41.59.51 0 1.02-.2 1.41-.59l7.78-7.78 2.81-2.81c.8-.78.8-2.07 0-2.86zM5.41 20L4 18.59l7.72-7.72 1.47 1.35L5.41 20z\"/>\n",
              "  </svg>\n",
              "      </button>\n",
              "      \n",
              "  <style>\n",
              "    .colab-df-container {\n",
              "      display:flex;\n",
              "      flex-wrap:wrap;\n",
              "      gap: 12px;\n",
              "    }\n",
              "\n",
              "    .colab-df-convert {\n",
              "      background-color: #E8F0FE;\n",
              "      border: none;\n",
              "      border-radius: 50%;\n",
              "      cursor: pointer;\n",
              "      display: none;\n",
              "      fill: #1967D2;\n",
              "      height: 32px;\n",
              "      padding: 0 0 0 0;\n",
              "      width: 32px;\n",
              "    }\n",
              "\n",
              "    .colab-df-convert:hover {\n",
              "      background-color: #E2EBFA;\n",
              "      box-shadow: 0px 1px 2px rgba(60, 64, 67, 0.3), 0px 1px 3px 1px rgba(60, 64, 67, 0.15);\n",
              "      fill: #174EA6;\n",
              "    }\n",
              "\n",
              "    [theme=dark] .colab-df-convert {\n",
              "      background-color: #3B4455;\n",
              "      fill: #D2E3FC;\n",
              "    }\n",
              "\n",
              "    [theme=dark] .colab-df-convert:hover {\n",
              "      background-color: #434B5C;\n",
              "      box-shadow: 0px 1px 3px 1px rgba(0, 0, 0, 0.15);\n",
              "      filter: drop-shadow(0px 1px 2px rgba(0, 0, 0, 0.3));\n",
              "      fill: #FFFFFF;\n",
              "    }\n",
              "  </style>\n",
              "\n",
              "      <script>\n",
              "        const buttonEl =\n",
              "          document.querySelector('#df-835812a3-59b4-4c9b-8346-c995e8873ded button.colab-df-convert');\n",
              "        buttonEl.style.display =\n",
              "          google.colab.kernel.accessAllowed ? 'block' : 'none';\n",
              "\n",
              "        async function convertToInteractive(key) {\n",
              "          const element = document.querySelector('#df-835812a3-59b4-4c9b-8346-c995e8873ded');\n",
              "          const dataTable =\n",
              "            await google.colab.kernel.invokeFunction('convertToInteractive',\n",
              "                                                     [key], {});\n",
              "          if (!dataTable) return;\n",
              "\n",
              "          const docLinkHtml = 'Like what you see? Visit the ' +\n",
              "            '<a target=\"_blank\" href=https://colab.research.google.com/notebooks/data_table.ipynb>data table notebook</a>'\n",
              "            + ' to learn more about interactive tables.';\n",
              "          element.innerHTML = '';\n",
              "          dataTable['output_type'] = 'display_data';\n",
              "          await google.colab.output.renderOutput(dataTable, element);\n",
              "          const docLink = document.createElement('div');\n",
              "          docLink.innerHTML = docLinkHtml;\n",
              "          element.appendChild(docLink);\n",
              "        }\n",
              "      </script>\n",
              "    </div>\n",
              "  </div>\n",
              "  "
            ],
            "text/plain": [
              "                                       Akt nömrəsi  ...        \n",
              "numunenin_teyinati                           Digər  ... Şikayət\n",
              "final_groups                 ay_sirasi              ...        \n",
              "Fitosanitar nəzarət          1              1054.0  ...     4.0\n",
              "                             2               109.0  ...     2.0\n",
              "                             3                58.0  ...     NaN\n",
              "                             4                61.0  ...     1.0\n",
              "                             5               543.0  ...     NaN\n",
              "                             6               317.0  ...    65.0\n",
              "                             7               336.0  ...     4.0\n",
              "                             8               263.0  ...    31.0\n",
              "                             9              1184.0  ...    18.0\n",
              "                             10             1787.0  ...     4.0\n",
              "                             11             1390.0  ...     NaN\n",
              "                             12              754.0  ...     NaN\n",
              "Qida təhlükəsizliyi nəzarəti 1                84.0  ...    58.0\n",
              "                             2                48.0  ...    47.0\n",
              "                             3                91.0  ...    19.0\n",
              "                             4               137.0  ...    26.0\n",
              "                             5               221.0  ...     7.0\n",
              "                             6               132.0  ...    47.0\n",
              "                             7               237.0  ...    60.0\n",
              "                             8                73.0  ...    46.0\n",
              "                             9                80.0  ...    44.0\n",
              "                             10               65.0  ...    36.0\n",
              "                             11               88.0  ...     2.0\n",
              "                             12              189.0  ...     7.0\n",
              "\n",
              "[24 rows x 12 columns]"
            ]
          },
          "metadata": {},
          "execution_count": 93
        }
      ]
    },
    {
      "cell_type": "code",
      "metadata": {
        "id": "-WQOfyUqKSCr"
      },
      "source": [
        "# \"Yoluxucu xəstəliklərin siyahısına daxil edilmiş xüsusi təhlükəli heyvan xəstəlikləri istisna olmaqla, digər xəstəliklərin diaqnostikası (müayinəsi)\",\n",
        "# \"Baytarlıq preparatlarının, yem və yem əlavələrinin istifadə üçün təqdim edilən seriyalarının (partiyalarının) keyfiyyətinin müəyyən edilməsi\",\n",
        "# \"Nəzarət analizləri metodikalarının öyrənilməsi üzrə məsləhətlər\"\n",
        "\n",
        "numunenin_novu = []\n",
        "\n",
        "for i in df['Analiz qrupu']:\n",
        "##########################################################################\n",
        "  if i in [\n",
        "           'Aqrokimyəvi maddələrin dövlət sınağı, təkrar qeydiyyatı və ekspertizası',\n",
        "           'Gübrələr'\n",
        "  ]:\n",
        "    numunenin_novu.append(\"Aqrokimyəvi maddələr\")\n",
        "##########################################################################\n",
        "  elif i in [\n",
        "           'Bioloji Fəallığa malik Qida Əlavələri və Qida Əlavələri'\n",
        "  ]:\n",
        "    numunenin_novu.append(\"BFMQƏ\")\n",
        "########################################################################## \n",
        "  elif i in [\n",
        "           'Heyvan xəstəliklərinin diaqnostikası'\n",
        "  ]:\n",
        "    numunenin_novu.append(\"Heyvan xəstəliklərinin diaqnostikası\")\n",
        "########################################################################## \n",
        "  elif i in [\n",
        "           'Mikrobioloji göstəricilər'\n",
        "  ]:\n",
        "    numunenin_novu.append('Mikrobioloji göstəricilər')\n",
        "########################################################################## \n",
        "  elif i in [\n",
        "           'Heyvan xəstəliklərinin diaqnostikası',\n",
        "           \"Yoluxucu xəstəliklərin siyahısına daxil edilmiş xüsusi təhlükəli heyvan xəstəlikləri istisna olmaqla, digər xəstəliklərin diaqnostikası (müayinəsi)\"\n",
        "           \n",
        "  ]:\n",
        "    numunenin_novu.append('Heyvan xəstəliklərinin diaqnostikası')\n",
        "########################################################################## \n",
        "  elif i in [\n",
        "           'Pestisidlərin və bioloji preparatların dövlət sınağı, təkrar qeydiyyatı və ekspertizası'\n",
        "  ]:\n",
        "    numunenin_novu.append('Pestesidlər')\n",
        "########################################################################## \n",
        "  elif i in [\n",
        "           'Fiziki və hüquqi şəxslərin müraciətləri əsasında fitosanitar müayinəsinin və ekspertizasının aparılması',\n",
        "           'Qablaşdırma materialları'\n",
        "  ]:\n",
        "    numunenin_novu.append(\"Qeyri-qida məhsulları\")\n",
        "########################################################################## \n",
        "  elif i in [\n",
        "           'Bitki mühafizə vasitələrində toksikoloji analizlər',\n",
        "           'Bitki və bitkiçilik məhsullarında toksikoloji analizlər',\n",
        "           'Qida mikrobiologiyası',\n",
        "           'Qida məhsullarının fiziki-kimyəvi göstəriciləri',\n",
        "           'Qida məhsullarının toksikologiyası',\n",
        "           'Radiologiya',\n",
        "           'Torpaqda toksikoloji analizlər'\n",
        "  ]:\n",
        "    numunenin_novu.append(\"Qida məhsulları\")\n",
        "########################################################################## \n",
        "  elif i in [\n",
        "           'Yem və yem əlavələri',\n",
        "  ]:\n",
        "    numunenin_novu.append(\"Yem və yem əlavələri\")\n",
        "########################################################################## \n",
        "  #   elif i in [\n",
        "  #          '',\n",
        "  # ]:\n",
        "  #   numunenin_novu.append(\"BFMQƏ\")\n",
        "  else:\n",
        "      numunenin_novu.append(i)\n",
        "\n",
        "df['numunenin_novu'] = numunenin_novu"
      ],
      "execution_count": null,
      "outputs": []
    },
    {
      "cell_type": "code",
      "metadata": {
        "colab": {
          "base_uri": "https://localhost:8080/"
        },
        "id": "ikRZ39nvKgbb",
        "outputId": "42e644d0-4691-4c41-88e8-5a96bafeb537"
      },
      "source": [
        "df['numunenin_novu'].value_counts()"
      ],
      "execution_count": null,
      "outputs": [
        {
          "output_type": "execute_result",
          "data": {
            "text/plain": [
              "Qeyri-qida məhsulları                                   182505\n",
              "Qida məhsulları                                         102786\n",
              "BFMQƏ                                                     6875\n",
              "Aqrokimyəvi maddələr                                      4115\n",
              "Pestesidlər                                               1806\n",
              "Digər                                                      920\n",
              "Molekulyar-biologiya (Polimeraz Zəncirvari Reaksiya)       335\n",
              "Name: numunenin_novu, dtype: int64"
            ]
          },
          "metadata": {},
          "execution_count": 95
        }
      ]
    },
    {
      "cell_type": "code",
      "metadata": {
        "colab": {
          "base_uri": "https://localhost:8080/"
        },
        "id": "hPrKkv9-NqM-",
        "outputId": "6a495fb8-e112-481f-a1b2-2eae04bfb9e8"
      },
      "source": [
        "df['numunenin_novu'].value_counts()"
      ],
      "execution_count": null,
      "outputs": [
        {
          "output_type": "execute_result",
          "data": {
            "text/plain": [
              "Qeyri-qida məhsulları                                   182505\n",
              "Qida məhsulları                                         102786\n",
              "BFMQƏ                                                     6875\n",
              "Aqrokimyəvi maddələr                                      4115\n",
              "Pestesidlər                                               1806\n",
              "Digər                                                      920\n",
              "Molekulyar-biologiya (Polimeraz Zəncirvari Reaksiya)       335\n",
              "Name: numunenin_novu, dtype: int64"
            ]
          },
          "metadata": {},
          "execution_count": 96
        }
      ]
    },
    {
      "cell_type": "code",
      "metadata": {
        "colab": {
          "base_uri": "https://localhost:8080/"
        },
        "id": "dJJjFbLrMcww",
        "outputId": "d0fb9371-a8fe-42c7-d135-7d65c82f71b8"
      },
      "source": [
        "df[df['numunenin_novu'].str.contains(\"Digər\")]['Laboratoriya'].unique()"
      ],
      "execution_count": null,
      "outputs": [
        {
          "output_type": "execute_result",
          "data": {
            "text/plain": [
              "array(['Milli Referens Laboratoriyası'], dtype=object)"
            ]
          },
          "metadata": {},
          "execution_count": 97
        }
      ]
    },
    {
      "cell_type": "code",
      "metadata": {
        "colab": {
          "base_uri": "https://localhost:8080/"
        },
        "id": "73jazupy87hV",
        "outputId": "2cc49a52-5ecb-4166-b6d8-0b8163fe62a4"
      },
      "source": [
        "table.columns.values"
      ],
      "execution_count": null,
      "outputs": [
        {
          "output_type": "execute_result",
          "data": {
            "text/plain": [
              "array([('Akt nömrəsi', 'Digər'), ('Akt nömrəsi', 'Dövlət qurumu'),\n",
              "       ('Akt nömrəsi', 'Forma 2'), ('Akt nömrəsi', 'Fərdi istək'),\n",
              "       ('Akt nömrəsi', 'HİQS'), ('Akt nömrəsi', 'Monitorinq'),\n",
              "       ('Akt nömrəsi', 'Sənəd ekspertizası'), ('Akt nömrəsi', 'Yarmarka'),\n",
              "       ('Akt nömrəsi', 'Yoxlama'), ('Akt nömrəsi', 'İdxal'),\n",
              "       ('Akt nömrəsi', 'İxrac'), ('Akt nömrəsi', 'Şikayət')], dtype=object)"
            ]
          },
          "metadata": {},
          "execution_count": 98
        }
      ]
    },
    {
      "cell_type": "code",
      "metadata": {
        "id": "ke5GndfI-YP7"
      },
      "source": [
        "column_order_2 = [\n",
        "       ('Akt nömrəsi', 'Qida məhsulları'), \n",
        "       ('Akt nömrəsi', 'Qeyri-qida məhsulları'),\n",
        "       ('Akt nömrəsi', 'Aqrokimyəvi maddələr'),\n",
        "       ('Akt nömrəsi', 'Pestesidlər'),\n",
        "       ('Akt nömrəsi', 'Molekulyar-biologiya (Polimeraz Zəncirvari Reaksiya)'),\n",
        "       ('Akt nömrəsi', 'BFMQƏ'),\n",
        "       ('Akt nömrəsi', 'Digər')  \n",
        "]"
      ],
      "execution_count": null,
      "outputs": []
    },
    {
      "cell_type": "code",
      "metadata": {
        "colab": {
          "base_uri": "https://localhost:8080/"
        },
        "id": "P4190lIo-r6T",
        "outputId": "8ce80560-9e95-4a96-fc25-c9887f371555"
      },
      "source": [
        "table.index.values"
      ],
      "execution_count": null,
      "outputs": [
        {
          "output_type": "execute_result",
          "data": {
            "text/plain": [
              "array(['Aşkar edilmədi', 'Faktiki', 'Karantin Tətbiq edilməyən',\n",
              "       'Karantin Tətbiq edilən', 'Müsbət', 'Mənfi', 'Uyğun deyil',\n",
              "       'Uyğundur'], dtype=object)"
            ]
          },
          "metadata": {},
          "execution_count": 75
        }
      ]
    },
    {
      "cell_type": "code",
      "metadata": {
        "id": "OUcBnOv0C4Wd"
      },
      "source": [
        "index_values = [\n",
        "                'Uyğundur',\n",
        "                'Uyğun deyil',\n",
        "                \"Aşkar edildi\",\n",
        "                \"Aşkar edilmədi\",\n",
        "                \"Karantin Tətbiq edilməyən\",\n",
        "                \"Karantin Tətbiq edilən\",\n",
        "                \"Faktiki\",\n",
        "                \"Müsbət\",\n",
        "                \"Mənfi\"\n",
        "]"
      ],
      "execution_count": null,
      "outputs": []
    },
    {
      "cell_type": "code",
      "metadata": {
        "colab": {
          "base_uri": "https://localhost:8080/"
        },
        "id": "wHhYJI9jKnhp",
        "outputId": "acce8978-8057-4c93-ee34-d805931c9b5a"
      },
      "source": [
        "df['analiz_neticesi'].value_counts()"
      ],
      "execution_count": null,
      "outputs": [
        {
          "output_type": "execute_result",
          "data": {
            "text/plain": [
              "Uyğundur                     259523\n",
              "Faktiki                        5395\n",
              "Karantin Tətbiq edilməyən      3226\n",
              "Karantin Tətbiq edilən         1692\n",
              "Uyğun deyil                    1601\n",
              "Mənfi                            54\n",
              "Aşkar edilmədi                   10\n",
              "Müsbət                            1\n",
              "Name: analiz_neticesi, dtype: int64"
            ]
          },
          "metadata": {},
          "execution_count": 105
        }
      ]
    },
    {
      "cell_type": "code",
      "metadata": {
        "colab": {
          "base_uri": "https://localhost:8080/",
          "height": 363
        },
        "id": "JgMb-jgUMw_o",
        "outputId": "6880a425-2265-4605-8c71-5a35c3db8abc"
      },
      "source": [
        "table = pd.pivot_table(df, index = ['analiz_neticesi'], \n",
        "                       columns=['numunenin_novu'], values=['Akt nömrəsi'], aggfunc=len)\n",
        "\n",
        "# table = table.reindex(column_order_2, axis=1)\n",
        "# table = table.reindex(index_values, axis=0)\n",
        "# table.columns = table.columns.droplevel()\n",
        "# table = table.reset_index()\n",
        "# table.index.name = None\n",
        "# table.columns.name = None\n",
        "# # table.drop(\"numunenin_novu\", axis=1)\n",
        "# table.to_excel('Table3_wrong.xlsx')\n",
        "# # table['sum'] = sum(table[i] for i in table.columns.values[1:])\n",
        "# # table['sum'] = table[table.columns[1:]].sum(axis=1)\n",
        "table.to_excel(\"Table3_dekabr.xlsx\")\n",
        "table"
      ],
      "execution_count": null,
      "outputs": [
        {
          "output_type": "execute_result",
          "data": {
            "text/html": [
              "\n",
              "  <div id=\"df-42278da3-a608-4d87-9935-ca32a1e4c659\">\n",
              "    <div class=\"colab-df-container\">\n",
              "      <div>\n",
              "<style scoped>\n",
              "    .dataframe tbody tr th:only-of-type {\n",
              "        vertical-align: middle;\n",
              "    }\n",
              "\n",
              "    .dataframe tbody tr th {\n",
              "        vertical-align: top;\n",
              "    }\n",
              "\n",
              "    .dataframe thead tr th {\n",
              "        text-align: left;\n",
              "    }\n",
              "\n",
              "    .dataframe thead tr:last-of-type th {\n",
              "        text-align: right;\n",
              "    }\n",
              "</style>\n",
              "<table border=\"1\" class=\"dataframe\">\n",
              "  <thead>\n",
              "    <tr>\n",
              "      <th></th>\n",
              "      <th colspan=\"7\" halign=\"left\">Akt nömrəsi</th>\n",
              "    </tr>\n",
              "    <tr>\n",
              "      <th>numunenin_novu</th>\n",
              "      <th>Aqrokimyəvi maddələr</th>\n",
              "      <th>BFMQƏ</th>\n",
              "      <th>Digər</th>\n",
              "      <th>Molekulyar-biologiya (Polimeraz Zəncirvari Reaksiya)</th>\n",
              "      <th>Pestesidlər</th>\n",
              "      <th>Qeyri-qida məhsulları</th>\n",
              "      <th>Qida məhsulları</th>\n",
              "    </tr>\n",
              "    <tr>\n",
              "      <th>analiz_neticesi</th>\n",
              "      <th></th>\n",
              "      <th></th>\n",
              "      <th></th>\n",
              "      <th></th>\n",
              "      <th></th>\n",
              "      <th></th>\n",
              "      <th></th>\n",
              "    </tr>\n",
              "  </thead>\n",
              "  <tbody>\n",
              "    <tr>\n",
              "      <th>Aşkar edilmədi</th>\n",
              "      <td>NaN</td>\n",
              "      <td>NaN</td>\n",
              "      <td>NaN</td>\n",
              "      <td>1.0</td>\n",
              "      <td>NaN</td>\n",
              "      <td>NaN</td>\n",
              "      <td>9.0</td>\n",
              "    </tr>\n",
              "    <tr>\n",
              "      <th>Faktiki</th>\n",
              "      <td>103.0</td>\n",
              "      <td>40.0</td>\n",
              "      <td>NaN</td>\n",
              "      <td>329.0</td>\n",
              "      <td>19.0</td>\n",
              "      <td>85.0</td>\n",
              "      <td>5606.0</td>\n",
              "    </tr>\n",
              "    <tr>\n",
              "      <th>Karantin Tətbiq edilməyən</th>\n",
              "      <td>NaN</td>\n",
              "      <td>NaN</td>\n",
              "      <td>NaN</td>\n",
              "      <td>NaN</td>\n",
              "      <td>NaN</td>\n",
              "      <td>3487.0</td>\n",
              "      <td>NaN</td>\n",
              "    </tr>\n",
              "    <tr>\n",
              "      <th>Karantin Tətbiq edilən</th>\n",
              "      <td>NaN</td>\n",
              "      <td>NaN</td>\n",
              "      <td>NaN</td>\n",
              "      <td>NaN</td>\n",
              "      <td>NaN</td>\n",
              "      <td>1846.0</td>\n",
              "      <td>NaN</td>\n",
              "    </tr>\n",
              "    <tr>\n",
              "      <th>Müsbət</th>\n",
              "      <td>NaN</td>\n",
              "      <td>NaN</td>\n",
              "      <td>NaN</td>\n",
              "      <td>NaN</td>\n",
              "      <td>NaN</td>\n",
              "      <td>NaN</td>\n",
              "      <td>2.0</td>\n",
              "    </tr>\n",
              "    <tr>\n",
              "      <th>Mənfi</th>\n",
              "      <td>NaN</td>\n",
              "      <td>NaN</td>\n",
              "      <td>NaN</td>\n",
              "      <td>NaN</td>\n",
              "      <td>NaN</td>\n",
              "      <td>53.0</td>\n",
              "      <td>1.0</td>\n",
              "    </tr>\n",
              "    <tr>\n",
              "      <th>Uyğun deyil</th>\n",
              "      <td>56.0</td>\n",
              "      <td>9.0</td>\n",
              "      <td>61.0</td>\n",
              "      <td>2.0</td>\n",
              "      <td>16.0</td>\n",
              "      <td>102.0</td>\n",
              "      <td>1559.0</td>\n",
              "    </tr>\n",
              "    <tr>\n",
              "      <th>Uyğundur</th>\n",
              "      <td>3956.0</td>\n",
              "      <td>6826.0</td>\n",
              "      <td>859.0</td>\n",
              "      <td>3.0</td>\n",
              "      <td>1771.0</td>\n",
              "      <td>176932.0</td>\n",
              "      <td>95609.0</td>\n",
              "    </tr>\n",
              "  </tbody>\n",
              "</table>\n",
              "</div>\n",
              "      <button class=\"colab-df-convert\" onclick=\"convertToInteractive('df-42278da3-a608-4d87-9935-ca32a1e4c659')\"\n",
              "              title=\"Convert this dataframe to an interactive table.\"\n",
              "              style=\"display:none;\">\n",
              "        \n",
              "  <svg xmlns=\"http://www.w3.org/2000/svg\" height=\"24px\"viewBox=\"0 0 24 24\"\n",
              "       width=\"24px\">\n",
              "    <path d=\"M0 0h24v24H0V0z\" fill=\"none\"/>\n",
              "    <path d=\"M18.56 5.44l.94 2.06.94-2.06 2.06-.94-2.06-.94-.94-2.06-.94 2.06-2.06.94zm-11 1L8.5 8.5l.94-2.06 2.06-.94-2.06-.94L8.5 2.5l-.94 2.06-2.06.94zm10 10l.94 2.06.94-2.06 2.06-.94-2.06-.94-.94-2.06-.94 2.06-2.06.94z\"/><path d=\"M17.41 7.96l-1.37-1.37c-.4-.4-.92-.59-1.43-.59-.52 0-1.04.2-1.43.59L10.3 9.45l-7.72 7.72c-.78.78-.78 2.05 0 2.83L4 21.41c.39.39.9.59 1.41.59.51 0 1.02-.2 1.41-.59l7.78-7.78 2.81-2.81c.8-.78.8-2.07 0-2.86zM5.41 20L4 18.59l7.72-7.72 1.47 1.35L5.41 20z\"/>\n",
              "  </svg>\n",
              "      </button>\n",
              "      \n",
              "  <style>\n",
              "    .colab-df-container {\n",
              "      display:flex;\n",
              "      flex-wrap:wrap;\n",
              "      gap: 12px;\n",
              "    }\n",
              "\n",
              "    .colab-df-convert {\n",
              "      background-color: #E8F0FE;\n",
              "      border: none;\n",
              "      border-radius: 50%;\n",
              "      cursor: pointer;\n",
              "      display: none;\n",
              "      fill: #1967D2;\n",
              "      height: 32px;\n",
              "      padding: 0 0 0 0;\n",
              "      width: 32px;\n",
              "    }\n",
              "\n",
              "    .colab-df-convert:hover {\n",
              "      background-color: #E2EBFA;\n",
              "      box-shadow: 0px 1px 2px rgba(60, 64, 67, 0.3), 0px 1px 3px 1px rgba(60, 64, 67, 0.15);\n",
              "      fill: #174EA6;\n",
              "    }\n",
              "\n",
              "    [theme=dark] .colab-df-convert {\n",
              "      background-color: #3B4455;\n",
              "      fill: #D2E3FC;\n",
              "    }\n",
              "\n",
              "    [theme=dark] .colab-df-convert:hover {\n",
              "      background-color: #434B5C;\n",
              "      box-shadow: 0px 1px 3px 1px rgba(0, 0, 0, 0.15);\n",
              "      filter: drop-shadow(0px 1px 2px rgba(0, 0, 0, 0.3));\n",
              "      fill: #FFFFFF;\n",
              "    }\n",
              "  </style>\n",
              "\n",
              "      <script>\n",
              "        const buttonEl =\n",
              "          document.querySelector('#df-42278da3-a608-4d87-9935-ca32a1e4c659 button.colab-df-convert');\n",
              "        buttonEl.style.display =\n",
              "          google.colab.kernel.accessAllowed ? 'block' : 'none';\n",
              "\n",
              "        async function convertToInteractive(key) {\n",
              "          const element = document.querySelector('#df-42278da3-a608-4d87-9935-ca32a1e4c659');\n",
              "          const dataTable =\n",
              "            await google.colab.kernel.invokeFunction('convertToInteractive',\n",
              "                                                     [key], {});\n",
              "          if (!dataTable) return;\n",
              "\n",
              "          const docLinkHtml = 'Like what you see? Visit the ' +\n",
              "            '<a target=\"_blank\" href=https://colab.research.google.com/notebooks/data_table.ipynb>data table notebook</a>'\n",
              "            + ' to learn more about interactive tables.';\n",
              "          element.innerHTML = '';\n",
              "          dataTable['output_type'] = 'display_data';\n",
              "          await google.colab.output.renderOutput(dataTable, element);\n",
              "          const docLink = document.createElement('div');\n",
              "          docLink.innerHTML = docLinkHtml;\n",
              "          element.appendChild(docLink);\n",
              "        }\n",
              "      </script>\n",
              "    </div>\n",
              "  </div>\n",
              "  "
            ],
            "text/plain": [
              "                                   Akt nömrəsi  ...                \n",
              "numunenin_novu            Aqrokimyəvi maddələr  ... Qida məhsulları\n",
              "analiz_neticesi                                 ...                \n",
              "Aşkar edilmədi                             NaN  ...             9.0\n",
              "Faktiki                                  103.0  ...          5606.0\n",
              "Karantin Tətbiq edilməyən                  NaN  ...             NaN\n",
              "Karantin Tətbiq edilən                     NaN  ...             NaN\n",
              "Müsbət                                     NaN  ...             2.0\n",
              "Mənfi                                      NaN  ...             1.0\n",
              "Uyğun deyil                               56.0  ...          1559.0\n",
              "Uyğundur                                3956.0  ...         95609.0\n",
              "\n",
              "[8 rows x 7 columns]"
            ]
          },
          "metadata": {},
          "execution_count": 100
        }
      ]
    },
    {
      "cell_type": "code",
      "metadata": {
        "id": "G6Pgt_Ub7hqc"
      },
      "source": [
        "qeyri_qida = [\n",
        "              \"pambıq\", \"pambiq\" \"material\", \"taxta\", \"kapsul\", \"kaspul\", \"tablet\", \"№\",\n",
        "              # \"arpa\",\n",
        "              \"TULLANTISI\", \"LIFININ\", \"PAMBIQ\", \"KARTON\",\n",
        "              \"pambiq lifinin tullantisi\", \"pambiq linti\", \"preslənmiş karton tullantisi\",\n",
        "              \"xam ipək (eşilməmiş)\", \"pambiq çiyidi\", \"preslənmiş karton tullantisi\", \n",
        "              \"xam ipək (eşilməmiş)\", \"karton qutu\", \"palıddan meşə materialı (palıd bruslar qabığı təmizlənmiş)\",\n",
        "              \"palıd parket\", \"parça qırıntıları\", \"bəzək (dekorativ) ağacları və kolları\"\n",
        "\n",
        "              \"toxum\", \"MEŞƏ MATERIALI (TAXTA)\", \"MEŞƏ MATERIALI(TAXTA)\",\n",
        "              \"Bəzək (dekorativ) ağacları və kolları\",\n",
        "              \"Kəsilmiş budaqlar\", \"budaq\", \"yem\", \"yemlik\",\n",
        "              \"ARPA\", \"Pambıq liflərinin tullantıları (əyirmə tullantıları və didilmiş xammal daxil olmaqla\",\n",
        "              \"Tütün\", \"tütün\", \n",
        "              # \"bugda\", \"buğda\",  \n",
        "              \"ştil\", \"şitil\", \"torf\", \"qərənfil\", \"tingi\",\n",
        "              \"qızılgül\", \"yarpaq\", \"torpaq\", \"gül\", \"güllər\",\n",
        "              \"məmulat\", \"məmulatlar\", \"QARĞIDALI VALIDEYNI\", \"valideyn\",\"valideyin\",\n",
        "              \"Pittosporum tobira\", \"jasmin\", \"tumu\", \"tum\", \"BİTKİ\", \"bitki\", \"BITKI\", \"Callistemon\"\n",
        "]"
      ],
      "execution_count": null,
      "outputs": []
    },
    {
      "cell_type": "code",
      "metadata": {
        "id": "PPPhs2tRUT5T"
      },
      "source": [
        "mehsul = []\n",
        "\n",
        "for i in df['Məhsul']:\n",
        "\n",
        "  mehsul.append(str(i).lower())\n",
        "\n",
        "df['mehsul'] = mehsul\n",
        "\n",
        "qeyri_qida_lowered = []\n",
        "\n",
        "for i in qeyri_qida:\n",
        "\n",
        "  qeyri_qida_lowered.append(i)"
      ],
      "execution_count": null,
      "outputs": []
    },
    {
      "cell_type": "code",
      "metadata": {
        "id": "Q55WQJUVew8T"
      },
      "source": [
        "df.to_excel(\"Dekabr_Raw_Labs_Fito_Qida.xlsx\")"
      ],
      "execution_count": null,
      "outputs": []
    },
    {
      "cell_type": "code",
      "metadata": {
        "id": "QB1vjb9z7hX6"
      },
      "source": [
        "# takes 45 minutes\n",
        "\n",
        "numune_novu_improved = []\n",
        "\n",
        "for index, value in enumerate(df['numunenin_novu']):\n",
        "\n",
        "  if df.iloc[index].loc['numunenin_novu'] == \"Qeyri-qida məhsulları\" and  df.iloc[index].loc['final_groups'] == \"Fitosanitar nəzarət\":\n",
        "\n",
        "    if not any(x in df.iloc[index][\"mehsul\"] for x in qeyri_qida_lowered):\n",
        "\n",
        "      numune_novu_improved.append(\"Qida məhsulları\")\n",
        "\n",
        "    else:\n",
        "\n",
        "      numune_novu_improved.append(value)\n",
        "      \n",
        "  else:\n",
        "\n",
        "    numune_novu_improved.append(value)"
      ],
      "execution_count": null,
      "outputs": []
    },
    {
      "cell_type": "code",
      "metadata": {
        "id": "FGpISr0tKLMW"
      },
      "source": [
        "# df.to_excel(\".xlsx\")"
      ],
      "execution_count": null,
      "outputs": []
    },
    {
      "cell_type": "code",
      "metadata": {
        "colab": {
          "base_uri": "https://localhost:8080/"
        },
        "id": "OAXjVcTUHFfd",
        "outputId": "f6822de3-43c9-4446-c4e8-aa0e0b1cf329"
      },
      "source": [
        "len(numune_novu_improved)"
      ],
      "execution_count": null,
      "outputs": [
        {
          "output_type": "execute_result",
          "data": {
            "text/plain": [
              "299342"
            ]
          },
          "metadata": {},
          "execution_count": 105
        }
      ]
    },
    {
      "cell_type": "code",
      "metadata": {
        "colab": {
          "base_uri": "https://localhost:8080/"
        },
        "id": "1aSehuzCFkO1",
        "outputId": "02bd4e83-9173-4499-8a94-b3ee1a8ff082"
      },
      "source": [
        "len(df)"
      ],
      "execution_count": null,
      "outputs": [
        {
          "output_type": "execute_result",
          "data": {
            "text/plain": [
              "299342"
            ]
          },
          "metadata": {},
          "execution_count": 106
        }
      ]
    },
    {
      "cell_type": "code",
      "metadata": {
        "colab": {
          "base_uri": "https://localhost:8080/"
        },
        "id": "WxCjoFdQOXS1",
        "outputId": "da4cd870-e6df-44c1-9ab4-13ed104ad180"
      },
      "source": [
        "pd.Series(numune_novu_improved).value_counts()"
      ],
      "execution_count": null,
      "outputs": [
        {
          "output_type": "execute_result",
          "data": {
            "text/plain": [
              "Qida məhsulları                                         262464\n",
              "Qeyri-qida məhsulları                                    22827\n",
              "BFMQƏ                                                     6875\n",
              "Aqrokimyəvi maddələr                                      4115\n",
              "Pestesidlər                                               1806\n",
              "Digər                                                      920\n",
              "Molekulyar-biologiya (Polimeraz Zəncirvari Reaksiya)       335\n",
              "dtype: int64"
            ]
          },
          "metadata": {},
          "execution_count": 107
        }
      ]
    },
    {
      "cell_type": "code",
      "metadata": {
        "colab": {
          "base_uri": "https://localhost:8080/"
        },
        "id": "WkpT3cyL85ex",
        "outputId": "485e4a78-4c82-4de1-be2a-a57f044dd5ae"
      },
      "source": [
        "pd.Series(numune_novu_improved).value_counts()"
      ],
      "execution_count": null,
      "outputs": [
        {
          "output_type": "execute_result",
          "data": {
            "text/plain": [
              "Qida məhsulları                                         164918\n",
              "Qeyri-qida məhsulları                                    13988\n",
              "Aqrokimyəvi maddələr                                      2794\n",
              "Pestesidlər                                               1268\n",
              "Digər                                                     1108\n",
              "Molekulyar-biologiya (Polimeraz Zəncirvari Reaksiya)       195\n",
              "BFMQƏ                                                       44\n",
              "dtype: int64"
            ]
          },
          "metadata": {},
          "execution_count": 41
        }
      ]
    },
    {
      "cell_type": "code",
      "metadata": {
        "colab": {
          "base_uri": "https://localhost:8080/"
        },
        "id": "FPkkR-z0WFtE",
        "outputId": "d6ce990e-4c29-4362-e56e-30a253f47d66"
      },
      "source": [
        "pd.Series(numune_novu_improved).value_counts()"
      ],
      "execution_count": null,
      "outputs": [
        {
          "output_type": "execute_result",
          "data": {
            "text/plain": [
              "Qida məhsulları                                         189408\n",
              "Qeyri-qida məhsulları                                    15979\n",
              "Aqrokimyəvi maddələr                                      3065\n",
              "Pestesidlər                                               1353\n",
              "BFMQƏ                                                      247\n",
              "Molekulyar-biologiya (Polimeraz Zəncirvari Reaksiya)       229\n",
              "Digər                                                        4\n",
              "dtype: int64"
            ]
          },
          "metadata": {},
          "execution_count": 46
        }
      ]
    },
    {
      "cell_type": "code",
      "metadata": {
        "id": "aXfXI-NWWmHw"
      },
      "source": [
        "# df = esas"
      ],
      "execution_count": null,
      "outputs": []
    },
    {
      "cell_type": "code",
      "metadata": {
        "id": "CrbwNipJI-fg"
      },
      "source": [
        "df['numune_novu_improved'] = numune_novu_improved"
      ],
      "execution_count": null,
      "outputs": []
    },
    {
      "cell_type": "markdown",
      "metadata": {
        "id": "_LKi48EoYagr"
      },
      "source": [
        "## This is was for special products asked by Jeyran from Tomris"
      ]
    },
    {
      "cell_type": "code",
      "metadata": {
        "id": "cUAufPR9WpJg"
      },
      "source": [
        "#  df.to_excel(\"Avqust_numune_improved.xlsx\")"
      ],
      "execution_count": null,
      "outputs": []
    },
    {
      "cell_type": "code",
      "metadata": {
        "id": "u1RFiq5EqEwr"
      },
      "source": [
        "# df_6 = df[df['ay_sirasi']<7]"
      ],
      "execution_count": null,
      "outputs": []
    },
    {
      "cell_type": "code",
      "metadata": {
        "id": "e4mUKnd2qEp_"
      },
      "source": [
        "# products = ['süd', \"süd məhsulları\", \"ət\", \"ət məhsulları\", \"toyuq\", \"kolbasa\", \"kalbasa\",\n",
        "            \"sosiska\", \"sosis\", \"hisə verilmiş\", \"çörək\", \"un məmulatları\",\n",
        "            \"bal\", \"şirə\", \"sous\", \"ketçup\", \"yumurta\"]"
      ],
      "execution_count": null,
      "outputs": []
    },
    {
      "cell_type": "code",
      "metadata": {
        "id": "1JTupFk1qEih"
      },
      "source": [
        "# df_6_products = df_6[df_6['mehsul'].str.contains(\"|\".join(products))]"
      ],
      "execution_count": null,
      "outputs": []
    },
    {
      "cell_type": "code",
      "metadata": {
        "colab": {
          "base_uri": "https://localhost:8080/"
        },
        "id": "MkXGzbpFubnI",
        "outputId": "5260b77d-f4b7-4822-925b-b3d6873f94ad"
      },
      "source": [
        "# df_6_products_uygun = df_6_products[\n",
        "              (df['analiz_neticesi']==\"Uyğundur\") | \n",
        "              (df['analiz_neticesi']==\"Uyğun deyil\")\n",
        "              ]"
      ],
      "execution_count": null,
      "outputs": [
        {
          "output_type": "stream",
          "name": "stderr",
          "text": [
            "/usr/local/lib/python3.7/dist-packages/ipykernel_launcher.py:3: UserWarning: Boolean Series key will be reindexed to match DataFrame index.\n",
            "  This is separate from the ipykernel package so we can avoid doing imports until\n"
          ]
        }
      ]
    },
    {
      "cell_type": "code",
      "metadata": {
        "colab": {
          "base_uri": "https://localhost:8080/"
        },
        "id": "RQl2A3xty0wn",
        "outputId": "f998d138-6d4b-42ec-bc66-d1198501d2fd"
      },
      "source": [
        "# len(df_6_products_uygun)"
      ],
      "execution_count": null,
      "outputs": [
        {
          "output_type": "execute_result",
          "data": {
            "text/plain": [
              "7353"
            ]
          },
          "metadata": {},
          "execution_count": 61
        }
      ]
    },
    {
      "cell_type": "code",
      "metadata": {
        "id": "cDBY9u1wxREy"
      },
      "source": [
        "# not_necessary_products=[\"balıq\", \"baliq\",\"baikal\", \"deri\", \"derisi\", \"baliği\", \"baliği\",\n",
        "                        \"balığ\", \"albalı\", \"albali\", \"baltika\", \"balqabaq\", \"ml\", \"tablet\",\n",
        "                       \"dəri\"]"
      ],
      "execution_count": null,
      "outputs": []
    },
    {
      "cell_type": "code",
      "metadata": {
        "id": "5GGs1qvLvCHH"
      },
      "source": [
        "# df_6_baliq_albali = df_6_products_uygun[~df_6_products_uygun['mehsul'].str.contains(\"|\".join(not_necessary_products))] "
      ],
      "execution_count": null,
      "outputs": []
    },
    {
      "cell_type": "code",
      "metadata": {
        "colab": {
          "base_uri": "https://localhost:8080/"
        },
        "id": "vRxpBdTSy8BW",
        "outputId": "7f77f856-2c1a-4370-8fc0-ac18eace1d66"
      },
      "source": [
        "# len(df_6_baliq_albali)"
      ],
      "execution_count": null,
      "outputs": [
        {
          "output_type": "execute_result",
          "data": {
            "text/plain": [
              "5337"
            ]
          },
          "metadata": {},
          "execution_count": 68
        }
      ]
    },
    {
      "cell_type": "code",
      "metadata": {
        "id": "Cy67truotCj4"
      },
      "source": [
        "# table = pd.pivot_table(df_6_baliq_albali, index = ['mehsul', \"Subyekt\"],\n",
        "#                        columns=['analiz_neticesi'], values=['Akt nömrəsi'], aggfunc=len)\n",
        "\n",
        "# table.to_excel(\"products.xlsx\")"
      ],
      "execution_count": null,
      "outputs": []
    },
    {
      "cell_type": "code",
      "metadata": {
        "colab": {
          "base_uri": "https://localhost:8080/",
          "height": 300
        },
        "id": "hKrtRmkJI8IT",
        "outputId": "b665c183-7ec7-49ff-dfd7-cbc15c6adc30"
      },
      "source": [
        "table = pd.pivot_table(df, index = ['analiz_neticesi'], \n",
        "                       columns=['numune_novu_improved'], values=['Akt nömrəsi'], aggfunc=len)\n",
        "\n",
        "# table = table.reindex(column_order_2, axis=1)\n",
        "# table = table.reindex(index_values, axis=0)\n",
        "table.columns = table.columns.droplevel()\n",
        "table = table.reset_index()\n",
        "table.index.name = None\n",
        "table.columns.name = None\n",
        "# table.drop(\"numunenin_novu\", axis=1)\n",
        "table.to_excel('Table3_dekabr.xlsx')\n",
        "# table['sum'] = sum(table[i] for i in table.columns.values[1:])\n",
        "# table['sum'] = table[table.columns[1:]].sum(axis=1)\n",
        "table"
      ],
      "execution_count": null,
      "outputs": [
        {
          "output_type": "execute_result",
          "data": {
            "text/html": [
              "\n",
              "  <div id=\"df-a63f75d3-e3ce-449d-b626-cf9bae5c8c3e\">\n",
              "    <div class=\"colab-df-container\">\n",
              "      <div>\n",
              "<style scoped>\n",
              "    .dataframe tbody tr th:only-of-type {\n",
              "        vertical-align: middle;\n",
              "    }\n",
              "\n",
              "    .dataframe tbody tr th {\n",
              "        vertical-align: top;\n",
              "    }\n",
              "\n",
              "    .dataframe thead th {\n",
              "        text-align: right;\n",
              "    }\n",
              "</style>\n",
              "<table border=\"1\" class=\"dataframe\">\n",
              "  <thead>\n",
              "    <tr style=\"text-align: right;\">\n",
              "      <th></th>\n",
              "      <th>analiz_neticesi</th>\n",
              "      <th>Aqrokimyəvi maddələr</th>\n",
              "      <th>BFMQƏ</th>\n",
              "      <th>Digər</th>\n",
              "      <th>Molekulyar-biologiya (Polimeraz Zəncirvari Reaksiya)</th>\n",
              "      <th>Pestesidlər</th>\n",
              "      <th>Qeyri-qida məhsulları</th>\n",
              "      <th>Qida məhsulları</th>\n",
              "    </tr>\n",
              "  </thead>\n",
              "  <tbody>\n",
              "    <tr>\n",
              "      <th>0</th>\n",
              "      <td>Aşkar edilmədi</td>\n",
              "      <td>NaN</td>\n",
              "      <td>NaN</td>\n",
              "      <td>NaN</td>\n",
              "      <td>1.0</td>\n",
              "      <td>NaN</td>\n",
              "      <td>NaN</td>\n",
              "      <td>9.0</td>\n",
              "    </tr>\n",
              "    <tr>\n",
              "      <th>1</th>\n",
              "      <td>Faktiki</td>\n",
              "      <td>103.0</td>\n",
              "      <td>40.0</td>\n",
              "      <td>NaN</td>\n",
              "      <td>329.0</td>\n",
              "      <td>19.0</td>\n",
              "      <td>85.0</td>\n",
              "      <td>5606.0</td>\n",
              "    </tr>\n",
              "    <tr>\n",
              "      <th>2</th>\n",
              "      <td>Karantin Tətbiq edilməyən</td>\n",
              "      <td>NaN</td>\n",
              "      <td>NaN</td>\n",
              "      <td>NaN</td>\n",
              "      <td>NaN</td>\n",
              "      <td>NaN</td>\n",
              "      <td>609.0</td>\n",
              "      <td>2878.0</td>\n",
              "    </tr>\n",
              "    <tr>\n",
              "      <th>3</th>\n",
              "      <td>Karantin Tətbiq edilən</td>\n",
              "      <td>NaN</td>\n",
              "      <td>NaN</td>\n",
              "      <td>NaN</td>\n",
              "      <td>NaN</td>\n",
              "      <td>NaN</td>\n",
              "      <td>484.0</td>\n",
              "      <td>1362.0</td>\n",
              "    </tr>\n",
              "    <tr>\n",
              "      <th>4</th>\n",
              "      <td>Müsbət</td>\n",
              "      <td>NaN</td>\n",
              "      <td>NaN</td>\n",
              "      <td>NaN</td>\n",
              "      <td>NaN</td>\n",
              "      <td>NaN</td>\n",
              "      <td>NaN</td>\n",
              "      <td>2.0</td>\n",
              "    </tr>\n",
              "    <tr>\n",
              "      <th>5</th>\n",
              "      <td>Mənfi</td>\n",
              "      <td>NaN</td>\n",
              "      <td>NaN</td>\n",
              "      <td>NaN</td>\n",
              "      <td>NaN</td>\n",
              "      <td>NaN</td>\n",
              "      <td>21.0</td>\n",
              "      <td>33.0</td>\n",
              "    </tr>\n",
              "    <tr>\n",
              "      <th>6</th>\n",
              "      <td>Uyğun deyil</td>\n",
              "      <td>56.0</td>\n",
              "      <td>9.0</td>\n",
              "      <td>61.0</td>\n",
              "      <td>2.0</td>\n",
              "      <td>16.0</td>\n",
              "      <td>26.0</td>\n",
              "      <td>1635.0</td>\n",
              "    </tr>\n",
              "    <tr>\n",
              "      <th>7</th>\n",
              "      <td>Uyğundur</td>\n",
              "      <td>3956.0</td>\n",
              "      <td>6826.0</td>\n",
              "      <td>859.0</td>\n",
              "      <td>3.0</td>\n",
              "      <td>1771.0</td>\n",
              "      <td>21602.0</td>\n",
              "      <td>250939.0</td>\n",
              "    </tr>\n",
              "  </tbody>\n",
              "</table>\n",
              "</div>\n",
              "      <button class=\"colab-df-convert\" onclick=\"convertToInteractive('df-a63f75d3-e3ce-449d-b626-cf9bae5c8c3e')\"\n",
              "              title=\"Convert this dataframe to an interactive table.\"\n",
              "              style=\"display:none;\">\n",
              "        \n",
              "  <svg xmlns=\"http://www.w3.org/2000/svg\" height=\"24px\"viewBox=\"0 0 24 24\"\n",
              "       width=\"24px\">\n",
              "    <path d=\"M0 0h24v24H0V0z\" fill=\"none\"/>\n",
              "    <path d=\"M18.56 5.44l.94 2.06.94-2.06 2.06-.94-2.06-.94-.94-2.06-.94 2.06-2.06.94zm-11 1L8.5 8.5l.94-2.06 2.06-.94-2.06-.94L8.5 2.5l-.94 2.06-2.06.94zm10 10l.94 2.06.94-2.06 2.06-.94-2.06-.94-.94-2.06-.94 2.06-2.06.94z\"/><path d=\"M17.41 7.96l-1.37-1.37c-.4-.4-.92-.59-1.43-.59-.52 0-1.04.2-1.43.59L10.3 9.45l-7.72 7.72c-.78.78-.78 2.05 0 2.83L4 21.41c.39.39.9.59 1.41.59.51 0 1.02-.2 1.41-.59l7.78-7.78 2.81-2.81c.8-.78.8-2.07 0-2.86zM5.41 20L4 18.59l7.72-7.72 1.47 1.35L5.41 20z\"/>\n",
              "  </svg>\n",
              "      </button>\n",
              "      \n",
              "  <style>\n",
              "    .colab-df-container {\n",
              "      display:flex;\n",
              "      flex-wrap:wrap;\n",
              "      gap: 12px;\n",
              "    }\n",
              "\n",
              "    .colab-df-convert {\n",
              "      background-color: #E8F0FE;\n",
              "      border: none;\n",
              "      border-radius: 50%;\n",
              "      cursor: pointer;\n",
              "      display: none;\n",
              "      fill: #1967D2;\n",
              "      height: 32px;\n",
              "      padding: 0 0 0 0;\n",
              "      width: 32px;\n",
              "    }\n",
              "\n",
              "    .colab-df-convert:hover {\n",
              "      background-color: #E2EBFA;\n",
              "      box-shadow: 0px 1px 2px rgba(60, 64, 67, 0.3), 0px 1px 3px 1px rgba(60, 64, 67, 0.15);\n",
              "      fill: #174EA6;\n",
              "    }\n",
              "\n",
              "    [theme=dark] .colab-df-convert {\n",
              "      background-color: #3B4455;\n",
              "      fill: #D2E3FC;\n",
              "    }\n",
              "\n",
              "    [theme=dark] .colab-df-convert:hover {\n",
              "      background-color: #434B5C;\n",
              "      box-shadow: 0px 1px 3px 1px rgba(0, 0, 0, 0.15);\n",
              "      filter: drop-shadow(0px 1px 2px rgba(0, 0, 0, 0.3));\n",
              "      fill: #FFFFFF;\n",
              "    }\n",
              "  </style>\n",
              "\n",
              "      <script>\n",
              "        const buttonEl =\n",
              "          document.querySelector('#df-a63f75d3-e3ce-449d-b626-cf9bae5c8c3e button.colab-df-convert');\n",
              "        buttonEl.style.display =\n",
              "          google.colab.kernel.accessAllowed ? 'block' : 'none';\n",
              "\n",
              "        async function convertToInteractive(key) {\n",
              "          const element = document.querySelector('#df-a63f75d3-e3ce-449d-b626-cf9bae5c8c3e');\n",
              "          const dataTable =\n",
              "            await google.colab.kernel.invokeFunction('convertToInteractive',\n",
              "                                                     [key], {});\n",
              "          if (!dataTable) return;\n",
              "\n",
              "          const docLinkHtml = 'Like what you see? Visit the ' +\n",
              "            '<a target=\"_blank\" href=https://colab.research.google.com/notebooks/data_table.ipynb>data table notebook</a>'\n",
              "            + ' to learn more about interactive tables.';\n",
              "          element.innerHTML = '';\n",
              "          dataTable['output_type'] = 'display_data';\n",
              "          await google.colab.output.renderOutput(dataTable, element);\n",
              "          const docLink = document.createElement('div');\n",
              "          docLink.innerHTML = docLinkHtml;\n",
              "          element.appendChild(docLink);\n",
              "        }\n",
              "      </script>\n",
              "    </div>\n",
              "  </div>\n",
              "  "
            ],
            "text/plain": [
              "             analiz_neticesi  ...  Qida məhsulları\n",
              "0             Aşkar edilmədi  ...              9.0\n",
              "1                    Faktiki  ...           5606.0\n",
              "2  Karantin Tətbiq edilməyən  ...           2878.0\n",
              "3     Karantin Tətbiq edilən  ...           1362.0\n",
              "4                     Müsbət  ...              2.0\n",
              "5                      Mənfi  ...             33.0\n",
              "6                Uyğun deyil  ...           1635.0\n",
              "7                   Uyğundur  ...         250939.0\n",
              "\n",
              "[8 rows x 8 columns]"
            ]
          },
          "metadata": {},
          "execution_count": 111
        }
      ]
    },
    {
      "cell_type": "code",
      "metadata": {
        "id": "BBxg17SI734Q"
      },
      "source": [
        "df.to_excel(\"Fito_Qida.xlsx\")"
      ],
      "execution_count": null,
      "outputs": []
    },
    {
      "cell_type": "code",
      "metadata": {
        "colab": {
          "base_uri": "https://localhost:8080/"
        },
        "id": "y6OWHPc8VHNg",
        "outputId": "72e91935-c4d0-4d92-8162-62d5b77a75ba"
      },
      "source": [
        "df['numune_novu_improved'].value_counts()"
      ],
      "execution_count": null,
      "outputs": [
        {
          "output_type": "execute_result",
          "data": {
            "text/plain": [
              "Qida məhsulları                                         215010\n",
              "Qeyri-qida məhsulları                                    17646\n",
              "Aqrokimyəvi maddələr                                      3242\n",
              "BFMQƏ                                                     1913\n",
              "Pestesidlər                                               1497\n",
              "Digər                                                      920\n",
              "Molekulyar-biologiya (Polimeraz Zəncirvari Reaksiya)       260\n",
              "Torpaqda toksikoloji analizlər                               1\n",
              "Name: numune_novu_improved, dtype: int64"
            ]
          },
          "metadata": {},
          "execution_count": 69
        }
      ]
    },
    {
      "cell_type": "code",
      "metadata": {
        "id": "q8S_4UbEVYC9"
      },
      "source": [
        "# df_qeyri_qida_fitosanitar = df[\n",
        "#    (df['numunenin_novu']==\"Qeyri-qida məhsulları\") & \n",
        "#    (df['final_groups'] == \"Fitosanitar nəzarət\")\n",
        "#    ]"
      ],
      "execution_count": null,
      "outputs": []
    },
    {
      "cell_type": "code",
      "metadata": {
        "colab": {
          "base_uri": "https://localhost:8080/"
        },
        "id": "7MizrrN4F6Yn",
        "outputId": "bae771dc-dadc-4474-efd9-5c877133d785"
      },
      "source": [
        "# not any(x in df.iloc[5][\"Məhsul\"].lower() for x in ['max', 'Yax'])"
      ],
      "execution_count": null,
      "outputs": [
        {
          "output_type": "execute_result",
          "data": {
            "text/plain": [
              "True"
            ]
          },
          "metadata": {
            "tags": []
          },
          "execution_count": 179
        }
      ]
    },
    {
      "cell_type": "code",
      "metadata": {
        "colab": {
          "base_uri": "https://localhost:8080/",
          "height": 576
        },
        "id": "DdU_gB4CFKTK",
        "outputId": "56143f77-95c4-4655-e5f7-0fd44e0a848c"
      },
      "source": [
        "table = pd.pivot_table(df, index = ['analiz_neticesi'], \n",
        "                       columns=['numune_novu_improved'], values=['Akt nömrəsi'], aggfunc=len)\n",
        "\n",
        "table.to_excel('analiz_neticesi_numune_novu.xlsx')\n",
        "table"
      ],
      "execution_count": null,
      "outputs": [
        {
          "output_type": "execute_result",
          "data": {
            "text/html": [
              "<div>\n",
              "<style scoped>\n",
              "    .dataframe tbody tr th:only-of-type {\n",
              "        vertical-align: middle;\n",
              "    }\n",
              "\n",
              "    .dataframe tbody tr th {\n",
              "        vertical-align: top;\n",
              "    }\n",
              "\n",
              "    .dataframe thead tr th {\n",
              "        text-align: left;\n",
              "    }\n",
              "\n",
              "    .dataframe thead tr:last-of-type th {\n",
              "        text-align: right;\n",
              "    }\n",
              "</style>\n",
              "<table border=\"1\" class=\"dataframe\">\n",
              "  <thead>\n",
              "    <tr>\n",
              "      <th></th>\n",
              "      <th colspan=\"13\" halign=\"left\">Akt nömrəsi</th>\n",
              "    </tr>\n",
              "    <tr>\n",
              "      <th>numune_novu_improved</th>\n",
              "      <th>Aqrokimyəvi maddələr</th>\n",
              "      <th>BFMQƏ</th>\n",
              "      <th>Baytarlıq preparatlarının, yem və yem əlavələrinin istifadə üçün təqdim edilən seriyalarının (partiyalarının) keyfiyyətinin müəyyən edilməsi</th>\n",
              "      <th>Baytarlıq preparatlarının, yem və yem əlavələrinin sınağı, ekspertizası, qeydə alınması</th>\n",
              "      <th>Digər</th>\n",
              "      <th>Heyvan xəstəliklərinin diaqnostikası</th>\n",
              "      <th>Mikrobioloji göstəricilər</th>\n",
              "      <th>Molekulyar-biologiya (Polimeraz Zəncirvari Reaksiya)</th>\n",
              "      <th>Nəzarət analizləri metodikalarının öyrənilməsi üzrə məsləhətlər</th>\n",
              "      <th>Pestesidlər</th>\n",
              "      <th>Qeyri-qida məhsulları</th>\n",
              "      <th>Qida məhsulları</th>\n",
              "      <th>Yem və yem əlavələri</th>\n",
              "    </tr>\n",
              "    <tr>\n",
              "      <th>analiz_neticesi</th>\n",
              "      <th></th>\n",
              "      <th></th>\n",
              "      <th></th>\n",
              "      <th></th>\n",
              "      <th></th>\n",
              "      <th></th>\n",
              "      <th></th>\n",
              "      <th></th>\n",
              "      <th></th>\n",
              "      <th></th>\n",
              "      <th></th>\n",
              "      <th></th>\n",
              "      <th></th>\n",
              "    </tr>\n",
              "  </thead>\n",
              "  <tbody>\n",
              "    <tr>\n",
              "      <th>Aşkar edildi</th>\n",
              "      <td>NaN</td>\n",
              "      <td>NaN</td>\n",
              "      <td>NaN</td>\n",
              "      <td>NaN</td>\n",
              "      <td>5.0</td>\n",
              "      <td>1664.0</td>\n",
              "      <td>NaN</td>\n",
              "      <td>NaN</td>\n",
              "      <td>NaN</td>\n",
              "      <td>NaN</td>\n",
              "      <td>NaN</td>\n",
              "      <td>NaN</td>\n",
              "      <td>NaN</td>\n",
              "    </tr>\n",
              "    <tr>\n",
              "      <th>Aşkar edilmədi</th>\n",
              "      <td>NaN</td>\n",
              "      <td>NaN</td>\n",
              "      <td>NaN</td>\n",
              "      <td>NaN</td>\n",
              "      <td>348.0</td>\n",
              "      <td>18955.0</td>\n",
              "      <td>197.0</td>\n",
              "      <td>1.0</td>\n",
              "      <td>NaN</td>\n",
              "      <td>NaN</td>\n",
              "      <td>NaN</td>\n",
              "      <td>9.0</td>\n",
              "      <td>108.0</td>\n",
              "    </tr>\n",
              "    <tr>\n",
              "      <th>Faktiki</th>\n",
              "      <td>36.0</td>\n",
              "      <td>34.0</td>\n",
              "      <td>12.0</td>\n",
              "      <td>NaN</td>\n",
              "      <td>962.0</td>\n",
              "      <td>4.0</td>\n",
              "      <td>NaN</td>\n",
              "      <td>166.0</td>\n",
              "      <td>NaN</td>\n",
              "      <td>9.0</td>\n",
              "      <td>54.0</td>\n",
              "      <td>3153.0</td>\n",
              "      <td>11.0</td>\n",
              "    </tr>\n",
              "    <tr>\n",
              "      <th>Karantin Tətbiq edilməyən</th>\n",
              "      <td>NaN</td>\n",
              "      <td>NaN</td>\n",
              "      <td>NaN</td>\n",
              "      <td>NaN</td>\n",
              "      <td>NaN</td>\n",
              "      <td>NaN</td>\n",
              "      <td>NaN</td>\n",
              "      <td>NaN</td>\n",
              "      <td>NaN</td>\n",
              "      <td>NaN</td>\n",
              "      <td>770.0</td>\n",
              "      <td>157.0</td>\n",
              "      <td>NaN</td>\n",
              "    </tr>\n",
              "    <tr>\n",
              "      <th>Karantin Tətbiq edilən</th>\n",
              "      <td>NaN</td>\n",
              "      <td>NaN</td>\n",
              "      <td>NaN</td>\n",
              "      <td>NaN</td>\n",
              "      <td>NaN</td>\n",
              "      <td>NaN</td>\n",
              "      <td>NaN</td>\n",
              "      <td>NaN</td>\n",
              "      <td>NaN</td>\n",
              "      <td>NaN</td>\n",
              "      <td>927.0</td>\n",
              "      <td>24.0</td>\n",
              "      <td>NaN</td>\n",
              "    </tr>\n",
              "    <tr>\n",
              "      <th>Müsbət</th>\n",
              "      <td>NaN</td>\n",
              "      <td>NaN</td>\n",
              "      <td>NaN</td>\n",
              "      <td>NaN</td>\n",
              "      <td>NaN</td>\n",
              "      <td>1135.0</td>\n",
              "      <td>1.0</td>\n",
              "      <td>NaN</td>\n",
              "      <td>NaN</td>\n",
              "      <td>NaN</td>\n",
              "      <td>NaN</td>\n",
              "      <td>1.0</td>\n",
              "      <td>NaN</td>\n",
              "    </tr>\n",
              "    <tr>\n",
              "      <th>Mənfi</th>\n",
              "      <td>NaN</td>\n",
              "      <td>NaN</td>\n",
              "      <td>NaN</td>\n",
              "      <td>NaN</td>\n",
              "      <td>168.0</td>\n",
              "      <td>19824.0</td>\n",
              "      <td>57.0</td>\n",
              "      <td>NaN</td>\n",
              "      <td>NaN</td>\n",
              "      <td>NaN</td>\n",
              "      <td>53.0</td>\n",
              "      <td>1.0</td>\n",
              "      <td>NaN</td>\n",
              "    </tr>\n",
              "    <tr>\n",
              "      <th>Uyğun deyil</th>\n",
              "      <td>33.0</td>\n",
              "      <td>NaN</td>\n",
              "      <td>NaN</td>\n",
              "      <td>NaN</td>\n",
              "      <td>NaN</td>\n",
              "      <td>19.0</td>\n",
              "      <td>NaN</td>\n",
              "      <td>2.0</td>\n",
              "      <td>NaN</td>\n",
              "      <td>7.0</td>\n",
              "      <td>20.0</td>\n",
              "      <td>860.0</td>\n",
              "      <td>NaN</td>\n",
              "    </tr>\n",
              "    <tr>\n",
              "      <th>Uyğundur</th>\n",
              "      <td>2354.0</td>\n",
              "      <td>8.0</td>\n",
              "      <td>864.0</td>\n",
              "      <td>28.0</td>\n",
              "      <td>6.0</td>\n",
              "      <td>267.0</td>\n",
              "      <td>NaN</td>\n",
              "      <td>3.0</td>\n",
              "      <td>86.0</td>\n",
              "      <td>1016.0</td>\n",
              "      <td>91804.0</td>\n",
              "      <td>58945.0</td>\n",
              "      <td>NaN</td>\n",
              "    </tr>\n",
              "  </tbody>\n",
              "</table>\n",
              "</div>"
            ],
            "text/plain": [
              "                                   Akt nömrəsi  ...                     \n",
              "numune_novu_improved      Aqrokimyəvi maddələr  ... Yem və yem əlavələri\n",
              "analiz_neticesi                                 ...                     \n",
              "Aşkar edildi                               NaN  ...                  NaN\n",
              "Aşkar edilmədi                             NaN  ...                108.0\n",
              "Faktiki                                   36.0  ...                 11.0\n",
              "Karantin Tətbiq edilməyən                  NaN  ...                  NaN\n",
              "Karantin Tətbiq edilən                     NaN  ...                  NaN\n",
              "Müsbət                                     NaN  ...                  NaN\n",
              "Mənfi                                      NaN  ...                  NaN\n",
              "Uyğun deyil                               33.0  ...                  NaN\n",
              "Uyğundur                                2354.0  ...                  NaN\n",
              "\n",
              "[9 rows x 13 columns]"
            ]
          },
          "metadata": {
            "tags": []
          },
          "execution_count": 106
        }
      ]
    },
    {
      "cell_type": "code",
      "metadata": {
        "id": "lhPWEIQ_7hMM"
      },
      "source": [
        ""
      ],
      "execution_count": null,
      "outputs": []
    },
    {
      "cell_type": "code",
      "metadata": {
        "id": "1bBdHOM37hAc"
      },
      "source": [
        "df.iloc[5]['numunenin_novu'] == \"Heyvan xəstəliklərinin diaqnostikası\""
      ],
      "execution_count": null,
      "outputs": []
    },
    {
      "cell_type": "code",
      "metadata": {
        "id": "grg8H3Cq7g0c"
      },
      "source": [
        "df.to_excel(\"Sentyabr_AQTIS_R000.xlsx\")"
      ],
      "execution_count": null,
      "outputs": []
    },
    {
      "cell_type": "code",
      "metadata": {
        "id": "IwIr9XjX7gms"
      },
      "source": [
        ""
      ],
      "execution_count": null,
      "outputs": []
    },
    {
      "cell_type": "code",
      "metadata": {
        "id": "4eQQ2U7I7fi9"
      },
      "source": [
        ""
      ],
      "execution_count": null,
      "outputs": []
    },
    {
      "cell_type": "code",
      "metadata": {
        "colab": {
          "base_uri": "https://localhost:8080/"
        },
        "id": "FCUKH5UUzEqG",
        "outputId": "7950eef1-8e62-4f9a-e47c-1fccf1ff8ec1"
      },
      "source": [
        "len(df[\n",
        "   (df['numunenin_novu']==\"Qeyri-qida məhsulları\") & \n",
        "   (df['final_groups'] == \"Fitosanitar nəzarət\")\n",
        "   ])"
      ],
      "execution_count": null,
      "outputs": [
        {
          "output_type": "execute_result",
          "data": {
            "text/plain": [
              "95938"
            ]
          },
          "metadata": {
            "tags": []
          },
          "execution_count": 83
        }
      ]
    },
    {
      "cell_type": "code",
      "metadata": {
        "id": "ktMSj10tyA2I"
      },
      "source": [
        "pd.DataFrame(df[\n",
        "   (df['numunenin_novu']==\"Qeyri-qida məhsulları\") & \n",
        "   (df['final_groups'] == \"Fitosanitar nəzarət\")\n",
        "   ][['Məhsul', \"Analiz nəticəsi\"]]).to_excel('abc.xlsx')"
      ],
      "execution_count": null,
      "outputs": []
    },
    {
      "cell_type": "code",
      "metadata": {
        "colab": {
          "base_uri": "https://localhost:8080/",
          "height": 234
        },
        "id": "a_mEwJRUyAs5",
        "outputId": "51da11d0-85dc-4b4b-d0f2-06b46e0e2498"
      },
      "source": [
        "pd.DataFrame(df[\n",
        "   (df['numunenin_novu']==\"Qeyri-qida məhsulları\") & \n",
        "   (df['final_groups'] == \"Fitosanitar nəzarət\")\n",
        "   ]['Laboratoriya'].value_counts())"
      ],
      "execution_count": null,
      "outputs": [
        {
          "output_type": "execute_result",
          "data": {
            "text/html": [
              "<div>\n",
              "<style scoped>\n",
              "    .dataframe tbody tr th:only-of-type {\n",
              "        vertical-align: middle;\n",
              "    }\n",
              "\n",
              "    .dataframe tbody tr th {\n",
              "        vertical-align: top;\n",
              "    }\n",
              "\n",
              "    .dataframe thead th {\n",
              "        text-align: right;\n",
              "    }\n",
              "</style>\n",
              "<table border=\"1\" class=\"dataframe\">\n",
              "  <thead>\n",
              "    <tr style=\"text-align: right;\">\n",
              "      <th></th>\n",
              "      <th>Laboratoriya</th>\n",
              "    </tr>\n",
              "  </thead>\n",
              "  <tbody>\n",
              "    <tr>\n",
              "      <th>Mərkəzi Fitosanitar Laboratoriyası</th>\n",
              "      <td>31982</td>\n",
              "    </tr>\n",
              "    <tr>\n",
              "      <th>Xaçmaz Regional Sınaq Laboratoriyası</th>\n",
              "      <td>26906</td>\n",
              "    </tr>\n",
              "    <tr>\n",
              "      <th>Meyvəli Sınaq Laboratoriyası</th>\n",
              "      <td>18988</td>\n",
              "    </tr>\n",
              "    <tr>\n",
              "      <th>Lənkəran Regional Sınaq Laboratoriyası</th>\n",
              "      <td>9231</td>\n",
              "    </tr>\n",
              "    <tr>\n",
              "      <th>Tovuz Regional Sınaq Laboratoriyası</th>\n",
              "      <td>8830</td>\n",
              "    </tr>\n",
              "    <tr>\n",
              "      <th>Milli Referens Laboratoriyası</th>\n",
              "      <td>1</td>\n",
              "    </tr>\n",
              "  </tbody>\n",
              "</table>\n",
              "</div>"
            ],
            "text/plain": [
              "                                        Laboratoriya\n",
              "Mərkəzi Fitosanitar Laboratoriyası             31982\n",
              "Xaçmaz Regional Sınaq Laboratoriyası           26906\n",
              "Meyvəli Sınaq Laboratoriyası                   18988\n",
              "Lənkəran Regional Sınaq Laboratoriyası          9231\n",
              "Tovuz Regional Sınaq Laboratoriyası             8830\n",
              "Milli Referens Laboratoriyası                      1"
            ]
          },
          "metadata": {
            "tags": []
          },
          "execution_count": 88
        }
      ]
    },
    {
      "cell_type": "code",
      "metadata": {
        "id": "ikpUFsxryAiY"
      },
      "source": [
        ""
      ],
      "execution_count": null,
      "outputs": []
    },
    {
      "cell_type": "code",
      "metadata": {
        "id": "pkuBCN_hyAXZ"
      },
      "source": [
        ""
      ],
      "execution_count": null,
      "outputs": []
    },
    {
      "cell_type": "code",
      "metadata": {
        "id": "tAdC56qKyANZ"
      },
      "source": [
        ""
      ],
      "execution_count": null,
      "outputs": []
    },
    {
      "cell_type": "code",
      "metadata": {
        "id": "POfIMJQiM_Ay"
      },
      "source": [
        "# korona = df[df['Analizin adı'].str.startswith(\"Koron\")]"
      ],
      "execution_count": null,
      "outputs": []
    },
    {
      "cell_type": "code",
      "metadata": {
        "id": "EB2KG0f71zw_"
      },
      "source": [
        "# df[df['Analizin adı'].str.startswith(\"Koron\")]\n",
        "# korona[~korona['Analiz parametri'].str.contains(\"Koron\")]"
      ],
      "execution_count": null,
      "outputs": []
    },
    {
      "cell_type": "code",
      "metadata": {
        "id": "RzEiH-oB0TlQ"
      },
      "source": [
        "# pd.pivot_table(korona, index = ['Analizin adı', \"Analiz nəticəsi\"], \n",
        "#                        columns=['ay_sirasi'], \n",
        "#                values=['Akt nömrəsi'], \n",
        "#                aggfunc=len)"
      ],
      "execution_count": null,
      "outputs": []
    },
    {
      "cell_type": "code",
      "metadata": {
        "id": "iZqr_V4r0tqw"
      },
      "source": [
        "# korona.to_excel(\"korona.xlsx\")"
      ],
      "execution_count": null,
      "outputs": []
    },
    {
      "cell_type": "markdown",
      "metadata": {
        "id": "Gr6W8jOD8EjW"
      },
      "source": [
        "# Kanan Sadigov Hesabati"
      ]
    },
    {
      "cell_type": "code",
      "metadata": {
        "id": "Rhv_1l9FVchh"
      },
      "source": [
        "esas = df"
      ],
      "execution_count": null,
      "outputs": []
    },
    {
      "cell_type": "code",
      "metadata": {
        "id": "jU4eXx-WplqY"
      },
      "source": [
        "df.to_excel(\"R000.xlsx\")"
      ],
      "execution_count": null,
      "outputs": []
    },
    {
      "cell_type": "code",
      "metadata": {
        "id": "d24rBRppqKbI"
      },
      "source": [
        "esas.to_excel(\"R0001.xlsx\")"
      ],
      "execution_count": null,
      "outputs": []
    },
    {
      "cell_type": "code",
      "metadata": {
        "id": "YkRHMdUq3TUV"
      },
      "source": [
        "# df.to_excel('Kanan_Sadigov_Hesabat.xlsx')"
      ],
      "execution_count": null,
      "outputs": []
    },
    {
      "cell_type": "code",
      "metadata": {
        "id": "fkaLqaMvona5"
      },
      "source": [
        "#esas = df"
      ],
      "execution_count": null,
      "outputs": []
    },
    {
      "cell_type": "code",
      "metadata": {
        "id": "BR84lQE_boEi"
      },
      "source": [
        "df = esas"
      ],
      "execution_count": null,
      "outputs": []
    },
    {
      "cell_type": "code",
      "metadata": {
        "id": "lq5ylsZR7HH-"
      },
      "source": [
        "qida = ['Qida məhsulları', \"Molekulyar-biologiya (Polimeraz Zəncirvari Reaksiya)\"]"
      ],
      "execution_count": null,
      "outputs": []
    },
    {
      "cell_type": "code",
      "metadata": {
        "id": "tMEPC7Y5sKip"
      },
      "source": [
        "idxal = ['İdxal']\n",
        "df = df[~df['numunenin_teyinati'].isin(idxal)]"
      ],
      "execution_count": null,
      "outputs": []
    },
    {
      "cell_type": "code",
      "metadata": {
        "id": "pUH5y3XbsKJo"
      },
      "source": [
        "df = df[df['final_groups']==\"Qida təhlükəsizliyi nəzarəti\"]"
      ],
      "execution_count": null,
      "outputs": []
    },
    {
      "cell_type": "code",
      "metadata": {
        "colab": {
          "base_uri": "https://localhost:8080/"
        },
        "id": "FOo08BLl7sGK",
        "outputId": "bb07221b-b770-4eb6-c921-490cd15797ed"
      },
      "source": [
        "len(df)"
      ],
      "execution_count": null,
      "outputs": [
        {
          "output_type": "execute_result",
          "data": {
            "text/plain": [
              "16842"
            ]
          },
          "metadata": {},
          "execution_count": 81
        }
      ]
    },
    {
      "cell_type": "code",
      "metadata": {
        "id": "G2z3Fc5d7SL3"
      },
      "source": [
        "df = df[df['numune_novu_improved'] == \"Qida məhsulları\"]"
      ],
      "execution_count": null,
      "outputs": []
    },
    {
      "cell_type": "code",
      "metadata": {
        "colab": {
          "base_uri": "https://localhost:8080/"
        },
        "id": "qDxq0Jhbbhtw",
        "outputId": "a29e195d-b69a-4cfe-cc23-1ab05a9d8b6d"
      },
      "source": [
        "len(df)"
      ],
      "execution_count": null,
      "outputs": [
        {
          "output_type": "execute_result",
          "data": {
            "text/plain": [
              "16583"
            ]
          },
          "metadata": {},
          "execution_count": 83
        }
      ]
    },
    {
      "cell_type": "code",
      "metadata": {
        "id": "kQCqNKdx7s96"
      },
      "source": [
        "table_1 = df.groupby(by=['Akt nömrəsi', 'Məhsul', \"Analizin adı\", \"Analiz parametri\", 'analiz_neticesi', 'ay_sirasi']).count()"
      ],
      "execution_count": null,
      "outputs": []
    },
    {
      "cell_type": "code",
      "metadata": {
        "id": "jqnKO2YG9j_6"
      },
      "source": [
        "table_1.to_excel(\"table_1.xlsx\")"
      ],
      "execution_count": null,
      "outputs": []
    },
    {
      "cell_type": "code",
      "metadata": {
        "id": "CJtJJPnUAYVz"
      },
      "source": [
        "checkpoint_esas = df"
      ],
      "execution_count": null,
      "outputs": []
    },
    {
      "cell_type": "code",
      "metadata": {
        "colab": {
          "base_uri": "https://localhost:8080/"
        },
        "id": "Rp3ViHXYGKUI",
        "outputId": "39f50206-3c75-4e1c-be8f-bd2892966313"
      },
      "source": [
        "df_less_4 = df[df['ay_sirasi']<4]\n",
        "\n",
        "print(\n",
        "    \"aparilan muayinelerin sayilen\", len(df_less_4)\n",
        ")\n",
        "\n",
        "print(\n",
        "    \"daxil olan mehsullarin sayi\", len(df_less_4.groupby(by=['Akt nömrəsi', 'Məhsul']))\n",
        ")\n",
        "\n",
        "print(\n",
        "    \"Uyğunsuzluq aşkar edilən müayinələrin sayı\", len(df_less_4[df_less_4['analiz_neticesi']==\"Uyğun deyil\"])\n",
        ")\n",
        "\n",
        "print(\n",
        "    len(\n",
        "        df_less_4[df_less_4['analiz_neticesi']==\"Uyğun deyil\"].groupby(by=['Akt nömrəsi', 'Məhsul'])\n",
        "    )\n",
        ")\n",
        "\n",
        "print(\n",
        "    \"E. Coli\", len(df_less_4[\n",
        "          (df_less_4['Analizin adı'].str.contains('coli')) |\n",
        "          (df_less_4['Analiz parametri'].str.contains('coli'))\n",
        "])\n",
        ")\n",
        "\n",
        "print(\n",
        "    \"E. Coli aşkar olunan\",len(df_less_4[\n",
        "          (df_less_4['Analizin adı'].str.contains('coli')) |\n",
        "          (df_less_4['Analiz parametri'].str.contains('coli'))\n",
        "].groupby(by=['Akt nömrəsi', 'Məhsul']))\n",
        ")\n",
        "\n",
        "print(\"monocytogenes\",len(df_less_4[\n",
        "          (df_less_4['Analizin adı'].str.contains('monocytogenes')) |\n",
        "          (df_less_4['Analiz parametri'].str.contains('monocytogenes'))]      \n",
        "))\n",
        "\n",
        "print(\"monocytogenes\",len(df_less_4[\n",
        "          (df_less_4['Analizin adı'].str.contains('monocytogenes')) |\n",
        "          (df_less_4['Analiz parametri'].str.contains('monocytogenes'))].groupby(by=['Akt nömrəsi', 'Məhsul']))      \n",
        ")\n",
        "\n",
        "print(\"salmonella\",len(df_less_4[\n",
        "          (df_less_4['Analizin adı'].str.contains('salmonella')) |\n",
        "          (df_less_4['Analiz parametri'].str.contains('salmonella'))]      \n",
        "))\n",
        "\n",
        "print(\"salmonella\",len(df_less_4[\n",
        "          (df_less_4['Analizin adı'].str.contains('salmonella')) |\n",
        "          (df_less_4['Analiz parametri'].str.contains('salmonella'))].groupby(by=['Akt nömrəsi', 'Məhsul']))      \n",
        ")\n",
        "\n",
        "print(\"Pestisid qalıqları\",len(df_less_4[\n",
        "          (df_less_4['Analizin adı'].str.contains('Pestisid qalıqları')) |\n",
        "          (df_less_4['Analiz parametri'].str.contains('Pestisid qalıqları'))]      \n",
        "))\n",
        "\n",
        "print(\"Pestisid qalıqları\",len(df_less_4[\n",
        "          (df_less_4['Analizin adı'].str.contains('Pestisid qalıqları')) |\n",
        "          (df_less_4['Analiz parametri'].str.contains('Pestisid qalıqları'))].groupby(by=['Akt nömrəsi', 'Məhsul']))      \n",
        ")\n",
        "\n",
        "print(\"ağır metallar\",len(df_less_4[\n",
        "          (df_less_4['Analizin adı'].str.contains('ağır metallar')) |\n",
        "          (df_less_4['Analiz parametri'].str.contains('ağır metallar'))]      \n",
        "))\n",
        "\n",
        "print(\"ağır metallar\",len(df_less_4[\n",
        "          (df_less_4['Analizin adı'].str.contains('ağır metallar')) |\n",
        "          (df_less_4['Analiz parametri'].str.contains('ağır metallar'))].groupby(by=['Akt nömrəsi', 'Məhsul']))      \n",
        ")\n",
        "\n",
        "print(\"aflatoksin\",len(df_less_4[\n",
        "          (df_less_4['Analizin adı'].str.contains('aflatoksin')) |\n",
        "          (df_less_4['Analiz parametri'].str.contains('aflatoksin'))]      \n",
        "))\n",
        "\n",
        "print(\"aflatoksin\",len(df_less_4[\n",
        "          (df_less_4['Analizin adı'].str.contains('aflatoksin')) |\n",
        "          (df_less_4['Analiz parametri'].str.contains('aflatoksin'))].groupby(by=['Akt nömrəsi', 'Məhsul']))      \n",
        ")"
      ],
      "execution_count": null,
      "outputs": [
        {
          "output_type": "stream",
          "name": "stdout",
          "text": [
            "aparilan muayinelerin sayilen 5871\n",
            "daxil olan mehsullarin sayi 1371\n",
            "Uyğunsuzluq aşkar edilən müayinələrin sayı 213\n",
            "120\n",
            "E. Coli 69\n",
            "E. Coli aşkar olunan 22\n",
            "monocytogenes 10\n",
            "monocytogenes 2\n",
            "salmonella 330\n",
            "salmonella 231\n",
            "Pestisid qalıqları 0\n",
            "Pestisid qalıqları 0\n",
            "ağır metallar 0\n",
            "ağır metallar 0\n",
            "aflatoksin 147\n",
            "aflatoksin 109\n"
          ]
        }
      ]
    },
    {
      "cell_type": "code",
      "metadata": {
        "colab": {
          "base_uri": "https://localhost:8080/"
        },
        "id": "DGtDFITBZ9Mz",
        "outputId": "8cc43408-ee36-4c8c-f19d-b6596a4571f3"
      },
      "source": [
        "df_less_4_ecoli = df_less_4[\n",
        "          (df_less_4['Analizin adı'].str.contains('coli')) |\n",
        "          (df_less_4['Analiz parametri'].str.contains('coli'))\n",
        "]\n",
        "\n",
        "df_less_4_ecoli['analiz_neticesi'].value_counts()"
      ],
      "execution_count": null,
      "outputs": [
        {
          "output_type": "execute_result",
          "data": {
            "text/plain": [
              "Faktiki     51\n",
              "Uyğundur    21\n",
              "Name: analiz_neticesi, dtype: int64"
            ]
          },
          "metadata": {
            "tags": []
          },
          "execution_count": 168
        }
      ]
    },
    {
      "cell_type": "code",
      "metadata": {
        "colab": {
          "base_uri": "https://localhost:8080/"
        },
        "id": "oWHqxiMNrRSw",
        "outputId": "ede22220-5760-47a6-80ad-86003edf68cd"
      },
      "source": [
        "df_less_4[\n",
        "          (df_less_4['Analizin adı'].str.contains('monocytogenes')) |\n",
        "          (df_less_4['Analiz parametri'].str.contains('monocytogenes'))]['analiz_neticesi'].value_counts()"
      ],
      "execution_count": null,
      "outputs": [
        {
          "output_type": "execute_result",
          "data": {
            "text/plain": [
              "Uyğundur       11\n",
              "Faktiki         2\n",
              "Uyğun deyil     2\n",
              "Name: analiz_neticesi, dtype: int64"
            ]
          },
          "metadata": {
            "tags": []
          },
          "execution_count": 184
        }
      ]
    },
    {
      "cell_type": "code",
      "metadata": {
        "colab": {
          "base_uri": "https://localhost:8080/"
        },
        "id": "7elmdZUCttpX",
        "outputId": "86efe28f-85c4-47ed-b644-bf9e8e9bcd3b"
      },
      "source": [
        "df_less_4[\n",
        "          (df_less_4['Analizin adı'].str.contains('salmonella')) |\n",
        "          (df_less_4['Analiz parametri'].str.contains('salmonella'))]['analiz_neticesi'].value_counts()"
      ],
      "execution_count": null,
      "outputs": [
        {
          "output_type": "execute_result",
          "data": {
            "text/plain": [
              "Uyğundur       316\n",
              "Faktiki         12\n",
              "Uyğun deyil      2\n",
              "Name: analiz_neticesi, dtype: int64"
            ]
          },
          "metadata": {
            "tags": []
          },
          "execution_count": 188
        }
      ]
    },
    {
      "cell_type": "code",
      "metadata": {
        "colab": {
          "base_uri": "https://localhost:8080/"
        },
        "id": "f336oEm0yXFx",
        "outputId": "c7ebde3d-58c9-4b7a-cd6f-ca2300da188b"
      },
      "source": [
        "df_less_4[\n",
        "          (df_less_4['Analizin adı'].str.contains('Pestisid qalıqları')) |\n",
        "          (df_less_4['Analiz parametri'].str.contains('Pestisid qalıqları'))]['analiz_neticesi'].value_counts()"
      ],
      "execution_count": null,
      "outputs": [
        {
          "output_type": "execute_result",
          "data": {
            "text/plain": [
              "Uyğundur       5105\n",
              "Uyğun deyil      17\n",
              "Name: analiz_neticesi, dtype: int64"
            ]
          },
          "metadata": {
            "tags": []
          },
          "execution_count": 193
        }
      ]
    },
    {
      "cell_type": "code",
      "metadata": {
        "colab": {
          "base_uri": "https://localhost:8080/"
        },
        "id": "ky5rNCmt1Q4h",
        "outputId": "237051f9-d045-4a4a-e8c5-2d839140f8d7"
      },
      "source": [
        "df_less_4[\n",
        "          (df_less_4['Analizin adı'].str.contains('ağır metallar')) |\n",
        "          (df_less_4['Analiz parametri'].str.contains('ağır metallar'))]['analiz_neticesi'].value_counts()"
      ],
      "execution_count": null,
      "outputs": [
        {
          "output_type": "execute_result",
          "data": {
            "text/plain": [
              "Uyğundur    8\n",
              "Name: analiz_neticesi, dtype: int64"
            ]
          },
          "metadata": {
            "tags": []
          },
          "execution_count": 196
        }
      ]
    },
    {
      "cell_type": "code",
      "metadata": {
        "colab": {
          "base_uri": "https://localhost:8080/"
        },
        "id": "jPC7SkrN1xOJ",
        "outputId": "3480e6c7-1b78-4c42-e210-a4525cccc40b"
      },
      "source": [
        "df_less_4[\n",
        "          (df_less_4['Analizin adı'].str.contains('aflatoksin')) |\n",
        "          (df_less_4['Analiz parametri'].str.contains('aflatoksin'))]['analiz_neticesi'].value_counts()"
      ],
      "execution_count": null,
      "outputs": [
        {
          "output_type": "execute_result",
          "data": {
            "text/plain": [
              "Uyğundur       145\n",
              "Uyğun deyil      2\n",
              "Name: analiz_neticesi, dtype: int64"
            ]
          },
          "metadata": {
            "tags": []
          },
          "execution_count": 200
        }
      ]
    },
    {
      "cell_type": "code",
      "metadata": {
        "colab": {
          "base_uri": "https://localhost:8080/"
        },
        "id": "a_YFylp0i14U",
        "outputId": "0a87d516-3d23-4a56-f2f4-fed71d1d44b5"
      },
      "source": [
        "len(df[\n",
        "          (df['Analizin adı'].str.contains('E.coli')) |\n",
        "          (df['Analiz parametri'].str.contains('E.coli'))\n",
        "])"
      ],
      "execution_count": null,
      "outputs": [
        {
          "output_type": "execute_result",
          "data": {
            "text/plain": [
              "899"
            ]
          },
          "metadata": {
            "tags": []
          },
          "execution_count": 162
        }
      ]
    },
    {
      "cell_type": "code",
      "metadata": {
        "id": "D4RgwwCotNSR"
      },
      "source": [
        "df = df[df['ay_sirasi']<7]"
      ],
      "execution_count": null,
      "outputs": []
    },
    {
      "cell_type": "code",
      "metadata": {
        "colab": {
          "base_uri": "https://localhost:8080/"
        },
        "id": "_Z4GJuk4UNGT",
        "outputId": "9d3dccf8-b51b-40ef-e9c1-52b967aa21ee"
      },
      "source": [
        "# 2-ci rub\n",
        "\n",
        "df_higher_3 = df[df['ay_sirasi']>3]\n",
        "\n",
        "print(\n",
        "    \"aparilan muayinelerin sayilen\", len(df[df['ay_sirasi']>3])\n",
        ")\n",
        "\n",
        "print(\n",
        "    \"daxil olan mehsullarin sayi\", len(df[df['ay_sirasi']>3].groupby(by=['Akt nömrəsi', 'Məhsul']))\n",
        ")\n",
        "\n",
        "print(\n",
        "    \"Uyğunsuzluq aşkar edilən müayinələrin sayı\", len(df[(df['ay_sirasi']>3) & (df['analiz_neticesi']==\"Uyğun deyil\")])\n",
        ")\n",
        "\n",
        "print(\n",
        "    len(df[(df['ay_sirasi']>3) & (df['analiz_neticesi']==\"Uyğun deyil\")].groupby(by=['Akt nömrəsi', 'Məhsul']))\n",
        ")\n",
        "\n",
        "\n",
        "print(\n",
        "    \"E. Coli\", len(df_higher_3[\n",
        "          (df_higher_3['Analizin adı'].str.contains('coli')) |\n",
        "          (df_higher_3['Analiz parametri'].str.contains('coli'))\n",
        "])\n",
        ")\n",
        "\n",
        "print(\n",
        "    \"E. Coli aşkar olunan\",len(df_higher_3[\n",
        "          (df_higher_3['Analizin adı'].str.contains('coli')) |\n",
        "          (df_higher_3['Analiz parametri'].str.contains('coli'))\n",
        "].groupby(by=['Akt nömrəsi', 'Məhsul']))\n",
        ")\n",
        "\n",
        "print(\"monocytogenes\",len(df_higher_3[\n",
        "          (df_higher_3['Analizin adı'].str.contains('monocytogenes')) |\n",
        "          (df_higher_3['Analiz parametri'].str.contains('monocytogenes'))]      \n",
        "))\n",
        "\n",
        "print(\"monocytogenes\",len(df_higher_3[\n",
        "          (df_higher_3['Analizin adı'].str.contains('monocytogenes')) |\n",
        "          (df_higher_3['Analiz parametri'].str.contains('monocytogenes'))].groupby(by=['Akt nömrəsi', 'Məhsul']))      \n",
        ")\n",
        "\n",
        "print(\"salmonella\",len(df_higher_3[\n",
        "          (df_higher_3['Analizin adı'].str.contains('salmonella')) |\n",
        "          (df_higher_3['Analiz parametri'].str.contains('salmonella'))]      \n",
        "))\n",
        "\n",
        "print(\"salmonella\",len(df_higher_3[\n",
        "          (df_higher_3['Analizin adı'].str.contains('salmonella')) |\n",
        "          (df_higher_3['Analiz parametri'].str.contains('salmonella'))].groupby(by=['Akt nömrəsi', 'Məhsul']))      \n",
        ")\n",
        "\n",
        "print(\"Pestisid qalıqları\",len(df_higher_3[\n",
        "          (df_higher_3['Analizin adı'].str.contains('Pestisid qalıqları')) |\n",
        "          (df_higher_3['Analiz parametri'].str.contains('Pestisid qalıqları'))]      \n",
        "))\n",
        "\n",
        "print(\"Pestisid qalıqları\",len(df_higher_3[\n",
        "          (df_higher_3['Analizin adı'].str.contains('Pestisid qalıqları')) |\n",
        "          (df_higher_3['Analiz parametri'].str.contains('Pestisid qalıqları'))].groupby(by=['Akt nömrəsi', 'Məhsul']))      \n",
        ")\n",
        "\n",
        "print(\"ağır metallar\",len(df_higher_3[\n",
        "          (df_higher_3['Analizin adı'].str.contains('ağır metallar')) |\n",
        "          (df_higher_3['Analiz parametri'].str.contains('ağır metallar'))]      \n",
        "))\n",
        "\n",
        "print(\"ağır metallar\",len(df_higher_3[\n",
        "          (df_higher_3['Analizin adı'].str.contains('ağır metallar')) |\n",
        "          (df_higher_3['Analiz parametri'].str.contains('ağır metallar'))].groupby(by=['Akt nömrəsi', 'Məhsul']))      \n",
        ")\n",
        "\n",
        "print(\"aflatoksin\",len(df_higher_3[\n",
        "          (df_higher_3['Analizin adı'].str.contains('aflatoksin')) |\n",
        "          (df_higher_3['Analiz parametri'].str.contains('aflatoksin'))]      \n",
        "))\n",
        "\n",
        "print(\"aflatoksin\",len(df_higher_3[\n",
        "          (df_higher_3['Analizin adı'].str.contains('aflatoksin')) |\n",
        "          (df_higher_3['Analiz parametri'].str.contains('aflatoksin'))].groupby(by=['Akt nömrəsi', 'Məhsul']))      \n",
        ")"
      ],
      "execution_count": null,
      "outputs": [
        {
          "output_type": "stream",
          "name": "stdout",
          "text": [
            "aparilan muayinelerin sayilen 7300\n",
            "daxil olan mehsullarin sayi 1592\n",
            "Uyğunsuzluq aşkar edilən müayinələrin sayı 425\n",
            "190\n",
            "E. Coli 801\n",
            "E. Coli aşkar olunan 176\n",
            "monocytogenes 23\n",
            "monocytogenes 19\n",
            "salmonella 477\n",
            "salmonella 234\n",
            "Pestisid qalıqları 0\n",
            "Pestisid qalıqları 0\n",
            "ağır metallar 0\n",
            "ağır metallar 0\n",
            "aflatoksin 32\n",
            "aflatoksin 29\n"
          ]
        }
      ]
    },
    {
      "cell_type": "code",
      "metadata": {
        "colab": {
          "base_uri": "https://localhost:8080/"
        },
        "id": "m_VRGDF6ksJq",
        "outputId": "67150111-0e3c-4fd7-da25-dbbdaf6cbc66"
      },
      "source": [
        "df_higer_3_ecoli = df_higher_3[\n",
        "          (df_higher_3['Analizin adı'].str.contains('coli')) |\n",
        "          (df_higher_3['Analiz parametri'].str.contains('coli'))\n",
        "]\n",
        "\n",
        "df_higer_3_ecoli['analiz_neticesi'].value_counts()"
      ],
      "execution_count": null,
      "outputs": [
        {
          "output_type": "execute_result",
          "data": {
            "text/plain": [
              "Faktiki        700\n",
              "Uyğundur       120\n",
              "Uyğun deyil      7\n",
              "Name: analiz_neticesi, dtype: int64"
            ]
          },
          "metadata": {
            "tags": []
          },
          "execution_count": 172
        }
      ]
    },
    {
      "cell_type": "code",
      "metadata": {
        "colab": {
          "base_uri": "https://localhost:8080/"
        },
        "id": "ZJYQkumMksGL",
        "outputId": "6520b4f9-98ba-4811-bbac-877fcc97af8c"
      },
      "source": [
        "df_higher_3[\n",
        "          (df_higher_3['Analizin adı'].str.contains('monocytogenes')) |\n",
        "          (df_higher_3['Analiz parametri'].str.contains('monocytogenes'))]['analiz_neticesi'].value_counts()"
      ],
      "execution_count": null,
      "outputs": [
        {
          "output_type": "execute_result",
          "data": {
            "text/plain": [
              "Uyğundur    22\n",
              "Faktiki      7\n",
              "Name: analiz_neticesi, dtype: int64"
            ]
          },
          "metadata": {
            "tags": []
          },
          "execution_count": 182
        }
      ]
    },
    {
      "cell_type": "code",
      "metadata": {
        "colab": {
          "base_uri": "https://localhost:8080/"
        },
        "id": "vCEZdHwlksCx",
        "outputId": "ff327e38-f29f-42f1-b534-2ada2ba1357c"
      },
      "source": [
        "df_higher_3[\n",
        "          (df_higher_3['Analizin adı'].str.contains('salmonella')) |\n",
        "          (df_higher_3['Analiz parametri'].str.contains('salmonella'))]['analiz_neticesi'].value_counts()"
      ],
      "execution_count": null,
      "outputs": [
        {
          "output_type": "execute_result",
          "data": {
            "text/plain": [
              "Uyğundur       470\n",
              "Faktiki         15\n",
              "Uyğun deyil      1\n",
              "Name: analiz_neticesi, dtype: int64"
            ]
          },
          "metadata": {
            "tags": []
          },
          "execution_count": 187
        }
      ]
    },
    {
      "cell_type": "code",
      "metadata": {
        "colab": {
          "base_uri": "https://localhost:8080/"
        },
        "id": "4_H8O0pwkr8s",
        "outputId": "4f882277-db77-4a5a-896c-025be1f385fa"
      },
      "source": [
        "df_higher_3[\n",
        "          (df_higher_3['Analizin adı'].str.contains('Pestisid qalıqları')) |\n",
        "          (df_higher_3['Analiz parametri'].str.contains('Pestisid qalıqları'))]['analiz_neticesi'].value_counts()"
      ],
      "execution_count": null,
      "outputs": [
        {
          "output_type": "execute_result",
          "data": {
            "text/plain": [
              "Uyğundur       5859\n",
              "Faktiki          13\n",
              "Uyğun deyil      10\n",
              "Name: analiz_neticesi, dtype: int64"
            ]
          },
          "metadata": {
            "tags": []
          },
          "execution_count": 192
        }
      ]
    },
    {
      "cell_type": "code",
      "metadata": {
        "colab": {
          "base_uri": "https://localhost:8080/"
        },
        "id": "B2mh1sJgkrwt",
        "outputId": "02662379-5fc9-4339-eea9-c3732d0f6ab1"
      },
      "source": [
        "df_higher_3[\n",
        "          (df_higher_3['Analizin adı'].str.contains('ağır metallar')) |\n",
        "          (df_higher_3['Analiz parametri'].str.contains('ağır metallar'))]['analiz_neticesi'].value_counts()"
      ],
      "execution_count": null,
      "outputs": [
        {
          "output_type": "execute_result",
          "data": {
            "text/plain": [
              "Uyğundur    7\n",
              "Faktiki     4\n",
              "Name: analiz_neticesi, dtype: int64"
            ]
          },
          "metadata": {
            "tags": []
          },
          "execution_count": 197
        }
      ]
    },
    {
      "cell_type": "code",
      "metadata": {
        "colab": {
          "base_uri": "https://localhost:8080/"
        },
        "id": "frAHwxK6F_1W",
        "outputId": "87fd9ad7-7f04-4f0e-d5b8-5cb80d51cfc3"
      },
      "source": [
        "df_higher_3[\n",
        "          (df_higher_3['Analizin adı'].str.contains('aflatoksin')) |\n",
        "          (df_higher_3['Analiz parametri'].str.contains('aflatoksin'))]['analiz_neticesi'].value_counts()"
      ],
      "execution_count": null,
      "outputs": [
        {
          "output_type": "execute_result",
          "data": {
            "text/plain": [
              "Uyğundur       31\n",
              "Uyğun deyil     1\n",
              "Name: analiz_neticesi, dtype: int64"
            ]
          },
          "metadata": {
            "tags": []
          },
          "execution_count": 201
        }
      ]
    },
    {
      "cell_type": "code",
      "metadata": {
        "id": "Mlbiq4325Bo4"
      },
      "source": [
        ""
      ],
      "execution_count": null,
      "outputs": []
    }
  ]
}